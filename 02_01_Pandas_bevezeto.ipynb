{
  "cells": [
    {
      "cell_type": "code",
      "execution_count": null,
      "metadata": {
        "id": "ipXPe5SpfMeN"
      },
      "outputs": [],
      "source": []
    },
    {
      "cell_type": "markdown",
      "metadata": {
        "id": "0fry44sT_rAb"
      },
      "source": [
        "# Pandas bevezető\n",
        "\n",
        "Angol nyelvű tananyagok:\n",
        "\n",
        "1. A hivatalos dokumentációhoz tartozó rövid bevezető: http://pandas.pydata.org/pandas-docs/stable/10min.html\n",
        "2. Részletesebb bevezető: https://www.learndatasci.com/tutorials/python-pandas-tutorial-complete-introduction-for-beginners/\n",
        "3. Brandon Rhodes előadása, Pycon 2015: https://www.youtube.com/watch?v=5JnMutdy6Fw"
      ]
    },
    {
      "cell_type": "markdown",
      "metadata": {
        "id": "5f8-NzaB_rAe"
      },
      "source": [
        "# Mi az a pandas?\n",
        "\n",
        "A pandas egy adatkezelő függvénykönyvtár, amit nagymértékben megkönnyiti az adatok kezelését, az adatbányászat [adattisztítás](https://hu.wikipedia.org/wiki/Adattiszt%C3%ADt%C3%A1s) és adatintegráció lépéseit. Az adatokat táblázatos formában kezeli. A táblázatoknak van fejlécük és indexük. Heterogén adatokat tárolhatunk: szöveges, számadat, igazságérték, dátum stb. Az adatok típusa egy oszlopon belül sem kell, hogy azonos legyen.\n",
        "\n",
        "A pandas remekül együttműködik a Python gépi tanuló könyvtárával (scikit-learn) és a legelterjedtebb vizualizációs könyvtárakkal (matplotlib, seaborn)."
      ]
    },
    {
      "cell_type": "code",
      "execution_count": 191,
      "metadata": {
        "id": "faF_C-8X_rAf"
      },
      "outputs": [],
      "source": [
        "import pandas as pd  # konvenció szerint pd aliast szoktunk használni\n",
        "%matplotlib inline\n",
        "import matplotlib\n",
        "import numpy as np\n",
        "\n",
        "# tegyük szebbé a grafikonokat\n",
        "matplotlib.style.use('ggplot')\n",
        "matplotlib.pyplot.rcParams['figure.figsize'] = (15, 3)\n",
        "matplotlib.pyplot.rcParams['font.family'] = 'sans-serif'"
      ]
    },
    {
      "cell_type": "code",
      "execution_count": 192,
      "metadata": {
        "colab": {
          "base_uri": "https://localhost:8080/",
          "height": 269
        },
        "id": "_w9yFOdX_rAj",
        "outputId": "f78c2a51-548a-40c0-cdf0-dce98af12661"
      },
      "outputs": [
        {
          "data": {
            "text/html": [
              "<div>\n",
              "<style scoped>\n",
              "    .dataframe tbody tr th:only-of-type {\n",
              "        vertical-align: middle;\n",
              "    }\n",
              "\n",
              "    .dataframe tbody tr th {\n",
              "        vertical-align: top;\n",
              "    }\n",
              "\n",
              "    .dataframe thead th {\n",
              "        text-align: right;\n",
              "    }\n",
              "</style>\n",
              "<table border=\"1\" class=\"dataframe\">\n",
              "  <thead>\n",
              "    <tr style=\"text-align: right;\">\n",
              "      <th></th>\n",
              "      <th>subject</th>\n",
              "      <th>grade</th>\n",
              "      <th>teacher</th>\n",
              "      <th>semester</th>\n",
              "    </tr>\n",
              "  </thead>\n",
              "  <tbody>\n",
              "    <tr>\n",
              "      <th>0</th>\n",
              "      <td>analízis 1</td>\n",
              "      <td>3</td>\n",
              "      <td>a</td>\n",
              "      <td>1</td>\n",
              "    </tr>\n",
              "    <tr>\n",
              "      <th>1</th>\n",
              "      <td>digitális technika 1</td>\n",
              "      <td>4</td>\n",
              "      <td>b</td>\n",
              "      <td>1</td>\n",
              "    </tr>\n",
              "    <tr>\n",
              "      <th>2</th>\n",
              "      <td>fizika 1</td>\n",
              "      <td>3</td>\n",
              "      <td>a</td>\n",
              "      <td>2</td>\n",
              "    </tr>\n",
              "    <tr>\n",
              "      <th>3</th>\n",
              "      <td>mikmak</td>\n",
              "      <td>2</td>\n",
              "      <td>c</td>\n",
              "      <td>2</td>\n",
              "    </tr>\n",
              "    <tr>\n",
              "      <th>4</th>\n",
              "      <td>programozás alapjai 1</td>\n",
              "      <td>5</td>\n",
              "      <td>d</td>\n",
              "      <td>1</td>\n",
              "    </tr>\n",
              "    <tr>\n",
              "      <th>5</th>\n",
              "      <td>szoftvertechonológia</td>\n",
              "      <td>1</td>\n",
              "      <td>d</td>\n",
              "      <td>3</td>\n",
              "    </tr>\n",
              "    <tr>\n",
              "      <th>6</th>\n",
              "      <td>bevezetés a számításelméletbe 1</td>\n",
              "      <td>4</td>\n",
              "      <td>d</td>\n",
              "      <td>1</td>\n",
              "    </tr>\n",
              "  </tbody>\n",
              "</table>\n",
              "</div>"
            ],
            "text/plain": [
              "                           subject  grade teacher  semester\n",
              "0                       analízis 1      3       a         1\n",
              "1             digitális technika 1      4       b         1\n",
              "2                         fizika 1      3       a         2\n",
              "3                           mikmak      2       c         2\n",
              "4            programozás alapjai 1      5       d         1\n",
              "5             szoftvertechonológia      1       d         3\n",
              "6  bevezetés a számításelméletbe 1      4       d         1"
            ]
          },
          "execution_count": 192,
          "metadata": {},
          "output_type": "execute_result"
        }
      ],
      "source": [
        "grades = pd.DataFrame(\n",
        "    {\n",
        "        'subject': ['analízis 1', 'digitális technika 1', \n",
        "                    'fizika 1', 'mikmak', 'programozás alapjai 1', 'szoftvertechonológia',\n",
        "                   'bevezetés a számításelméletbe 1'],\n",
        "        'grade': [3, 4, 3, 2, 5, 1, 4],\n",
        "        'teacher': ['a', 'b', 'a', 'c', 'd', 'd', 'd'],\n",
        "        'semester': [1, 1, 2, 2, 1, 3, 1],\n",
        "    }\n",
        ")\n",
        "grades"
      ]
    },
    {
      "cell_type": "markdown",
      "metadata": {
        "id": "_igsrOk9_rAm"
      },
      "source": [
        "A DataFrame elejét a .head függvénnyel, a végét a .tail-lel nézhetjük meg. Ennek akkor van jelentősége, ha nagy táblázatokkal dolgozunk."
      ]
    },
    {
      "cell_type": "code",
      "execution_count": 193,
      "metadata": {
        "colab": {
          "base_uri": "https://localhost:8080/",
          "height": 206
        },
        "id": "WaXod5mR_rAn",
        "outputId": "deeb1841-2e7f-4d3a-daad-7744922185d2"
      },
      "outputs": [
        {
          "data": {
            "text/html": [
              "<div>\n",
              "<style scoped>\n",
              "    .dataframe tbody tr th:only-of-type {\n",
              "        vertical-align: middle;\n",
              "    }\n",
              "\n",
              "    .dataframe tbody tr th {\n",
              "        vertical-align: top;\n",
              "    }\n",
              "\n",
              "    .dataframe thead th {\n",
              "        text-align: right;\n",
              "    }\n",
              "</style>\n",
              "<table border=\"1\" class=\"dataframe\">\n",
              "  <thead>\n",
              "    <tr style=\"text-align: right;\">\n",
              "      <th></th>\n",
              "      <th>subject</th>\n",
              "      <th>grade</th>\n",
              "      <th>teacher</th>\n",
              "      <th>semester</th>\n",
              "    </tr>\n",
              "  </thead>\n",
              "  <tbody>\n",
              "    <tr>\n",
              "      <th>0</th>\n",
              "      <td>analízis 1</td>\n",
              "      <td>3</td>\n",
              "      <td>a</td>\n",
              "      <td>1</td>\n",
              "    </tr>\n",
              "    <tr>\n",
              "      <th>1</th>\n",
              "      <td>digitális technika 1</td>\n",
              "      <td>4</td>\n",
              "      <td>b</td>\n",
              "      <td>1</td>\n",
              "    </tr>\n",
              "    <tr>\n",
              "      <th>2</th>\n",
              "      <td>fizika 1</td>\n",
              "      <td>3</td>\n",
              "      <td>a</td>\n",
              "      <td>2</td>\n",
              "    </tr>\n",
              "    <tr>\n",
              "      <th>3</th>\n",
              "      <td>mikmak</td>\n",
              "      <td>2</td>\n",
              "      <td>c</td>\n",
              "      <td>2</td>\n",
              "    </tr>\n",
              "    <tr>\n",
              "      <th>4</th>\n",
              "      <td>programozás alapjai 1</td>\n",
              "      <td>5</td>\n",
              "      <td>d</td>\n",
              "      <td>1</td>\n",
              "    </tr>\n",
              "  </tbody>\n",
              "</table>\n",
              "</div>"
            ],
            "text/plain": [
              "                 subject  grade teacher  semester\n",
              "0             analízis 1      3       a         1\n",
              "1   digitális technika 1      4       b         1\n",
              "2               fizika 1      3       a         2\n",
              "3                 mikmak      2       c         2\n",
              "4  programozás alapjai 1      5       d         1"
            ]
          },
          "execution_count": 193,
          "metadata": {},
          "output_type": "execute_result"
        }
      ],
      "source": [
        "grades.head()"
      ]
    },
    {
      "cell_type": "markdown",
      "metadata": {
        "id": "poBHI5D__rAq"
      },
      "source": [
        "Alapértelmezetten 5 sort ír ki, de megadhatjuk paraméterként pontosan hány sort szeretnénk látni."
      ]
    },
    {
      "cell_type": "code",
      "execution_count": 194,
      "metadata": {
        "colab": {
          "base_uri": "https://localhost:8080/",
          "height": 112
        },
        "id": "5EIudqcN_rAq",
        "outputId": "2584ca29-19c3-44b6-90df-05e95519f43a"
      },
      "outputs": [
        {
          "data": {
            "text/html": [
              "<div>\n",
              "<style scoped>\n",
              "    .dataframe tbody tr th:only-of-type {\n",
              "        vertical-align: middle;\n",
              "    }\n",
              "\n",
              "    .dataframe tbody tr th {\n",
              "        vertical-align: top;\n",
              "    }\n",
              "\n",
              "    .dataframe thead th {\n",
              "        text-align: right;\n",
              "    }\n",
              "</style>\n",
              "<table border=\"1\" class=\"dataframe\">\n",
              "  <thead>\n",
              "    <tr style=\"text-align: right;\">\n",
              "      <th></th>\n",
              "      <th>subject</th>\n",
              "      <th>grade</th>\n",
              "      <th>teacher</th>\n",
              "      <th>semester</th>\n",
              "    </tr>\n",
              "  </thead>\n",
              "  <tbody>\n",
              "    <tr>\n",
              "      <th>5</th>\n",
              "      <td>szoftvertechonológia</td>\n",
              "      <td>1</td>\n",
              "      <td>d</td>\n",
              "      <td>3</td>\n",
              "    </tr>\n",
              "    <tr>\n",
              "      <th>6</th>\n",
              "      <td>bevezetés a számításelméletbe 1</td>\n",
              "      <td>4</td>\n",
              "      <td>d</td>\n",
              "      <td>1</td>\n",
              "    </tr>\n",
              "  </tbody>\n",
              "</table>\n",
              "</div>"
            ],
            "text/plain": [
              "                           subject  grade teacher  semester\n",
              "5             szoftvertechonológia      1       d         3\n",
              "6  bevezetés a számításelméletbe 1      4       d         1"
            ]
          },
          "execution_count": 194,
          "metadata": {},
          "output_type": "execute_result"
        }
      ],
      "source": [
        "grades.tail(2)"
      ]
    },
    {
      "cell_type": "markdown",
      "metadata": {
        "id": "C0qUdubZ_rAt"
      },
      "source": [
        "# Egyszerű navigálás a DataFrame-ben"
      ]
    },
    {
      "cell_type": "markdown",
      "metadata": {
        "id": "fVFf_YLs_rAu"
      },
      "source": [
        "Fontos megemlíteni, hogy minden művelet egy új DataFrame-mel tér vissza, beleértve a `head` és a `tail` függvényeket is, azonban ezek az új DataFrame-ek nem tényleges másolatok, hanem csak ún. slice-ok az eredetiből. A `copy` függénnyel tudunk másolatot készíteni.\n",
        "\n",
        "A táblázat első oszlopa kitüntetett, ez a DataFrame indexe, ezzel tudjuk azonosítani a sorokat. Ugyan nem követelmény, hogy unikus legyen, de praktikus unikusra választani. Egynél több oszlopot is használhatunk indexként (multiindex)."
      ]
    },
    {
      "cell_type": "markdown",
      "metadata": {
        "id": "jh-Ssq96_rAv"
      },
      "source": [
        "## Oszlopok kiválasztása\n",
        "\n",
        "Lekérhetünk csak bizonyos oszlopokat, ekkor egy új DataFrame-et kapunk, ami a választott oszlopokat tartalmazza csak. Egy oszlopot a szögletes zárójelekkel tudunk indexelni."
      ]
    },
    {
      "cell_type": "code",
      "execution_count": 195,
      "metadata": {
        "colab": {
          "base_uri": "https://localhost:8080/"
        },
        "id": "VmCOfBby_rAw",
        "outputId": "193748e8-b0c0-4572-c23f-8df31526ef94"
      },
      "outputs": [
        {
          "data": {
            "text/plain": [
              "0    a\n",
              "1    b\n",
              "2    a\n",
              "3    c\n",
              "4    d\n",
              "5    d\n",
              "6    d\n",
              "Name: teacher, dtype: object"
            ]
          },
          "execution_count": 195,
          "metadata": {},
          "output_type": "execute_result"
        }
      ],
      "source": [
        "grades['teacher']"
      ]
    },
    {
      "cell_type": "markdown",
      "metadata": {
        "id": "yee-WeDp_rAy"
      },
      "source": [
        "Amennyiben az oszlop neve nem tartalmaz szóközöket, attribútumként is elérjük."
      ]
    },
    {
      "cell_type": "code",
      "execution_count": 196,
      "metadata": {
        "colab": {
          "base_uri": "https://localhost:8080/"
        },
        "id": "t_6XEK9Z_rAz",
        "outputId": "c32f3ada-6a2a-4c18-c202-237f4c1169eb"
      },
      "outputs": [
        {
          "data": {
            "text/plain": [
              "0    a\n",
              "1    b\n",
              "2    a\n",
              "3    c\n",
              "4    d\n",
              "5    d\n",
              "6    d\n",
              "Name: teacher, dtype: object"
            ]
          },
          "execution_count": 196,
          "metadata": {},
          "output_type": "execute_result"
        }
      ],
      "source": [
        "grades.teacher"
      ]
    },
    {
      "cell_type": "markdown",
      "metadata": {
        "id": "FdfnNWRf_rA1"
      },
      "source": [
        "A kapott eredmény nem tűnik táblázatnak és valóban más típusú"
      ]
    },
    {
      "cell_type": "code",
      "execution_count": 197,
      "metadata": {
        "colab": {
          "base_uri": "https://localhost:8080/"
        },
        "id": "OqQGnoG4_rA2",
        "outputId": "86bb9000-1675-494f-e10a-479b4bd26b8b"
      },
      "outputs": [
        {
          "data": {
            "text/plain": [
              "pandas.core.series.Series"
            ]
          },
          "execution_count": 197,
          "metadata": {},
          "output_type": "execute_result"
        }
      ],
      "source": [
        "type(grades.teacher)"
      ]
    },
    {
      "cell_type": "markdown",
      "metadata": {
        "id": "jwoXXPcF_rA6"
      },
      "source": [
        "Amikor a dimenziók száma egyre csökken, `Series` objektumot kapunk vissza."
      ]
    },
    {
      "cell_type": "markdown",
      "metadata": {
        "id": "t8BoAwBF_rA7"
      },
      "source": [
        "Egynél több oszlop kiválasztásánál dupla zárójelet kell használni."
      ]
    },
    {
      "cell_type": "code",
      "execution_count": 198,
      "metadata": {
        "colab": {
          "base_uri": "https://localhost:8080/",
          "height": 269
        },
        "id": "bkeNtBtI_rA7",
        "outputId": "2c919e8a-c296-4426-da4a-bc4236eada66"
      },
      "outputs": [
        {
          "data": {
            "text/html": [
              "<div>\n",
              "<style scoped>\n",
              "    .dataframe tbody tr th:only-of-type {\n",
              "        vertical-align: middle;\n",
              "    }\n",
              "\n",
              "    .dataframe tbody tr th {\n",
              "        vertical-align: top;\n",
              "    }\n",
              "\n",
              "    .dataframe thead th {\n",
              "        text-align: right;\n",
              "    }\n",
              "</style>\n",
              "<table border=\"1\" class=\"dataframe\">\n",
              "  <thead>\n",
              "    <tr style=\"text-align: right;\">\n",
              "      <th></th>\n",
              "      <th>grade</th>\n",
              "      <th>teacher</th>\n",
              "    </tr>\n",
              "  </thead>\n",
              "  <tbody>\n",
              "    <tr>\n",
              "      <th>0</th>\n",
              "      <td>3</td>\n",
              "      <td>a</td>\n",
              "    </tr>\n",
              "    <tr>\n",
              "      <th>1</th>\n",
              "      <td>4</td>\n",
              "      <td>b</td>\n",
              "    </tr>\n",
              "    <tr>\n",
              "      <th>2</th>\n",
              "      <td>3</td>\n",
              "      <td>a</td>\n",
              "    </tr>\n",
              "    <tr>\n",
              "      <th>3</th>\n",
              "      <td>2</td>\n",
              "      <td>c</td>\n",
              "    </tr>\n",
              "    <tr>\n",
              "      <th>4</th>\n",
              "      <td>5</td>\n",
              "      <td>d</td>\n",
              "    </tr>\n",
              "    <tr>\n",
              "      <th>5</th>\n",
              "      <td>1</td>\n",
              "      <td>d</td>\n",
              "    </tr>\n",
              "    <tr>\n",
              "      <th>6</th>\n",
              "      <td>4</td>\n",
              "      <td>d</td>\n",
              "    </tr>\n",
              "  </tbody>\n",
              "</table>\n",
              "</div>"
            ],
            "text/plain": [
              "   grade teacher\n",
              "0      3       a\n",
              "1      4       b\n",
              "2      3       a\n",
              "3      2       c\n",
              "4      5       d\n",
              "5      1       d\n",
              "6      4       d"
            ]
          },
          "execution_count": 198,
          "metadata": {},
          "output_type": "execute_result"
        }
      ],
      "source": [
        "grades[['grade', 'teacher']]"
      ]
    },
    {
      "cell_type": "markdown",
      "metadata": {
        "id": "04Xhx-Zx_rA-"
      },
      "source": [
        "Valójában az `[]` operátor indexének típusa alapján dől el, hogy milyen típust kapunk vissza.\n",
        "Egy oszlopból is készíthethünk `DataFrame`-et `Series` helyett, ha listaként kérdezzük le:"
      ]
    },
    {
      "cell_type": "code",
      "execution_count": 199,
      "metadata": {
        "colab": {
          "base_uri": "https://localhost:8080/",
          "height": 286
        },
        "id": "Eb3Z8W6P_rA-",
        "outputId": "c34cae2f-78a0-46f4-ab75-c6b6b8e1be34"
      },
      "outputs": [
        {
          "name": "stdout",
          "output_type": "stream",
          "text": [
            "<class 'pandas.core.frame.DataFrame'>\n"
          ]
        },
        {
          "data": {
            "text/html": [
              "<div>\n",
              "<style scoped>\n",
              "    .dataframe tbody tr th:only-of-type {\n",
              "        vertical-align: middle;\n",
              "    }\n",
              "\n",
              "    .dataframe tbody tr th {\n",
              "        vertical-align: top;\n",
              "    }\n",
              "\n",
              "    .dataframe thead th {\n",
              "        text-align: right;\n",
              "    }\n",
              "</style>\n",
              "<table border=\"1\" class=\"dataframe\">\n",
              "  <thead>\n",
              "    <tr style=\"text-align: right;\">\n",
              "      <th></th>\n",
              "      <th>grade</th>\n",
              "    </tr>\n",
              "  </thead>\n",
              "  <tbody>\n",
              "    <tr>\n",
              "      <th>0</th>\n",
              "      <td>3</td>\n",
              "    </tr>\n",
              "    <tr>\n",
              "      <th>1</th>\n",
              "      <td>4</td>\n",
              "    </tr>\n",
              "    <tr>\n",
              "      <th>2</th>\n",
              "      <td>3</td>\n",
              "    </tr>\n",
              "    <tr>\n",
              "      <th>3</th>\n",
              "      <td>2</td>\n",
              "    </tr>\n",
              "    <tr>\n",
              "      <th>4</th>\n",
              "      <td>5</td>\n",
              "    </tr>\n",
              "    <tr>\n",
              "      <th>5</th>\n",
              "      <td>1</td>\n",
              "    </tr>\n",
              "    <tr>\n",
              "      <th>6</th>\n",
              "      <td>4</td>\n",
              "    </tr>\n",
              "  </tbody>\n",
              "</table>\n",
              "</div>"
            ],
            "text/plain": [
              "   grade\n",
              "0      3\n",
              "1      4\n",
              "2      3\n",
              "3      2\n",
              "4      5\n",
              "5      1\n",
              "6      4"
            ]
          },
          "execution_count": 199,
          "metadata": {},
          "output_type": "execute_result"
        }
      ],
      "source": [
        "print(type(grades[['grade']]))\n",
        "grades[['grade']]"
      ]
    },
    {
      "cell_type": "markdown",
      "metadata": {
        "id": "x--7QoTY_rBB"
      },
      "source": [
        "## Sorok kiválasztása\n",
        "\n",
        "A sorokat többféleképpen indexelhetjük:\n",
        "1. index szerint\n",
        "2. sorszám szerint\n",
        "\n",
        "Mielőtt index szerint kérdeznénk le egy sort, állítsuk át az indexet valami beszédesebbre."
      ]
    },
    {
      "cell_type": "code",
      "execution_count": 200,
      "metadata": {
        "colab": {
          "base_uri": "https://localhost:8080/",
          "height": 0
        },
        "id": "D5_rcx-n_rBB",
        "outputId": "442d044d-c017-42bc-f7dc-740d89d374ca"
      },
      "outputs": [
        {
          "data": {
            "text/html": [
              "<div>\n",
              "<style scoped>\n",
              "    .dataframe tbody tr th:only-of-type {\n",
              "        vertical-align: middle;\n",
              "    }\n",
              "\n",
              "    .dataframe tbody tr th {\n",
              "        vertical-align: top;\n",
              "    }\n",
              "\n",
              "    .dataframe thead th {\n",
              "        text-align: right;\n",
              "    }\n",
              "</style>\n",
              "<table border=\"1\" class=\"dataframe\">\n",
              "  <thead>\n",
              "    <tr style=\"text-align: right;\">\n",
              "      <th></th>\n",
              "      <th>grade</th>\n",
              "      <th>teacher</th>\n",
              "      <th>semester</th>\n",
              "    </tr>\n",
              "    <tr>\n",
              "      <th>subject</th>\n",
              "      <th></th>\n",
              "      <th></th>\n",
              "      <th></th>\n",
              "    </tr>\n",
              "  </thead>\n",
              "  <tbody>\n",
              "    <tr>\n",
              "      <th>analízis 1</th>\n",
              "      <td>3</td>\n",
              "      <td>a</td>\n",
              "      <td>1</td>\n",
              "    </tr>\n",
              "    <tr>\n",
              "      <th>digitális technika 1</th>\n",
              "      <td>4</td>\n",
              "      <td>b</td>\n",
              "      <td>1</td>\n",
              "    </tr>\n",
              "    <tr>\n",
              "      <th>fizika 1</th>\n",
              "      <td>3</td>\n",
              "      <td>a</td>\n",
              "      <td>2</td>\n",
              "    </tr>\n",
              "    <tr>\n",
              "      <th>mikmak</th>\n",
              "      <td>2</td>\n",
              "      <td>c</td>\n",
              "      <td>2</td>\n",
              "    </tr>\n",
              "    <tr>\n",
              "      <th>programozás alapjai 1</th>\n",
              "      <td>5</td>\n",
              "      <td>d</td>\n",
              "      <td>1</td>\n",
              "    </tr>\n",
              "    <tr>\n",
              "      <th>szoftvertechonológia</th>\n",
              "      <td>1</td>\n",
              "      <td>d</td>\n",
              "      <td>3</td>\n",
              "    </tr>\n",
              "    <tr>\n",
              "      <th>bevezetés a számításelméletbe 1</th>\n",
              "      <td>4</td>\n",
              "      <td>d</td>\n",
              "      <td>1</td>\n",
              "    </tr>\n",
              "  </tbody>\n",
              "</table>\n",
              "</div>"
            ],
            "text/plain": [
              "                                 grade teacher  semester\n",
              "subject                                                 \n",
              "analízis 1                           3       a         1\n",
              "digitális technika 1                 4       b         1\n",
              "fizika 1                             3       a         2\n",
              "mikmak                               2       c         2\n",
              "programozás alapjai 1                5       d         1\n",
              "szoftvertechonológia                 1       d         3\n",
              "bevezetés a számításelméletbe 1      4       d         1"
            ]
          },
          "execution_count": 200,
          "metadata": {},
          "output_type": "execute_result"
        }
      ],
      "source": [
        "grades = grades.set_index('subject')\n",
        "grades"
      ]
    },
    {
      "cell_type": "code",
      "execution_count": 201,
      "metadata": {
        "colab": {
          "base_uri": "https://localhost:8080/"
        },
        "id": "RtymqEYJ_rBD",
        "outputId": "45b85655-d09f-4bf3-d9b5-da3ee480b286"
      },
      "outputs": [
        {
          "data": {
            "text/plain": [
              "grade       3\n",
              "teacher     a\n",
              "semester    2\n",
              "Name: fizika 1, dtype: object"
            ]
          },
          "execution_count": 201,
          "metadata": {},
          "output_type": "execute_result"
        }
      ],
      "source": [
        "grades.loc['fizika 1']  # a loc után [] kell!"
      ]
    },
    {
      "cell_type": "markdown",
      "metadata": {
        "id": "r2ok0ELk_rBG"
      },
      "source": [
        "Mivel egyetlen sort kértünk, megint `Series` objektumot kapunk."
      ]
    },
    {
      "cell_type": "code",
      "execution_count": 202,
      "metadata": {
        "colab": {
          "base_uri": "https://localhost:8080/"
        },
        "id": "tcn5QG9k_rBH",
        "outputId": "c9fdc733-6488-4755-df7e-2cad605b12d8"
      },
      "outputs": [
        {
          "data": {
            "text/plain": [
              "pandas.core.series.Series"
            ]
          },
          "execution_count": 202,
          "metadata": {},
          "output_type": "execute_result"
        }
      ],
      "source": [
        "type(grades.loc['fizika 1'])"
      ]
    },
    {
      "cell_type": "markdown",
      "metadata": {
        "id": "9aNVJUDu_rBJ"
      },
      "source": [
        "A Series egy egydimenziós adatsor, gondolhatunk rá úgy, mint a DataFrame egy sorára."
      ]
    },
    {
      "cell_type": "markdown",
      "metadata": {
        "id": "Uzbp23DT_rBK"
      },
      "source": [
        "## Indexelés sor szerint"
      ]
    },
    {
      "cell_type": "code",
      "execution_count": 203,
      "metadata": {
        "colab": {
          "base_uri": "https://localhost:8080/",
          "height": 0
        },
        "id": "ZUDKBTge_rBK",
        "outputId": "304d9d6f-c995-4591-aa01-211862d730ae"
      },
      "outputs": [
        {
          "data": {
            "text/html": [
              "<div>\n",
              "<style scoped>\n",
              "    .dataframe tbody tr th:only-of-type {\n",
              "        vertical-align: middle;\n",
              "    }\n",
              "\n",
              "    .dataframe tbody tr th {\n",
              "        vertical-align: top;\n",
              "    }\n",
              "\n",
              "    .dataframe thead th {\n",
              "        text-align: right;\n",
              "    }\n",
              "</style>\n",
              "<table border=\"1\" class=\"dataframe\">\n",
              "  <thead>\n",
              "    <tr style=\"text-align: right;\">\n",
              "      <th></th>\n",
              "      <th>grade</th>\n",
              "      <th>teacher</th>\n",
              "      <th>semester</th>\n",
              "    </tr>\n",
              "    <tr>\n",
              "      <th>subject</th>\n",
              "      <th></th>\n",
              "      <th></th>\n",
              "      <th></th>\n",
              "    </tr>\n",
              "  </thead>\n",
              "  <tbody>\n",
              "    <tr>\n",
              "      <th>digitális technika 1</th>\n",
              "      <td>4</td>\n",
              "      <td>b</td>\n",
              "      <td>1</td>\n",
              "    </tr>\n",
              "    <tr>\n",
              "      <th>fizika 1</th>\n",
              "      <td>3</td>\n",
              "      <td>a</td>\n",
              "      <td>2</td>\n",
              "    </tr>\n",
              "  </tbody>\n",
              "</table>\n",
              "</div>"
            ],
            "text/plain": [
              "                      grade teacher  semester\n",
              "subject                                      \n",
              "digitális technika 1      4       b         1\n",
              "fizika 1                  3       a         2"
            ]
          },
          "execution_count": 203,
          "metadata": {},
          "output_type": "execute_result"
        }
      ],
      "source": [
        "grades.iloc[1:3]  # utolsó index nincs benne, [1, 3)"
      ]
    },
    {
      "cell_type": "markdown",
      "metadata": {
        "id": "xpgEmtmP_rBM"
      },
      "source": [
        "### Oszlopok kiválasztása az `iloc` segítségével"
      ]
    },
    {
      "cell_type": "code",
      "execution_count": 204,
      "metadata": {
        "colab": {
          "base_uri": "https://localhost:8080/",
          "height": 0
        },
        "id": "CXD2uiNG_rBN",
        "outputId": "0fff822e-58f5-4298-bfa0-3f68719262f9"
      },
      "outputs": [
        {
          "data": {
            "text/html": [
              "<div>\n",
              "<style scoped>\n",
              "    .dataframe tbody tr th:only-of-type {\n",
              "        vertical-align: middle;\n",
              "    }\n",
              "\n",
              "    .dataframe tbody tr th {\n",
              "        vertical-align: top;\n",
              "    }\n",
              "\n",
              "    .dataframe thead th {\n",
              "        text-align: right;\n",
              "    }\n",
              "</style>\n",
              "<table border=\"1\" class=\"dataframe\">\n",
              "  <thead>\n",
              "    <tr style=\"text-align: right;\">\n",
              "      <th></th>\n",
              "      <th>grade</th>\n",
              "      <th>semester</th>\n",
              "    </tr>\n",
              "    <tr>\n",
              "      <th>subject</th>\n",
              "      <th></th>\n",
              "      <th></th>\n",
              "    </tr>\n",
              "  </thead>\n",
              "  <tbody>\n",
              "    <tr>\n",
              "      <th>analízis 1</th>\n",
              "      <td>3</td>\n",
              "      <td>1</td>\n",
              "    </tr>\n",
              "    <tr>\n",
              "      <th>digitális technika 1</th>\n",
              "      <td>4</td>\n",
              "      <td>1</td>\n",
              "    </tr>\n",
              "    <tr>\n",
              "      <th>fizika 1</th>\n",
              "      <td>3</td>\n",
              "      <td>2</td>\n",
              "    </tr>\n",
              "    <tr>\n",
              "      <th>mikmak</th>\n",
              "      <td>2</td>\n",
              "      <td>2</td>\n",
              "    </tr>\n",
              "    <tr>\n",
              "      <th>programozás alapjai 1</th>\n",
              "      <td>5</td>\n",
              "      <td>1</td>\n",
              "    </tr>\n",
              "    <tr>\n",
              "      <th>szoftvertechonológia</th>\n",
              "      <td>1</td>\n",
              "      <td>3</td>\n",
              "    </tr>\n",
              "    <tr>\n",
              "      <th>bevezetés a számításelméletbe 1</th>\n",
              "      <td>4</td>\n",
              "      <td>1</td>\n",
              "    </tr>\n",
              "  </tbody>\n",
              "</table>\n",
              "</div>"
            ],
            "text/plain": [
              "                                 grade  semester\n",
              "subject                                         \n",
              "analízis 1                           3         1\n",
              "digitális technika 1                 4         1\n",
              "fizika 1                             3         2\n",
              "mikmak                               2         2\n",
              "programozás alapjai 1                5         1\n",
              "szoftvertechonológia                 1         3\n",
              "bevezetés a számításelméletbe 1      4         1"
            ]
          },
          "execution_count": 204,
          "metadata": {},
          "output_type": "execute_result"
        }
      ],
      "source": [
        "grades.iloc[:, [0, 2]]"
      ]
    },
    {
      "cell_type": "code",
      "execution_count": 205,
      "metadata": {
        "colab": {
          "base_uri": "https://localhost:8080/",
          "height": 0
        },
        "id": "beobw-S-_rBP",
        "outputId": "1db70673-5ad0-49ba-e6ac-8467a9b191ec"
      },
      "outputs": [
        {
          "data": {
            "text/html": [
              "<div>\n",
              "<style scoped>\n",
              "    .dataframe tbody tr th:only-of-type {\n",
              "        vertical-align: middle;\n",
              "    }\n",
              "\n",
              "    .dataframe tbody tr th {\n",
              "        vertical-align: top;\n",
              "    }\n",
              "\n",
              "    .dataframe thead th {\n",
              "        text-align: right;\n",
              "    }\n",
              "</style>\n",
              "<table border=\"1\" class=\"dataframe\">\n",
              "  <thead>\n",
              "    <tr style=\"text-align: right;\">\n",
              "      <th></th>\n",
              "      <th>teacher</th>\n",
              "    </tr>\n",
              "    <tr>\n",
              "      <th>subject</th>\n",
              "      <th></th>\n",
              "    </tr>\n",
              "  </thead>\n",
              "  <tbody>\n",
              "    <tr>\n",
              "      <th>analízis 1</th>\n",
              "      <td>a</td>\n",
              "    </tr>\n",
              "    <tr>\n",
              "      <th>digitális technika 1</th>\n",
              "      <td>b</td>\n",
              "    </tr>\n",
              "    <tr>\n",
              "      <th>fizika 1</th>\n",
              "      <td>a</td>\n",
              "    </tr>\n",
              "    <tr>\n",
              "      <th>mikmak</th>\n",
              "      <td>c</td>\n",
              "    </tr>\n",
              "    <tr>\n",
              "      <th>programozás alapjai 1</th>\n",
              "      <td>d</td>\n",
              "    </tr>\n",
              "    <tr>\n",
              "      <th>szoftvertechonológia</th>\n",
              "      <td>d</td>\n",
              "    </tr>\n",
              "    <tr>\n",
              "      <th>bevezetés a számításelméletbe 1</th>\n",
              "      <td>d</td>\n",
              "    </tr>\n",
              "  </tbody>\n",
              "</table>\n",
              "</div>"
            ],
            "text/plain": [
              "                                teacher\n",
              "subject                                \n",
              "analízis 1                            a\n",
              "digitális technika 1                  b\n",
              "fizika 1                              a\n",
              "mikmak                                c\n",
              "programozás alapjai 1                 d\n",
              "szoftvertechonológia                  d\n",
              "bevezetés a számításelméletbe 1       d"
            ]
          },
          "execution_count": 205,
          "metadata": {},
          "output_type": "execute_result"
        }
      ],
      "source": [
        "grades.iloc[:, 1:-1]"
      ]
    },
    {
      "cell_type": "markdown",
      "metadata": {
        "id": "KSJCx58u_rBS"
      },
      "source": [
        "#### Tetszőleges sor és oszlop tartományok vagy kombinációk kiválasztása"
      ]
    },
    {
      "cell_type": "code",
      "execution_count": 206,
      "metadata": {
        "colab": {
          "base_uri": "https://localhost:8080/",
          "height": 0
        },
        "id": "0scEbD8X_rBS",
        "outputId": "baafa0e6-1153-44d6-b605-67772fc7294d"
      },
      "outputs": [
        {
          "data": {
            "text/html": [
              "<div>\n",
              "<style scoped>\n",
              "    .dataframe tbody tr th:only-of-type {\n",
              "        vertical-align: middle;\n",
              "    }\n",
              "\n",
              "    .dataframe tbody tr th {\n",
              "        vertical-align: top;\n",
              "    }\n",
              "\n",
              "    .dataframe thead th {\n",
              "        text-align: right;\n",
              "    }\n",
              "</style>\n",
              "<table border=\"1\" class=\"dataframe\">\n",
              "  <thead>\n",
              "    <tr style=\"text-align: right;\">\n",
              "      <th></th>\n",
              "      <th>teacher</th>\n",
              "    </tr>\n",
              "    <tr>\n",
              "      <th>subject</th>\n",
              "      <th></th>\n",
              "    </tr>\n",
              "  </thead>\n",
              "  <tbody>\n",
              "    <tr>\n",
              "      <th>digitális technika 1</th>\n",
              "      <td>b</td>\n",
              "    </tr>\n",
              "    <tr>\n",
              "      <th>fizika 1</th>\n",
              "      <td>a</td>\n",
              "    </tr>\n",
              "    <tr>\n",
              "      <th>mikmak</th>\n",
              "      <td>c</td>\n",
              "    </tr>\n",
              "    <tr>\n",
              "      <th>programozás alapjai 1</th>\n",
              "      <td>d</td>\n",
              "    </tr>\n",
              "  </tbody>\n",
              "</table>\n",
              "</div>"
            ],
            "text/plain": [
              "                      teacher\n",
              "subject                      \n",
              "digitális technika 1        b\n",
              "fizika 1                    a\n",
              "mikmak                      c\n",
              "programozás alapjai 1       d"
            ]
          },
          "execution_count": 206,
          "metadata": {},
          "output_type": "execute_result"
        }
      ],
      "source": [
        "grades.iloc[1:5, 1:2]"
      ]
    },
    {
      "cell_type": "markdown",
      "metadata": {
        "id": "pnGsSHYw_rBU"
      },
      "source": [
        "Egy sort vagy oszlopot többször is lekérdezhetünk, ráadásul akármilyen sorrendben."
      ]
    },
    {
      "cell_type": "code",
      "execution_count": 207,
      "metadata": {
        "colab": {
          "base_uri": "https://localhost:8080/",
          "height": 0
        },
        "id": "B1SAcgi2_rBV",
        "outputId": "f4862575-4a0a-4a5b-d528-34ba54b585e2"
      },
      "outputs": [
        {
          "data": {
            "text/html": [
              "<div>\n",
              "<style scoped>\n",
              "    .dataframe tbody tr th:only-of-type {\n",
              "        vertical-align: middle;\n",
              "    }\n",
              "\n",
              "    .dataframe tbody tr th {\n",
              "        vertical-align: top;\n",
              "    }\n",
              "\n",
              "    .dataframe thead th {\n",
              "        text-align: right;\n",
              "    }\n",
              "</style>\n",
              "<table border=\"1\" class=\"dataframe\">\n",
              "  <thead>\n",
              "    <tr style=\"text-align: right;\">\n",
              "      <th></th>\n",
              "      <th>semester</th>\n",
              "      <th>teacher</th>\n",
              "      <th>semester</th>\n",
              "    </tr>\n",
              "    <tr>\n",
              "      <th>subject</th>\n",
              "      <th></th>\n",
              "      <th></th>\n",
              "      <th></th>\n",
              "    </tr>\n",
              "  </thead>\n",
              "  <tbody>\n",
              "    <tr>\n",
              "      <th>programozás alapjai 1</th>\n",
              "      <td>1</td>\n",
              "      <td>d</td>\n",
              "      <td>1</td>\n",
              "    </tr>\n",
              "    <tr>\n",
              "      <th>digitális technika 1</th>\n",
              "      <td>1</td>\n",
              "      <td>b</td>\n",
              "      <td>1</td>\n",
              "    </tr>\n",
              "    <tr>\n",
              "      <th>digitális technika 1</th>\n",
              "      <td>1</td>\n",
              "      <td>b</td>\n",
              "      <td>1</td>\n",
              "    </tr>\n",
              "  </tbody>\n",
              "</table>\n",
              "</div>"
            ],
            "text/plain": [
              "                       semester teacher  semester\n",
              "subject                                          \n",
              "programozás alapjai 1         1       d         1\n",
              "digitális technika 1          1       b         1\n",
              "digitális technika 1          1       b         1"
            ]
          },
          "execution_count": 207,
          "metadata": {},
          "output_type": "execute_result"
        }
      ],
      "source": [
        "grades.iloc[[4, 1, 1], [2, 1, 2]]"
      ]
    },
    {
      "cell_type": "markdown",
      "metadata": {
        "id": "BmKFo9QC_rBX"
      },
      "source": [
        "# Egyetlen mező kiválasztása\n",
        "\n",
        "Egy mező tartalmát sokféleképpen kiválaszthatjuk, talán így a legegyszerűbb:"
      ]
    },
    {
      "cell_type": "code",
      "execution_count": 208,
      "metadata": {
        "colab": {
          "base_uri": "https://localhost:8080/"
        },
        "id": "ELFlQyXf_rBY",
        "outputId": "35cc54cd-cc2e-4993-9aff-62b3a74b6eb7"
      },
      "outputs": [
        {
          "data": {
            "text/plain": [
              "np.int64(3)"
            ]
          },
          "execution_count": 208,
          "metadata": {},
          "output_type": "execute_result"
        }
      ],
      "source": [
        "grades.loc['fizika 1', 'grade']"
      ]
    },
    {
      "cell_type": "markdown",
      "metadata": {
        "id": "8lG-IPfR_rBa"
      },
      "source": [
        "# Szűrés\n",
        "\n",
        "A DataFrame-ek sorain egyszerre végezhetünk műveleteket:"
      ]
    },
    {
      "cell_type": "code",
      "execution_count": 209,
      "metadata": {
        "colab": {
          "base_uri": "https://localhost:8080/"
        },
        "id": "ST09HyFn_rBa",
        "outputId": "84acb26b-204e-48e6-b3e6-769e9fdc724a"
      },
      "outputs": [
        {
          "data": {
            "text/plain": [
              "subject\n",
              "analízis 1                          True\n",
              "digitális technika 1                True\n",
              "fizika 1                           False\n",
              "mikmak                             False\n",
              "programozás alapjai 1               True\n",
              "szoftvertechonológia               False\n",
              "bevezetés a számításelméletbe 1     True\n",
              "Name: semester, dtype: bool"
            ]
          },
          "execution_count": 209,
          "metadata": {},
          "output_type": "execute_result"
        }
      ],
      "source": [
        "grades.semester == 1"
      ]
    },
    {
      "cell_type": "markdown",
      "metadata": {
        "id": "kgj-lR4L_rBd"
      },
      "source": [
        "Ekkor azokra a sorokra kapunk True-t, ahol igaz a feltétel. A feltételek kombinálhatóak, a zárójelezésre figyelni kell:"
      ]
    },
    {
      "cell_type": "code",
      "execution_count": 210,
      "metadata": {
        "colab": {
          "base_uri": "https://localhost:8080/"
        },
        "id": "DVbhrCdl_rBd",
        "outputId": "80f2e199-b58d-457b-f9e5-b2cb59b793c5"
      },
      "outputs": [
        {
          "data": {
            "text/plain": [
              "subject\n",
              "analízis 1                          True\n",
              "digitális technika 1               False\n",
              "fizika 1                           False\n",
              "mikmak                             False\n",
              "programozás alapjai 1              False\n",
              "szoftvertechonológia               False\n",
              "bevezetés a számításelméletbe 1    False\n",
              "dtype: bool"
            ]
          },
          "execution_count": 210,
          "metadata": {},
          "output_type": "execute_result"
        }
      ],
      "source": [
        "(grades.semester == 1) & (grades.teacher == 'a')"
      ]
    },
    {
      "cell_type": "markdown",
      "metadata": {
        "id": "cHRCYS8G_rBh"
      },
      "source": [
        "Az igazságértékek sorozatával pedig szűrhetjük a DataFrame-eket:"
      ]
    },
    {
      "cell_type": "code",
      "execution_count": 211,
      "metadata": {
        "colab": {
          "base_uri": "https://localhost:8080/",
          "height": 0
        },
        "id": "Ykom3R5A_rBi",
        "outputId": "f5f807ae-892b-4a7e-d0b0-35d7200bb539"
      },
      "outputs": [
        {
          "data": {
            "text/html": [
              "<div>\n",
              "<style scoped>\n",
              "    .dataframe tbody tr th:only-of-type {\n",
              "        vertical-align: middle;\n",
              "    }\n",
              "\n",
              "    .dataframe tbody tr th {\n",
              "        vertical-align: top;\n",
              "    }\n",
              "\n",
              "    .dataframe thead th {\n",
              "        text-align: right;\n",
              "    }\n",
              "</style>\n",
              "<table border=\"1\" class=\"dataframe\">\n",
              "  <thead>\n",
              "    <tr style=\"text-align: right;\">\n",
              "      <th></th>\n",
              "      <th>grade</th>\n",
              "      <th>teacher</th>\n",
              "      <th>semester</th>\n",
              "    </tr>\n",
              "    <tr>\n",
              "      <th>subject</th>\n",
              "      <th></th>\n",
              "      <th></th>\n",
              "      <th></th>\n",
              "    </tr>\n",
              "  </thead>\n",
              "  <tbody>\n",
              "    <tr>\n",
              "      <th>analízis 1</th>\n",
              "      <td>3</td>\n",
              "      <td>a</td>\n",
              "      <td>1</td>\n",
              "    </tr>\n",
              "    <tr>\n",
              "      <th>digitális technika 1</th>\n",
              "      <td>4</td>\n",
              "      <td>b</td>\n",
              "      <td>1</td>\n",
              "    </tr>\n",
              "    <tr>\n",
              "      <th>programozás alapjai 1</th>\n",
              "      <td>5</td>\n",
              "      <td>d</td>\n",
              "      <td>1</td>\n",
              "    </tr>\n",
              "    <tr>\n",
              "      <th>bevezetés a számításelméletbe 1</th>\n",
              "      <td>4</td>\n",
              "      <td>d</td>\n",
              "      <td>1</td>\n",
              "    </tr>\n",
              "  </tbody>\n",
              "</table>\n",
              "</div>"
            ],
            "text/plain": [
              "                                 grade teacher  semester\n",
              "subject                                                 \n",
              "analízis 1                           3       a         1\n",
              "digitális technika 1                 4       b         1\n",
              "programozás alapjai 1                5       d         1\n",
              "bevezetés a számításelméletbe 1      4       d         1"
            ]
          },
          "execution_count": 211,
          "metadata": {},
          "output_type": "execute_result"
        }
      ],
      "source": [
        "grades[grades.semester==1]"
      ]
    },
    {
      "cell_type": "code",
      "execution_count": 212,
      "metadata": {
        "colab": {
          "base_uri": "https://localhost:8080/",
          "height": 0
        },
        "id": "07iRtD-G_rBl",
        "outputId": "0e4d5ba3-022d-490a-b961-b8235e4699bd"
      },
      "outputs": [
        {
          "data": {
            "text/html": [
              "<div>\n",
              "<style scoped>\n",
              "    .dataframe tbody tr th:only-of-type {\n",
              "        vertical-align: middle;\n",
              "    }\n",
              "\n",
              "    .dataframe tbody tr th {\n",
              "        vertical-align: top;\n",
              "    }\n",
              "\n",
              "    .dataframe thead th {\n",
              "        text-align: right;\n",
              "    }\n",
              "</style>\n",
              "<table border=\"1\" class=\"dataframe\">\n",
              "  <thead>\n",
              "    <tr style=\"text-align: right;\">\n",
              "      <th></th>\n",
              "      <th>grade</th>\n",
              "      <th>teacher</th>\n",
              "      <th>semester</th>\n",
              "    </tr>\n",
              "    <tr>\n",
              "      <th>subject</th>\n",
              "      <th></th>\n",
              "      <th></th>\n",
              "      <th></th>\n",
              "    </tr>\n",
              "  </thead>\n",
              "  <tbody>\n",
              "    <tr>\n",
              "      <th>analízis 1</th>\n",
              "      <td>3</td>\n",
              "      <td>a</td>\n",
              "      <td>1</td>\n",
              "    </tr>\n",
              "  </tbody>\n",
              "</table>\n",
              "</div>"
            ],
            "text/plain": [
              "            grade teacher  semester\n",
              "subject                            \n",
              "analízis 1      3       a         1"
            ]
          },
          "execution_count": 212,
          "metadata": {},
          "output_type": "execute_result"
        }
      ],
      "source": [
        "grades[(grades.semester == 1) & (grades.teacher == 'a')]"
      ]
    },
    {
      "cell_type": "markdown",
      "metadata": {
        "id": "KUJcu9Qt_rBn"
      },
      "source": [
        "# Vektoros műveletvégzés\n",
        "\n",
        "A pandas DataFrame-jeire és Series-eire az aritmetikai operátorok túl vannak terhelve, ezért egyszerre végezhetünk az egész táblán műveleteket."
      ]
    },
    {
      "cell_type": "code",
      "execution_count": 213,
      "metadata": {
        "colab": {
          "base_uri": "https://localhost:8080/",
          "height": 0
        },
        "id": "ANBFSIAC_rBn",
        "outputId": "fd6fa322-0b6c-474b-a7dd-266befd09147"
      },
      "outputs": [
        {
          "data": {
            "text/html": [
              "<div>\n",
              "<style scoped>\n",
              "    .dataframe tbody tr th:only-of-type {\n",
              "        vertical-align: middle;\n",
              "    }\n",
              "\n",
              "    .dataframe tbody tr th {\n",
              "        vertical-align: top;\n",
              "    }\n",
              "\n",
              "    .dataframe thead th {\n",
              "        text-align: right;\n",
              "    }\n",
              "</style>\n",
              "<table border=\"1\" class=\"dataframe\">\n",
              "  <thead>\n",
              "    <tr style=\"text-align: right;\">\n",
              "      <th></th>\n",
              "      <th>grade</th>\n",
              "      <th>semester</th>\n",
              "    </tr>\n",
              "    <tr>\n",
              "      <th>subject</th>\n",
              "      <th></th>\n",
              "      <th></th>\n",
              "    </tr>\n",
              "  </thead>\n",
              "  <tbody>\n",
              "    <tr>\n",
              "      <th>analízis 1</th>\n",
              "      <td>18</td>\n",
              "      <td>16</td>\n",
              "    </tr>\n",
              "    <tr>\n",
              "      <th>digitális technika 1</th>\n",
              "      <td>19</td>\n",
              "      <td>16</td>\n",
              "    </tr>\n",
              "    <tr>\n",
              "      <th>fizika 1</th>\n",
              "      <td>18</td>\n",
              "      <td>17</td>\n",
              "    </tr>\n",
              "    <tr>\n",
              "      <th>mikmak</th>\n",
              "      <td>17</td>\n",
              "      <td>17</td>\n",
              "    </tr>\n",
              "    <tr>\n",
              "      <th>programozás alapjai 1</th>\n",
              "      <td>20</td>\n",
              "      <td>16</td>\n",
              "    </tr>\n",
              "    <tr>\n",
              "      <th>szoftvertechonológia</th>\n",
              "      <td>16</td>\n",
              "      <td>18</td>\n",
              "    </tr>\n",
              "    <tr>\n",
              "      <th>bevezetés a számításelméletbe 1</th>\n",
              "      <td>19</td>\n",
              "      <td>16</td>\n",
              "    </tr>\n",
              "  </tbody>\n",
              "</table>\n",
              "</div>"
            ],
            "text/plain": [
              "                                 grade  semester\n",
              "subject                                         \n",
              "analízis 1                          18        16\n",
              "digitális technika 1                19        16\n",
              "fizika 1                            18        17\n",
              "mikmak                              17        17\n",
              "programozás alapjai 1               20        16\n",
              "szoftvertechonológia                16        18\n",
              "bevezetés a számításelméletbe 1     19        16"
            ]
          },
          "execution_count": 213,
          "metadata": {},
          "output_type": "execute_result"
        }
      ],
      "source": [
        "grades[['grade', 'semester']] + 15"
      ]
    },
    {
      "cell_type": "markdown",
      "metadata": {
        "id": "cE9AVQGZ_rBp"
      },
      "source": [
        "## Az index is hasonlóan manipulálható "
      ]
    },
    {
      "cell_type": "code",
      "execution_count": 214,
      "metadata": {
        "colab": {
          "base_uri": "https://localhost:8080/"
        },
        "id": "VNq4-FXI_rBq",
        "outputId": "a5dbb037-351f-4b6e-ca13-8f5ce82b4ddd"
      },
      "outputs": [
        {
          "data": {
            "text/plain": [
              "Index(['ANALÍZIS 1', 'DIGITÁLIS TECHNIKA 1', 'FIZIKA 1', 'MIKMAK',\n",
              "       'PROGRAMOZÁS ALAPJAI 1', 'SZOFTVERTECHONOLÓGIA',\n",
              "       'BEVEZETÉS A SZÁMÍTÁSELMÉLETBE 1'],\n",
              "      dtype='object', name='subject')"
            ]
          },
          "execution_count": 214,
          "metadata": {},
          "output_type": "execute_result"
        }
      ],
      "source": [
        "grades.index.str.upper()"
      ]
    },
    {
      "cell_type": "markdown",
      "metadata": {
        "id": "BsMCdIAB_rBt"
      },
      "source": [
        "Át is állítható:"
      ]
    },
    {
      "cell_type": "code",
      "execution_count": 215,
      "metadata": {
        "colab": {
          "base_uri": "https://localhost:8080/",
          "height": 0
        },
        "id": "EbxFk_z__rBt",
        "outputId": "f21093df-444c-4d16-e6c8-a34cd2740ad5"
      },
      "outputs": [
        {
          "data": {
            "text/html": [
              "<div>\n",
              "<style scoped>\n",
              "    .dataframe tbody tr th:only-of-type {\n",
              "        vertical-align: middle;\n",
              "    }\n",
              "\n",
              "    .dataframe tbody tr th {\n",
              "        vertical-align: top;\n",
              "    }\n",
              "\n",
              "    .dataframe thead th {\n",
              "        text-align: right;\n",
              "    }\n",
              "</style>\n",
              "<table border=\"1\" class=\"dataframe\">\n",
              "  <thead>\n",
              "    <tr style=\"text-align: right;\">\n",
              "      <th></th>\n",
              "      <th>grade</th>\n",
              "      <th>teacher</th>\n",
              "      <th>semester</th>\n",
              "    </tr>\n",
              "    <tr>\n",
              "      <th>subject</th>\n",
              "      <th></th>\n",
              "      <th></th>\n",
              "      <th></th>\n",
              "    </tr>\n",
              "  </thead>\n",
              "  <tbody>\n",
              "    <tr>\n",
              "      <th>ANALÍZIS 1</th>\n",
              "      <td>3</td>\n",
              "      <td>a</td>\n",
              "      <td>1</td>\n",
              "    </tr>\n",
              "    <tr>\n",
              "      <th>DIGITÁLIS TECHNIKA 1</th>\n",
              "      <td>4</td>\n",
              "      <td>b</td>\n",
              "      <td>1</td>\n",
              "    </tr>\n",
              "    <tr>\n",
              "      <th>FIZIKA 1</th>\n",
              "      <td>3</td>\n",
              "      <td>a</td>\n",
              "      <td>2</td>\n",
              "    </tr>\n",
              "    <tr>\n",
              "      <th>MIKMAK</th>\n",
              "      <td>2</td>\n",
              "      <td>c</td>\n",
              "      <td>2</td>\n",
              "    </tr>\n",
              "    <tr>\n",
              "      <th>PROGRAMOZÁS ALAPJAI 1</th>\n",
              "      <td>5</td>\n",
              "      <td>d</td>\n",
              "      <td>1</td>\n",
              "    </tr>\n",
              "    <tr>\n",
              "      <th>SZOFTVERTECHONOLÓGIA</th>\n",
              "      <td>1</td>\n",
              "      <td>d</td>\n",
              "      <td>3</td>\n",
              "    </tr>\n",
              "    <tr>\n",
              "      <th>BEVEZETÉS A SZÁMÍTÁSELMÉLETBE 1</th>\n",
              "      <td>4</td>\n",
              "      <td>d</td>\n",
              "      <td>1</td>\n",
              "    </tr>\n",
              "  </tbody>\n",
              "</table>\n",
              "</div>"
            ],
            "text/plain": [
              "                                 grade teacher  semester\n",
              "subject                                                 \n",
              "ANALÍZIS 1                           3       a         1\n",
              "DIGITÁLIS TECHNIKA 1                 4       b         1\n",
              "FIZIKA 1                             3       a         2\n",
              "MIKMAK                               2       c         2\n",
              "PROGRAMOZÁS ALAPJAI 1                5       d         1\n",
              "SZOFTVERTECHONOLÓGIA                 1       d         3\n",
              "BEVEZETÉS A SZÁMÍTÁSELMÉLETBE 1      4       d         1"
            ]
          },
          "execution_count": 215,
          "metadata": {},
          "output_type": "execute_result"
        }
      ],
      "source": [
        "grades.index = grades.index.str.upper()\n",
        "grades"
      ]
    },
    {
      "cell_type": "markdown",
      "metadata": {
        "id": "yBvvz0kk_rBv"
      },
      "source": [
        "Majd visszaállítható:"
      ]
    },
    {
      "cell_type": "code",
      "execution_count": 216,
      "metadata": {
        "colab": {
          "base_uri": "https://localhost:8080/",
          "height": 0
        },
        "id": "pngLw_d3_rBw",
        "outputId": "31620df3-5987-49b8-d94c-56dd3b976bff"
      },
      "outputs": [
        {
          "data": {
            "text/html": [
              "<div>\n",
              "<style scoped>\n",
              "    .dataframe tbody tr th:only-of-type {\n",
              "        vertical-align: middle;\n",
              "    }\n",
              "\n",
              "    .dataframe tbody tr th {\n",
              "        vertical-align: top;\n",
              "    }\n",
              "\n",
              "    .dataframe thead th {\n",
              "        text-align: right;\n",
              "    }\n",
              "</style>\n",
              "<table border=\"1\" class=\"dataframe\">\n",
              "  <thead>\n",
              "    <tr style=\"text-align: right;\">\n",
              "      <th></th>\n",
              "      <th>grade</th>\n",
              "      <th>teacher</th>\n",
              "      <th>semester</th>\n",
              "    </tr>\n",
              "    <tr>\n",
              "      <th>subject</th>\n",
              "      <th></th>\n",
              "      <th></th>\n",
              "      <th></th>\n",
              "    </tr>\n",
              "  </thead>\n",
              "  <tbody>\n",
              "    <tr>\n",
              "      <th>analízis 1</th>\n",
              "      <td>3</td>\n",
              "      <td>a</td>\n",
              "      <td>1</td>\n",
              "    </tr>\n",
              "    <tr>\n",
              "      <th>digitális technika 1</th>\n",
              "      <td>4</td>\n",
              "      <td>b</td>\n",
              "      <td>1</td>\n",
              "    </tr>\n",
              "    <tr>\n",
              "      <th>fizika 1</th>\n",
              "      <td>3</td>\n",
              "      <td>a</td>\n",
              "      <td>2</td>\n",
              "    </tr>\n",
              "    <tr>\n",
              "      <th>mikmak</th>\n",
              "      <td>2</td>\n",
              "      <td>c</td>\n",
              "      <td>2</td>\n",
              "    </tr>\n",
              "    <tr>\n",
              "      <th>programozás alapjai 1</th>\n",
              "      <td>5</td>\n",
              "      <td>d</td>\n",
              "      <td>1</td>\n",
              "    </tr>\n",
              "    <tr>\n",
              "      <th>szoftvertechonológia</th>\n",
              "      <td>1</td>\n",
              "      <td>d</td>\n",
              "      <td>3</td>\n",
              "    </tr>\n",
              "    <tr>\n",
              "      <th>bevezetés a számításelméletbe 1</th>\n",
              "      <td>4</td>\n",
              "      <td>d</td>\n",
              "      <td>1</td>\n",
              "    </tr>\n",
              "  </tbody>\n",
              "</table>\n",
              "</div>"
            ],
            "text/plain": [
              "                                 grade teacher  semester\n",
              "subject                                                 \n",
              "analízis 1                           3       a         1\n",
              "digitális technika 1                 4       b         1\n",
              "fizika 1                             3       a         2\n",
              "mikmak                               2       c         2\n",
              "programozás alapjai 1                5       d         1\n",
              "szoftvertechonológia                 1       d         3\n",
              "bevezetés a számításelméletbe 1      4       d         1"
            ]
          },
          "execution_count": 216,
          "metadata": {},
          "output_type": "execute_result"
        }
      ],
      "source": [
        "grades.index = grades.index.str.lower()\n",
        "grades"
      ]
    },
    {
      "cell_type": "markdown",
      "metadata": {
        "id": "6zdUXC7e_rBy"
      },
      "source": [
        "# Több DataFrame kezelése, merge"
      ]
    },
    {
      "cell_type": "code",
      "execution_count": 217,
      "metadata": {
        "colab": {
          "base_uri": "https://localhost:8080/",
          "height": 0
        },
        "id": "uAY6ATWW_rBy",
        "outputId": "e285d37c-6b12-4e75-9efa-371f6610dd99"
      },
      "outputs": [
        {
          "data": {
            "text/html": [
              "<div>\n",
              "<style scoped>\n",
              "    .dataframe tbody tr th:only-of-type {\n",
              "        vertical-align: middle;\n",
              "    }\n",
              "\n",
              "    .dataframe tbody tr th {\n",
              "        vertical-align: top;\n",
              "    }\n",
              "\n",
              "    .dataframe thead th {\n",
              "        text-align: right;\n",
              "    }\n",
              "</style>\n",
              "<table border=\"1\" class=\"dataframe\">\n",
              "  <thead>\n",
              "    <tr style=\"text-align: right;\">\n",
              "      <th></th>\n",
              "      <th>subject</th>\n",
              "      <th>credit</th>\n",
              "    </tr>\n",
              "  </thead>\n",
              "  <tbody>\n",
              "    <tr>\n",
              "      <th>0</th>\n",
              "      <td>analízis 1</td>\n",
              "      <td>7</td>\n",
              "    </tr>\n",
              "    <tr>\n",
              "      <th>1</th>\n",
              "      <td>fizika 1</td>\n",
              "      <td>5</td>\n",
              "    </tr>\n",
              "    <tr>\n",
              "      <th>2</th>\n",
              "      <td>programozás alapjai 2</td>\n",
              "      <td>5</td>\n",
              "    </tr>\n",
              "  </tbody>\n",
              "</table>\n",
              "</div>"
            ],
            "text/plain": [
              "                 subject  credit\n",
              "0             analízis 1       7\n",
              "1               fizika 1       5\n",
              "2  programozás alapjai 2       5"
            ]
          },
          "execution_count": 217,
          "metadata": {},
          "output_type": "execute_result"
        }
      ],
      "source": [
        "credits = pd.DataFrame(\n",
        "    {\n",
        "        'subject': ['analízis 1', 'fizika 1', 'programozás alapjai 2'],\n",
        "        'credit': [7, 5, 5]\n",
        "    }\n",
        ")\n",
        "credits"
      ]
    },
    {
      "cell_type": "markdown",
      "metadata": {
        "id": "XK73j57K_rB0"
      },
      "source": [
        "## Hány kreditet érnek a tárgyak, amikre jegyet kaptunk?"
      ]
    },
    {
      "cell_type": "code",
      "execution_count": 218,
      "metadata": {
        "colab": {
          "base_uri": "https://localhost:8080/",
          "height": 0
        },
        "id": "lyfbiWVP_rB0",
        "outputId": "01e78ad2-ce54-40a3-8c45-6a76b195853a"
      },
      "outputs": [
        {
          "data": {
            "text/html": [
              "<div>\n",
              "<style scoped>\n",
              "    .dataframe tbody tr th:only-of-type {\n",
              "        vertical-align: middle;\n",
              "    }\n",
              "\n",
              "    .dataframe tbody tr th {\n",
              "        vertical-align: top;\n",
              "    }\n",
              "\n",
              "    .dataframe thead th {\n",
              "        text-align: right;\n",
              "    }\n",
              "</style>\n",
              "<table border=\"1\" class=\"dataframe\">\n",
              "  <thead>\n",
              "    <tr style=\"text-align: right;\">\n",
              "      <th></th>\n",
              "      <th>grade</th>\n",
              "      <th>teacher</th>\n",
              "      <th>semester</th>\n",
              "      <th>subject</th>\n",
              "      <th>credit</th>\n",
              "    </tr>\n",
              "  </thead>\n",
              "  <tbody>\n",
              "    <tr>\n",
              "      <th>0.0</th>\n",
              "      <td>3.0</td>\n",
              "      <td>a</td>\n",
              "      <td>1.0</td>\n",
              "      <td>analízis 1</td>\n",
              "      <td>7.0</td>\n",
              "    </tr>\n",
              "    <tr>\n",
              "      <th>NaN</th>\n",
              "      <td>4.0</td>\n",
              "      <td>d</td>\n",
              "      <td>1.0</td>\n",
              "      <td>bevezetés a számításelméletbe 1</td>\n",
              "      <td>NaN</td>\n",
              "    </tr>\n",
              "    <tr>\n",
              "      <th>NaN</th>\n",
              "      <td>4.0</td>\n",
              "      <td>b</td>\n",
              "      <td>1.0</td>\n",
              "      <td>digitális technika 1</td>\n",
              "      <td>NaN</td>\n",
              "    </tr>\n",
              "    <tr>\n",
              "      <th>1.0</th>\n",
              "      <td>3.0</td>\n",
              "      <td>a</td>\n",
              "      <td>2.0</td>\n",
              "      <td>fizika 1</td>\n",
              "      <td>5.0</td>\n",
              "    </tr>\n",
              "    <tr>\n",
              "      <th>NaN</th>\n",
              "      <td>2.0</td>\n",
              "      <td>c</td>\n",
              "      <td>2.0</td>\n",
              "      <td>mikmak</td>\n",
              "      <td>NaN</td>\n",
              "    </tr>\n",
              "    <tr>\n",
              "      <th>NaN</th>\n",
              "      <td>5.0</td>\n",
              "      <td>d</td>\n",
              "      <td>1.0</td>\n",
              "      <td>programozás alapjai 1</td>\n",
              "      <td>NaN</td>\n",
              "    </tr>\n",
              "    <tr>\n",
              "      <th>2.0</th>\n",
              "      <td>NaN</td>\n",
              "      <td>NaN</td>\n",
              "      <td>NaN</td>\n",
              "      <td>programozás alapjai 2</td>\n",
              "      <td>5.0</td>\n",
              "    </tr>\n",
              "    <tr>\n",
              "      <th>NaN</th>\n",
              "      <td>1.0</td>\n",
              "      <td>d</td>\n",
              "      <td>3.0</td>\n",
              "      <td>szoftvertechonológia</td>\n",
              "      <td>NaN</td>\n",
              "    </tr>\n",
              "  </tbody>\n",
              "</table>\n",
              "</div>"
            ],
            "text/plain": [
              "     grade teacher  semester                          subject  credit\n",
              "0.0    3.0       a       1.0                       analízis 1     7.0\n",
              "NaN    4.0       d       1.0  bevezetés a számításelméletbe 1     NaN\n",
              "NaN    4.0       b       1.0             digitális technika 1     NaN\n",
              "1.0    3.0       a       2.0                         fizika 1     5.0\n",
              "NaN    2.0       c       2.0                           mikmak     NaN\n",
              "NaN    5.0       d       1.0            programozás alapjai 1     NaN\n",
              "2.0    NaN     NaN       NaN            programozás alapjai 2     5.0\n",
              "NaN    1.0       d       3.0             szoftvertechonológia     NaN"
            ]
          },
          "execution_count": 218,
          "metadata": {},
          "output_type": "execute_result"
        }
      ],
      "source": [
        "d = grades.merge(credits, left_index=True, right_on='subject', how='outer')\n",
        "\n",
        "d"
      ]
    },
    {
      "cell_type": "markdown",
      "metadata": {
        "id": "FGl6hsmN_rB3"
      },
      "source": [
        "### A paraméterek magyarázata:\n",
        "\n",
        "1. `left_index`: a baloldali DataFrame (grades ebben az esetben) indexe mentén joinoljon.\n",
        "2. `right_on`: a jobboldali DataFrame (credits) subject mezője mentén joinoljon.\n",
        "3. `how`: inner/outer. Egyezik az SQL-es joinnal.\n",
        "\n",
        "### A joinolni kívánt mező kétféle lehet:\n",
        "\n",
        "1. index: ekkor az indexként használt oszlopot próbálja a másik táblázattal joinolni. `left_index=True`-ra kell állítani.\n",
        "2. nem index: egy vagy több nem indexként használt oszlop mentén próbál meg joinolni. `left_on=col1` vagy `left_on=[col1, col2]`"
      ]
    },
    {
      "cell_type": "code",
      "execution_count": 219,
      "metadata": {
        "colab": {
          "base_uri": "https://localhost:8080/",
          "height": 0
        },
        "id": "rTtU6iK9_rB3",
        "outputId": "0a216e2a-61d1-4951-9c53-dff7e6b8b815"
      },
      "outputs": [
        {
          "data": {
            "text/html": [
              "<div>\n",
              "<style scoped>\n",
              "    .dataframe tbody tr th:only-of-type {\n",
              "        vertical-align: middle;\n",
              "    }\n",
              "\n",
              "    .dataframe tbody tr th {\n",
              "        vertical-align: top;\n",
              "    }\n",
              "\n",
              "    .dataframe thead th {\n",
              "        text-align: right;\n",
              "    }\n",
              "</style>\n",
              "<table border=\"1\" class=\"dataframe\">\n",
              "  <thead>\n",
              "    <tr style=\"text-align: right;\">\n",
              "      <th></th>\n",
              "      <th>grade</th>\n",
              "      <th>teacher</th>\n",
              "      <th>semester</th>\n",
              "      <th>subject</th>\n",
              "      <th>credit</th>\n",
              "    </tr>\n",
              "  </thead>\n",
              "  <tbody>\n",
              "    <tr>\n",
              "      <th>0</th>\n",
              "      <td>3</td>\n",
              "      <td>a</td>\n",
              "      <td>1</td>\n",
              "      <td>analízis 1</td>\n",
              "      <td>7</td>\n",
              "    </tr>\n",
              "    <tr>\n",
              "      <th>1</th>\n",
              "      <td>3</td>\n",
              "      <td>a</td>\n",
              "      <td>2</td>\n",
              "      <td>fizika 1</td>\n",
              "      <td>5</td>\n",
              "    </tr>\n",
              "  </tbody>\n",
              "</table>\n",
              "</div>"
            ],
            "text/plain": [
              "   grade teacher  semester     subject  credit\n",
              "0      3       a         1  analízis 1       7\n",
              "1      3       a         2    fizika 1       5"
            ]
          },
          "execution_count": 219,
          "metadata": {},
          "output_type": "execute_result"
        }
      ],
      "source": [
        "grades.merge(credits, left_index=True, right_on='subject', how='inner')"
      ]
    },
    {
      "cell_type": "markdown",
      "metadata": {
        "id": "mtp5LIGE_rB5"
      },
      "source": [
        "## Érvénytelen adatok eldobása "
      ]
    },
    {
      "cell_type": "markdown",
      "metadata": {
        "id": "ADFwn5eu_rB5"
      },
      "source": [
        "Látható, hogy nem minden tárgyhoz sikerült megtalálni a kreditszámot, hiszen nem mindegyik szerepelt a credits táblában.\n",
        "\n",
        "A pandas NaN (not a number) tölti fel a hiányzó mezőket. Szerencsére a legtöbb műveletnek megmondhatjuk, hogy hogyan bánjon a NaN-okkal. Meg is szabadulhatunk tőlük:"
      ]
    },
    {
      "cell_type": "code",
      "execution_count": 220,
      "metadata": {
        "colab": {
          "base_uri": "https://localhost:8080/",
          "height": 0
        },
        "id": "Dy30cIWO_rB6",
        "outputId": "1f5e3559-03ce-45f7-db44-080bef7d5c9d"
      },
      "outputs": [
        {
          "data": {
            "text/html": [
              "<div>\n",
              "<style scoped>\n",
              "    .dataframe tbody tr th:only-of-type {\n",
              "        vertical-align: middle;\n",
              "    }\n",
              "\n",
              "    .dataframe tbody tr th {\n",
              "        vertical-align: top;\n",
              "    }\n",
              "\n",
              "    .dataframe thead th {\n",
              "        text-align: right;\n",
              "    }\n",
              "</style>\n",
              "<table border=\"1\" class=\"dataframe\">\n",
              "  <thead>\n",
              "    <tr style=\"text-align: right;\">\n",
              "      <th></th>\n",
              "      <th>grade</th>\n",
              "      <th>teacher</th>\n",
              "      <th>semester</th>\n",
              "      <th>subject</th>\n",
              "      <th>credit</th>\n",
              "    </tr>\n",
              "  </thead>\n",
              "  <tbody>\n",
              "    <tr>\n",
              "      <th>0.0</th>\n",
              "      <td>3.0</td>\n",
              "      <td>a</td>\n",
              "      <td>1.0</td>\n",
              "      <td>analízis 1</td>\n",
              "      <td>7.0</td>\n",
              "    </tr>\n",
              "    <tr>\n",
              "      <th>1.0</th>\n",
              "      <td>3.0</td>\n",
              "      <td>a</td>\n",
              "      <td>2.0</td>\n",
              "      <td>fizika 1</td>\n",
              "      <td>5.0</td>\n",
              "    </tr>\n",
              "  </tbody>\n",
              "</table>\n",
              "</div>"
            ],
            "text/plain": [
              "     grade teacher  semester     subject  credit\n",
              "0.0    3.0       a       1.0  analízis 1     7.0\n",
              "1.0    3.0       a       2.0    fizika 1     5.0"
            ]
          },
          "execution_count": 220,
          "metadata": {},
          "output_type": "execute_result"
        }
      ],
      "source": [
        "d = d.dropna()\n",
        "d"
      ]
    },
    {
      "cell_type": "markdown",
      "metadata": {
        "id": "6oEFguC3_rB7"
      },
      "source": [
        "# Szélsőérték-keresés (max, idxmax)\n",
        "\n",
        "Sokszor vagyunk kíváncsiak arra, hogy mi egy oszlop maximuma/minimuma vagy éppen hol veszi fel ezt az értéket (argmax). A pandas tartalmaz erre beépített függvényeket.\n",
        "\n",
        "## DataFrame-re\n",
        "\n",
        "Mi az egyes oszlopok maximuma?"
      ]
    },
    {
      "cell_type": "code",
      "execution_count": 221,
      "metadata": {
        "colab": {
          "base_uri": "https://localhost:8080/"
        },
        "id": "lWhO96ms_rB8",
        "outputId": "2aa9bda9-d6d6-475c-a277-64fd5fbac3ca"
      },
      "outputs": [
        {
          "name": "stdout",
          "output_type": "stream",
          "text": [
            "<class 'pandas.core.series.Series'>\n"
          ]
        },
        {
          "data": {
            "text/plain": [
              "grade       5\n",
              "teacher     d\n",
              "semester    3\n",
              "dtype: object"
            ]
          },
          "execution_count": 221,
          "metadata": {},
          "output_type": "execute_result"
        }
      ],
      "source": [
        "print(type(grades.max()))\n",
        "grades.max()"
      ]
    },
    {
      "cell_type": "markdown",
      "metadata": {
        "id": "E7GwJpo1_rB_"
      },
      "source": [
        "A `max` függvény egy Series-zel tér vissza, ami minden oszlop maximumát tartalmazza. Sorokra is feltehetjük ugyanezt a kérdést, bár vigyáznunk kell arra, hogy maximumot csak olyan értékek közül lehet számolni, amikre értelmeztt az összehasonlítás (például, nem lehet maximumot keresni egy string és egy int között):"
      ]
    },
    {
      "cell_type": "code",
      "execution_count": 222,
      "metadata": {
        "colab": {
          "base_uri": "https://localhost:8080/"
        },
        "id": "jNPdFyi9_rCA",
        "outputId": "6ffa21ce-53a7-4b95-bd66-45dc18aa108b"
      },
      "outputs": [
        {
          "data": {
            "text/plain": [
              "subject\n",
              "analízis 1                         3\n",
              "digitális technika 1               4\n",
              "fizika 1                           3\n",
              "mikmak                             2\n",
              "programozás alapjai 1              5\n",
              "szoftvertechonológia               3\n",
              "bevezetés a számításelméletbe 1    4\n",
              "dtype: int64"
            ]
          },
          "execution_count": 222,
          "metadata": {},
          "output_type": "execute_result"
        }
      ],
      "source": [
        "integer_grades = grades.select_dtypes(include='int64')\n",
        "integer_grades.max(axis=1)"
      ]
    },
    {
      "cell_type": "markdown",
      "metadata": {
        "id": "6Mp9woOU_rCD"
      },
      "source": [
        "Hol veszi fel a maximumát?"
      ]
    },
    {
      "cell_type": "code",
      "execution_count": 223,
      "metadata": {
        "colab": {
          "base_uri": "https://localhost:8080/"
        },
        "id": "t3UGKqCz_rCD",
        "outputId": "0ed5c5b0-9fe4-4929-f169-ecbf3c5a11ee"
      },
      "outputs": [
        {
          "data": {
            "text/plain": [
              "grade       programozás alapjai 1\n",
              "semester     szoftvertechonológia\n",
              "dtype: object"
            ]
          },
          "execution_count": 223,
          "metadata": {},
          "output_type": "execute_result"
        }
      ],
      "source": [
        "# grades.idxmax()  # hibát kapunk, mert az egyik oszlop szöveges\n",
        "grades[['grade', 'semester']].idxmax()"
      ]
    },
    {
      "cell_type": "markdown",
      "metadata": {
        "id": "PgbCVdnv_rCF"
      },
      "source": [
        "Indexelhetünk is a visszakapott értékekkel, így a legmagasabb értékeket tartalmazó sorokat kapjuk meg."
      ]
    },
    {
      "cell_type": "code",
      "execution_count": 224,
      "metadata": {
        "colab": {
          "base_uri": "https://localhost:8080/",
          "height": 0
        },
        "id": "sCCpxuJh_rCF",
        "outputId": "71463eef-dc8f-4e57-8b1b-f2d13520c639"
      },
      "outputs": [
        {
          "data": {
            "text/html": [
              "<div>\n",
              "<style scoped>\n",
              "    .dataframe tbody tr th:only-of-type {\n",
              "        vertical-align: middle;\n",
              "    }\n",
              "\n",
              "    .dataframe tbody tr th {\n",
              "        vertical-align: top;\n",
              "    }\n",
              "\n",
              "    .dataframe thead th {\n",
              "        text-align: right;\n",
              "    }\n",
              "</style>\n",
              "<table border=\"1\" class=\"dataframe\">\n",
              "  <thead>\n",
              "    <tr style=\"text-align: right;\">\n",
              "      <th></th>\n",
              "      <th>grade</th>\n",
              "      <th>teacher</th>\n",
              "      <th>semester</th>\n",
              "    </tr>\n",
              "    <tr>\n",
              "      <th>subject</th>\n",
              "      <th></th>\n",
              "      <th></th>\n",
              "      <th></th>\n",
              "    </tr>\n",
              "  </thead>\n",
              "  <tbody>\n",
              "    <tr>\n",
              "      <th>programozás alapjai 1</th>\n",
              "      <td>5</td>\n",
              "      <td>d</td>\n",
              "      <td>1</td>\n",
              "    </tr>\n",
              "    <tr>\n",
              "      <th>szoftvertechonológia</th>\n",
              "      <td>1</td>\n",
              "      <td>d</td>\n",
              "      <td>3</td>\n",
              "    </tr>\n",
              "  </tbody>\n",
              "</table>\n",
              "</div>"
            ],
            "text/plain": [
              "                       grade teacher  semester\n",
              "subject                                       \n",
              "programozás alapjai 1      5       d         1\n",
              "szoftvertechonológia       1       d         3"
            ]
          },
          "execution_count": 224,
          "metadata": {},
          "output_type": "execute_result"
        }
      ],
      "source": [
        "grades.loc[grades[['grade', 'semester']].idxmax()]"
      ]
    },
    {
      "cell_type": "markdown",
      "metadata": {
        "id": "4L0qqoYz_rCI"
      },
      "source": [
        "A számadatot tartalmazó oszlopok közül megkaptuk, hogy melyik sornál veszi fel a maximális értéket. Holtverseny esetén a legelső előfordulást adja vissza."
      ]
    },
    {
      "cell_type": "markdown",
      "metadata": {
        "id": "wmgfxRAz_rCI"
      },
      "source": [
        "Az `idxmax` függvény `Series`-re hasonlóan működik, csak az eredmény egyetlen skalár érték:"
      ]
    },
    {
      "cell_type": "code",
      "execution_count": 225,
      "metadata": {
        "colab": {
          "base_uri": "https://localhost:8080/",
          "height": 0
        },
        "id": "dhh9GTgH_rCI",
        "outputId": "3d56cf26-7a23-40ee-d773-1f9092caa78d"
      },
      "outputs": [
        {
          "data": {
            "text/plain": [
              "'programozás alapjai 1'"
            ]
          },
          "execution_count": 225,
          "metadata": {},
          "output_type": "execute_result"
        }
      ],
      "source": [
        "grades.grade.idxmax()"
      ]
    },
    {
      "cell_type": "markdown",
      "metadata": {
        "id": "RJzajBBD_rCK"
      },
      "source": [
        "# Csoportosítás (groupby)"
      ]
    },
    {
      "cell_type": "markdown",
      "metadata": {
        "id": "MXhP_2w-_rCK"
      },
      "source": [
        "A groupby függvénnyel tetszőleges oszlop mentén csoportosíthatjuk a DataFrame-et."
      ]
    },
    {
      "cell_type": "code",
      "execution_count": 226,
      "metadata": {
        "id": "s7c10fzF_rCL"
      },
      "outputs": [],
      "source": [
        "g = credits.groupby('credit')"
      ]
    },
    {
      "cell_type": "code",
      "execution_count": 227,
      "metadata": {
        "colab": {
          "base_uri": "https://localhost:8080/"
        },
        "id": "BjxYaM11_rCO",
        "outputId": "e06ba7af-cd20-4e42-e851-9cc7f6f48db8"
      },
      "outputs": [
        {
          "data": {
            "text/plain": [
              "{5: [1, 2], 7: [0]}"
            ]
          },
          "execution_count": 227,
          "metadata": {},
          "output_type": "execute_result"
        }
      ],
      "source": [
        "g.groups"
      ]
    },
    {
      "cell_type": "markdown",
      "metadata": {
        "id": "0RN6Mo4Z_rCR"
      },
      "source": [
        "Nem csak oszlop szerint tudunk csoportosítani, hanem tetszőleges kifejezés szerint."
      ]
    },
    {
      "cell_type": "code",
      "execution_count": 228,
      "metadata": {
        "colab": {
          "base_uri": "https://localhost:8080/"
        },
        "id": "EctImVGM_rCR",
        "outputId": "09242d02-1eb2-42dd-df91-42b08eed399e"
      },
      "outputs": [
        {
          "data": {
            "text/plain": [
              "0    1\n",
              "1    2\n",
              "2    2\n",
              "Name: credit, dtype: int64"
            ]
          },
          "execution_count": 228,
          "metadata": {},
          "output_type": "execute_result"
        }
      ],
      "source": [
        "credits.credit % 3"
      ]
    },
    {
      "cell_type": "markdown",
      "metadata": {
        "id": "U4Hx8RQM_rCT"
      },
      "source": [
        "Eszerint groupby:"
      ]
    },
    {
      "cell_type": "code",
      "execution_count": 229,
      "metadata": {
        "colab": {
          "base_uri": "https://localhost:8080/"
        },
        "id": "z50CDSmM_rCT",
        "outputId": "d8a1efeb-045e-4341-f06e-4573ecc7a67d"
      },
      "outputs": [
        {
          "data": {
            "text/plain": [
              "<pandas.core.groupby.generic.DataFrameGroupBy object at 0x74975ae4f3f0>"
            ]
          },
          "execution_count": 229,
          "metadata": {},
          "output_type": "execute_result"
        }
      ],
      "source": [
        "credits.groupby(credits.credit % 3)"
      ]
    },
    {
      "cell_type": "markdown",
      "metadata": {
        "id": "Zx0PiTAr_rCV"
      },
      "source": [
        "Csoportonként végezhetünk műveleteket:"
      ]
    },
    {
      "cell_type": "code",
      "execution_count": 230,
      "metadata": {
        "colab": {
          "base_uri": "https://localhost:8080/",
          "height": 0
        },
        "id": "CgCK8oqI_rCW",
        "outputId": "0e586aa9-210b-41df-cae5-5d2d12b6bc1f"
      },
      "outputs": [
        {
          "data": {
            "text/html": [
              "<div>\n",
              "<style scoped>\n",
              "    .dataframe tbody tr th:only-of-type {\n",
              "        vertical-align: middle;\n",
              "    }\n",
              "\n",
              "    .dataframe tbody tr th {\n",
              "        vertical-align: top;\n",
              "    }\n",
              "\n",
              "    .dataframe thead th {\n",
              "        text-align: right;\n",
              "    }\n",
              "</style>\n",
              "<table border=\"1\" class=\"dataframe\">\n",
              "  <thead>\n",
              "    <tr style=\"text-align: right;\">\n",
              "      <th></th>\n",
              "      <th>grade</th>\n",
              "    </tr>\n",
              "    <tr>\n",
              "      <th>semester</th>\n",
              "      <th></th>\n",
              "    </tr>\n",
              "  </thead>\n",
              "  <tbody>\n",
              "    <tr>\n",
              "      <th>1</th>\n",
              "      <td>4.0</td>\n",
              "    </tr>\n",
              "    <tr>\n",
              "      <th>2</th>\n",
              "      <td>2.5</td>\n",
              "    </tr>\n",
              "    <tr>\n",
              "      <th>3</th>\n",
              "      <td>1.0</td>\n",
              "    </tr>\n",
              "  </tbody>\n",
              "</table>\n",
              "</div>"
            ],
            "text/plain": [
              "          grade\n",
              "semester       \n",
              "1           4.0\n",
              "2           2.5\n",
              "3           1.0"
            ]
          },
          "execution_count": 230,
          "metadata": {},
          "output_type": "execute_result"
        }
      ],
      "source": [
        "integer_grades.groupby(\"semester\").mean()"
      ]
    },
    {
      "cell_type": "markdown",
      "metadata": {
        "id": "_iEHz2q6_rCY"
      },
      "source": [
        "Egynél több oszlop szerint is csoportosíthatunk, ekkor az olszopok értékeinek összes kombinációja (direkt szorzat) szerepelni fog az indexben.\n",
        "\n",
        "A `size` függvénnyel az egyes csoportok elemeinek számát kérhetjük le."
      ]
    },
    {
      "cell_type": "code",
      "execution_count": 231,
      "metadata": {
        "colab": {
          "base_uri": "https://localhost:8080/"
        },
        "id": "acqGQWOV_rCY",
        "outputId": "24b4f1df-6131-467d-88c1-91c040e78c0d"
      },
      "outputs": [
        {
          "data": {
            "text/plain": [
              "semester  teacher\n",
              "1         a          1\n",
              "          b          1\n",
              "          d          2\n",
              "2         a          1\n",
              "          c          1\n",
              "3         d          1\n",
              "dtype: int64"
            ]
          },
          "execution_count": 231,
          "metadata": {},
          "output_type": "execute_result"
        }
      ],
      "source": [
        "grades.groupby([\"semester\", \"teacher\"]).size()"
      ]
    },
    {
      "cell_type": "markdown",
      "metadata": {
        "id": "dwmTJD55_rCa"
      },
      "source": [
        "Ismét `Series` objektumot kaphatunk. A könnyebb olvashatóság kedvéért `DataFrame`-é konvertálhatjuk:"
      ]
    },
    {
      "cell_type": "code",
      "execution_count": 232,
      "metadata": {
        "colab": {
          "base_uri": "https://localhost:8080/",
          "height": 0
        },
        "id": "wkNhfjIQ_rCa",
        "outputId": "a017d4ef-ece4-47f6-bfd1-3f1d3ff5c703"
      },
      "outputs": [
        {
          "data": {
            "text/html": [
              "<div>\n",
              "<style scoped>\n",
              "    .dataframe tbody tr th:only-of-type {\n",
              "        vertical-align: middle;\n",
              "    }\n",
              "\n",
              "    .dataframe tbody tr th {\n",
              "        vertical-align: top;\n",
              "    }\n",
              "\n",
              "    .dataframe thead th {\n",
              "        text-align: right;\n",
              "    }\n",
              "</style>\n",
              "<table border=\"1\" class=\"dataframe\">\n",
              "  <thead>\n",
              "    <tr style=\"text-align: right;\">\n",
              "      <th></th>\n",
              "      <th></th>\n",
              "      <th>0</th>\n",
              "    </tr>\n",
              "    <tr>\n",
              "      <th>semester</th>\n",
              "      <th>teacher</th>\n",
              "      <th></th>\n",
              "    </tr>\n",
              "  </thead>\n",
              "  <tbody>\n",
              "    <tr>\n",
              "      <th rowspan=\"3\" valign=\"top\">1</th>\n",
              "      <th>a</th>\n",
              "      <td>1</td>\n",
              "    </tr>\n",
              "    <tr>\n",
              "      <th>b</th>\n",
              "      <td>1</td>\n",
              "    </tr>\n",
              "    <tr>\n",
              "      <th>d</th>\n",
              "      <td>2</td>\n",
              "    </tr>\n",
              "    <tr>\n",
              "      <th rowspan=\"2\" valign=\"top\">2</th>\n",
              "      <th>a</th>\n",
              "      <td>1</td>\n",
              "    </tr>\n",
              "    <tr>\n",
              "      <th>c</th>\n",
              "      <td>1</td>\n",
              "    </tr>\n",
              "    <tr>\n",
              "      <th>3</th>\n",
              "      <th>d</th>\n",
              "      <td>1</td>\n",
              "    </tr>\n",
              "  </tbody>\n",
              "</table>\n",
              "</div>"
            ],
            "text/plain": [
              "                  0\n",
              "semester teacher   \n",
              "1        a        1\n",
              "         b        1\n",
              "         d        2\n",
              "2        a        1\n",
              "         c        1\n",
              "3        d        1"
            ]
          },
          "execution_count": 232,
          "metadata": {},
          "output_type": "execute_result"
        }
      ],
      "source": [
        "grades.groupby([\"semester\", \"teacher\"]).size().to_frame()"
      ]
    },
    {
      "cell_type": "markdown",
      "metadata": {
        "id": "QObrmzb9_rCc"
      },
      "source": [
        "# Rendezés\n",
        "\n",
        "A `DataFrame`-eket többféleképpen rendezhetjük.\n",
        "\n",
        "Index szerint rendezve:"
      ]
    },
    {
      "cell_type": "code",
      "execution_count": 233,
      "metadata": {
        "colab": {
          "base_uri": "https://localhost:8080/",
          "height": 0
        },
        "id": "kSNLBO0c_rCd",
        "outputId": "c23b5587-c322-43e6-d186-adeee36760d5"
      },
      "outputs": [
        {
          "data": {
            "text/html": [
              "<div>\n",
              "<style scoped>\n",
              "    .dataframe tbody tr th:only-of-type {\n",
              "        vertical-align: middle;\n",
              "    }\n",
              "\n",
              "    .dataframe tbody tr th {\n",
              "        vertical-align: top;\n",
              "    }\n",
              "\n",
              "    .dataframe thead th {\n",
              "        text-align: right;\n",
              "    }\n",
              "</style>\n",
              "<table border=\"1\" class=\"dataframe\">\n",
              "  <thead>\n",
              "    <tr style=\"text-align: right;\">\n",
              "      <th></th>\n",
              "      <th>grade</th>\n",
              "      <th>teacher</th>\n",
              "      <th>semester</th>\n",
              "    </tr>\n",
              "    <tr>\n",
              "      <th>subject</th>\n",
              "      <th></th>\n",
              "      <th></th>\n",
              "      <th></th>\n",
              "    </tr>\n",
              "  </thead>\n",
              "  <tbody>\n",
              "    <tr>\n",
              "      <th>analízis 1</th>\n",
              "      <td>3</td>\n",
              "      <td>a</td>\n",
              "      <td>1</td>\n",
              "    </tr>\n",
              "    <tr>\n",
              "      <th>bevezetés a számításelméletbe 1</th>\n",
              "      <td>4</td>\n",
              "      <td>d</td>\n",
              "      <td>1</td>\n",
              "    </tr>\n",
              "    <tr>\n",
              "      <th>digitális technika 1</th>\n",
              "      <td>4</td>\n",
              "      <td>b</td>\n",
              "      <td>1</td>\n",
              "    </tr>\n",
              "    <tr>\n",
              "      <th>fizika 1</th>\n",
              "      <td>3</td>\n",
              "      <td>a</td>\n",
              "      <td>2</td>\n",
              "    </tr>\n",
              "    <tr>\n",
              "      <th>mikmak</th>\n",
              "      <td>2</td>\n",
              "      <td>c</td>\n",
              "      <td>2</td>\n",
              "    </tr>\n",
              "    <tr>\n",
              "      <th>programozás alapjai 1</th>\n",
              "      <td>5</td>\n",
              "      <td>d</td>\n",
              "      <td>1</td>\n",
              "    </tr>\n",
              "    <tr>\n",
              "      <th>szoftvertechonológia</th>\n",
              "      <td>1</td>\n",
              "      <td>d</td>\n",
              "      <td>3</td>\n",
              "    </tr>\n",
              "  </tbody>\n",
              "</table>\n",
              "</div>"
            ],
            "text/plain": [
              "                                 grade teacher  semester\n",
              "subject                                                 \n",
              "analízis 1                           3       a         1\n",
              "bevezetés a számításelméletbe 1      4       d         1\n",
              "digitális technika 1                 4       b         1\n",
              "fizika 1                             3       a         2\n",
              "mikmak                               2       c         2\n",
              "programozás alapjai 1                5       d         1\n",
              "szoftvertechonológia                 1       d         3"
            ]
          },
          "execution_count": 233,
          "metadata": {},
          "output_type": "execute_result"
        }
      ],
      "source": [
        "grades.sort_index()"
      ]
    },
    {
      "cell_type": "markdown",
      "metadata": {
        "id": "8hAj8GGo_rCe"
      },
      "source": [
        "Illetve egy vagy több oszlop szerint rendezve:"
      ]
    },
    {
      "cell_type": "code",
      "execution_count": 234,
      "metadata": {
        "colab": {
          "base_uri": "https://localhost:8080/",
          "height": 0
        },
        "id": "_bXspnzF_rCe",
        "outputId": "451422ac-fc53-4c86-db9f-2886707eca63"
      },
      "outputs": [
        {
          "data": {
            "text/html": [
              "<div>\n",
              "<style scoped>\n",
              "    .dataframe tbody tr th:only-of-type {\n",
              "        vertical-align: middle;\n",
              "    }\n",
              "\n",
              "    .dataframe tbody tr th {\n",
              "        vertical-align: top;\n",
              "    }\n",
              "\n",
              "    .dataframe thead th {\n",
              "        text-align: right;\n",
              "    }\n",
              "</style>\n",
              "<table border=\"1\" class=\"dataframe\">\n",
              "  <thead>\n",
              "    <tr style=\"text-align: right;\">\n",
              "      <th></th>\n",
              "      <th>grade</th>\n",
              "      <th>teacher</th>\n",
              "      <th>semester</th>\n",
              "    </tr>\n",
              "    <tr>\n",
              "      <th>subject</th>\n",
              "      <th></th>\n",
              "      <th></th>\n",
              "      <th></th>\n",
              "    </tr>\n",
              "  </thead>\n",
              "  <tbody>\n",
              "    <tr>\n",
              "      <th>szoftvertechonológia</th>\n",
              "      <td>1</td>\n",
              "      <td>d</td>\n",
              "      <td>3</td>\n",
              "    </tr>\n",
              "    <tr>\n",
              "      <th>mikmak</th>\n",
              "      <td>2</td>\n",
              "      <td>c</td>\n",
              "      <td>2</td>\n",
              "    </tr>\n",
              "    <tr>\n",
              "      <th>analízis 1</th>\n",
              "      <td>3</td>\n",
              "      <td>a</td>\n",
              "      <td>1</td>\n",
              "    </tr>\n",
              "    <tr>\n",
              "      <th>fizika 1</th>\n",
              "      <td>3</td>\n",
              "      <td>a</td>\n",
              "      <td>2</td>\n",
              "    </tr>\n",
              "    <tr>\n",
              "      <th>digitális technika 1</th>\n",
              "      <td>4</td>\n",
              "      <td>b</td>\n",
              "      <td>1</td>\n",
              "    </tr>\n",
              "    <tr>\n",
              "      <th>bevezetés a számításelméletbe 1</th>\n",
              "      <td>4</td>\n",
              "      <td>d</td>\n",
              "      <td>1</td>\n",
              "    </tr>\n",
              "    <tr>\n",
              "      <th>programozás alapjai 1</th>\n",
              "      <td>5</td>\n",
              "      <td>d</td>\n",
              "      <td>1</td>\n",
              "    </tr>\n",
              "  </tbody>\n",
              "</table>\n",
              "</div>"
            ],
            "text/plain": [
              "                                 grade teacher  semester\n",
              "subject                                                 \n",
              "szoftvertechonológia                 1       d         3\n",
              "mikmak                               2       c         2\n",
              "analízis 1                           3       a         1\n",
              "fizika 1                             3       a         2\n",
              "digitális technika 1                 4       b         1\n",
              "bevezetés a számításelméletbe 1      4       d         1\n",
              "programozás alapjai 1                5       d         1"
            ]
          },
          "execution_count": 234,
          "metadata": {},
          "output_type": "execute_result"
        }
      ],
      "source": [
        "grades.sort_values(['grade', 'semester'])"
      ]
    },
    {
      "cell_type": "markdown",
      "metadata": {
        "id": "D4Gc8o6V_rCg"
      },
      "source": [
        "Fordított sorrendben:"
      ]
    },
    {
      "cell_type": "code",
      "execution_count": 235,
      "metadata": {
        "colab": {
          "base_uri": "https://localhost:8080/",
          "height": 0
        },
        "id": "zodwGQj5_rCg",
        "outputId": "fd22d592-ef2d-4500-cc1b-fa85e7effb53"
      },
      "outputs": [
        {
          "data": {
            "text/html": [
              "<div>\n",
              "<style scoped>\n",
              "    .dataframe tbody tr th:only-of-type {\n",
              "        vertical-align: middle;\n",
              "    }\n",
              "\n",
              "    .dataframe tbody tr th {\n",
              "        vertical-align: top;\n",
              "    }\n",
              "\n",
              "    .dataframe thead th {\n",
              "        text-align: right;\n",
              "    }\n",
              "</style>\n",
              "<table border=\"1\" class=\"dataframe\">\n",
              "  <thead>\n",
              "    <tr style=\"text-align: right;\">\n",
              "      <th></th>\n",
              "      <th>grade</th>\n",
              "      <th>teacher</th>\n",
              "      <th>semester</th>\n",
              "    </tr>\n",
              "    <tr>\n",
              "      <th>subject</th>\n",
              "      <th></th>\n",
              "      <th></th>\n",
              "      <th></th>\n",
              "    </tr>\n",
              "  </thead>\n",
              "  <tbody>\n",
              "    <tr>\n",
              "      <th>szoftvertechonológia</th>\n",
              "      <td>1</td>\n",
              "      <td>d</td>\n",
              "      <td>3</td>\n",
              "    </tr>\n",
              "    <tr>\n",
              "      <th>programozás alapjai 1</th>\n",
              "      <td>5</td>\n",
              "      <td>d</td>\n",
              "      <td>1</td>\n",
              "    </tr>\n",
              "    <tr>\n",
              "      <th>mikmak</th>\n",
              "      <td>2</td>\n",
              "      <td>c</td>\n",
              "      <td>2</td>\n",
              "    </tr>\n",
              "    <tr>\n",
              "      <th>fizika 1</th>\n",
              "      <td>3</td>\n",
              "      <td>a</td>\n",
              "      <td>2</td>\n",
              "    </tr>\n",
              "    <tr>\n",
              "      <th>digitális technika 1</th>\n",
              "      <td>4</td>\n",
              "      <td>b</td>\n",
              "      <td>1</td>\n",
              "    </tr>\n",
              "    <tr>\n",
              "      <th>bevezetés a számításelméletbe 1</th>\n",
              "      <td>4</td>\n",
              "      <td>d</td>\n",
              "      <td>1</td>\n",
              "    </tr>\n",
              "    <tr>\n",
              "      <th>analízis 1</th>\n",
              "      <td>3</td>\n",
              "      <td>a</td>\n",
              "      <td>1</td>\n",
              "    </tr>\n",
              "  </tbody>\n",
              "</table>\n",
              "</div>"
            ],
            "text/plain": [
              "                                 grade teacher  semester\n",
              "subject                                                 \n",
              "szoftvertechonológia                 1       d         3\n",
              "programozás alapjai 1                5       d         1\n",
              "mikmak                               2       c         2\n",
              "fizika 1                             3       a         2\n",
              "digitális technika 1                 4       b         1\n",
              "bevezetés a számításelméletbe 1      4       d         1\n",
              "analízis 1                           3       a         1"
            ]
          },
          "execution_count": 235,
          "metadata": {},
          "output_type": "execute_result"
        }
      ],
      "source": [
        "grades.sort_index(ascending=False)"
      ]
    },
    {
      "cell_type": "markdown",
      "metadata": {
        "id": "THUPw4_r_rCi"
      },
      "source": [
        "# Vizualizáció (plot)\n",
        "\n",
        "A matplotlib modullal együttműködve rengeteg vizualizációs lehetőségünk van."
      ]
    },
    {
      "cell_type": "code",
      "execution_count": 236,
      "metadata": {
        "colab": {
          "base_uri": "https://localhost:8080/",
          "height": 0
        },
        "id": "tC1gL20L_rCj",
        "outputId": "8d0f2931-9c5f-4868-a66c-abfa5f8908ce"
      },
      "outputs": [
        {
          "data": {
            "text/plain": [
              "<Axes: xlabel='subject'>"
            ]
          },
          "execution_count": 236,
          "metadata": {},
          "output_type": "execute_result"
        },
        {
          "data": {
            "image/png": "[encoded data removed]",
            "text/plain": [
              "<Figure size 1500x300 with 1 Axes>"
            ]
          },
          "metadata": {},
          "output_type": "display_data"
        }
      ],
      "source": [
        "grades.plot(y='grade')"
      ]
    },
    {
      "cell_type": "markdown",
      "metadata": {
        "id": "nTMoQu72_rCm"
      },
      "source": [
        "Az oszlopdiagramnak több értelme lenne:"
      ]
    },
    {
      "cell_type": "code",
      "execution_count": 237,
      "metadata": {
        "colab": {
          "base_uri": "https://localhost:8080/",
          "height": 0
        },
        "id": "lxVRM2BN_rCm",
        "outputId": "4b9189a7-7723-40a9-d4df-f9296173688a"
      },
      "outputs": [
        {
          "data": {
            "text/plain": [
              "<Axes: xlabel='subject'>"
            ]
          },
          "execution_count": 237,
          "metadata": {},
          "output_type": "execute_result"
        },
        {
          "data": {
            "image/png": "[encoded data removed]",
            "text/plain": [
              "<Figure size 1500x300 with 1 Axes>"
            ]
          },
          "metadata": {},
          "output_type": "display_data"
        }
      ],
      "source": [
        "grades.plot(y='grade', kind='bar')"
      ]
    },
    {
      "cell_type": "markdown",
      "metadata": {
        "id": "Sy4uMt15_rCo"
      },
      "source": [
        "Nem adtuk meg az x tengelyt, ekkor automatikusan a DataFrame indexét használja, ami ebben az esetben a tárgyakat jelenti.\n",
        "\n",
        "Ábrázolhatnánk félév szerint is egy scatter ploton."
      ]
    },
    {
      "cell_type": "code",
      "execution_count": 238,
      "metadata": {
        "colab": {
          "base_uri": "https://localhost:8080/",
          "height": 0
        },
        "id": "Wwn1bQVB_rCo",
        "outputId": "dea01e94-e4b5-47bc-dd95-36afb45ecffe"
      },
      "outputs": [
        {
          "data": {
            "text/plain": [
              "<Axes: xlabel='semester', ylabel='grade'>"
            ]
          },
          "execution_count": 238,
          "metadata": {},
          "output_type": "execute_result"
        },
        {
          "data": {
            "image/png": "[encoded data removed]",
            "text/plain": [
              "<Figure size 1500x300 with 1 Axes>"
            ]
          },
          "metadata": {},
          "output_type": "display_data"
        }
      ],
      "source": [
        "grades.plot(x='semester', y='grade', kind='scatter')"
      ]
    },
    {
      "cell_type": "markdown",
      "metadata": {
        "id": "2-LkZO2v_rCp"
      },
      "source": [
        "## Amire érdemes figyelni\n",
        "\n",
        "### Minden művelet új DataFrame-et ad vissza\n",
        "\n",
        "Szinte minden művelet alapértelmezetten egy új DataFrame-mel tér vissza, nem módosítja a paramétereit. Ezt el kell tárolnunk, ha használni akarjuk.\n",
        "\n",
        "### Egy cellában az utolsó kifejezés visszatérési értéke kiíródik, de a többi nem\n",
        "\n",
        "Ha a többit is szeretnénk kiírni, használjuk a print függvényt."
      ]
    },
    {
      "cell_type": "markdown",
      "metadata": {
        "id": "Yb0KWAz_Biby"
      },
      "source": [
        "#Feladatok (MovieLens)"
      ]
    },
    {
      "cell_type": "code",
      "execution_count": 239,
      "metadata": {
        "id": "WFCjQdUzBnWH"
      },
      "outputs": [],
      "source": [
        "import pandas as pd  # konvenció szerint pd aliast használunk\n",
        "%matplotlib inline\n",
        "import matplotlib\n",
        "import numpy as np\n",
        "\n",
        "# tegyük szebbé a grafikonokat\n",
        "matplotlib.style.use('ggplot')\n",
        "matplotlib.pyplot.rcParams['figure.figsize'] = (15, 3)\n",
        "matplotlib.pyplot.rcParams['font.family'] = 'sans-serif'"
      ]
    },
    {
      "cell_type": "markdown",
      "metadata": {
        "id": "pmojn5SjDCeB"
      },
      "source": [
        "A MovieLens adatsorral fogunk dolgozni, de először le kell töltenünk. http://grouplens.org/datasets/movielens/\n",
        "\n",
        "Csak akkor töltjük le a fájlt, ha még nem létezik."
      ]
    },
    {
      "cell_type": "code",
      "execution_count": 240,
      "metadata": {
        "id": "E53BS2W6DCeC"
      },
      "outputs": [],
      "source": [
        "import os\n",
        "import urllib.request\n",
        "\n",
        "data_dir = os.getenv(\"MOVIELENS\")\n",
        "if data_dir is None:\n",
        "    data_dir = \"\"\n",
        "\n",
        "ml_path = os.path.join(data_dir, \"ml.zip\")\n",
        "\n",
        "if not os.path.exists(ml_path):\n",
        "    print(\"Download data\")\n",
        "    import urllib\n",
        "    u = urllib.request.URLopener()\n",
        "    u.retrieve(\"http://files.grouplens.org/datasets/movielens/ml-100k.zip\", ml_path)\n",
        "    print(\"Data downloaded\")"
      ]
    },
    {
      "cell_type": "markdown",
      "metadata": {
        "id": "IHglULlEDCeE"
      },
      "source": [
        "Kicsomagoljuk a zip fájlt:"
      ]
    },
    {
      "cell_type": "code",
      "execution_count": 241,
      "metadata": {
        "colab": {
          "base_uri": "https://localhost:8080/"
        },
        "id": "IyRiN0FKDCeF",
        "outputId": "4e35e92f-ce71-4b00-a13c-04abeb5c440e"
      },
      "outputs": [],
      "source": [
        "unzip_path = os.path.join(data_dir, \"ml-100k\")\n",
        "\n",
        "if not os.path.exists(unzip_path):\n",
        "    print(\"Extracting data\")\n",
        "    from zipfile import ZipFile\n",
        "    with ZipFile(ml_path) as myzip:\n",
        "        myzip.extractall(data_dir)\n",
        "    print(\"Data extraction done\")\n",
        "        \n",
        "data_dir = unzip_path"
      ]
    },
    {
      "cell_type": "markdown",
      "metadata": {
        "id": "JaxPIvI5DCeI"
      },
      "source": [
        "## Adat betöltése és normalizálása\n",
        "\n",
        "A `pd.read_table` függvény táblázatos adatok betöltésére alkalmas. Több tucat paraméterrel [rendelkezik](http://pandas.pydata.org/pandas-docs/stable/generated/pandas.read_table.html), de csak egy kötelező paramétere van: a fájl, amit beolvasunk.\n",
        "A karakterkódolást is meg kell adnunk, mert a fájl nem az alapértelmezett (utf-8) kódolást használja, hanem az ISO-8859-1-et, vagy köznéven a latin1-et."
      ]
    },
    {
      "cell_type": "code",
      "execution_count": 242,
      "metadata": {
        "colab": {
          "base_uri": "https://localhost:8080/",
          "height": 206
        },
        "id": "J4eWTL3PDCeJ",
        "outputId": "7f8448de-b8b9-4dcb-e714-df0e5eb436c1"
      },
      "outputs": [
        {
          "data": {
            "text/html": [
              "<div>\n",
              "<style scoped>\n",
              "    .dataframe tbody tr th:only-of-type {\n",
              "        vertical-align: middle;\n",
              "    }\n",
              "\n",
              "    .dataframe tbody tr th {\n",
              "        vertical-align: top;\n",
              "    }\n",
              "\n",
              "    .dataframe thead th {\n",
              "        text-align: right;\n",
              "    }\n",
              "</style>\n",
              "<table border=\"1\" class=\"dataframe\">\n",
              "  <thead>\n",
              "    <tr style=\"text-align: right;\">\n",
              "      <th></th>\n",
              "      <th>1|Toy Story (1995)|01-Jan-1995||http://us.imdb.com/M/title-exact?Toy%20Story%20(1995)|0|0|0|1|1|1|0|0|0|0|0|0|0|0|0|0|0|0|0</th>\n",
              "    </tr>\n",
              "  </thead>\n",
              "  <tbody>\n",
              "    <tr>\n",
              "      <th>0</th>\n",
              "      <td>2|GoldenEye (1995)|01-Jan-1995||http://us.imdb...</td>\n",
              "    </tr>\n",
              "    <tr>\n",
              "      <th>1</th>\n",
              "      <td>3|Four Rooms (1995)|01-Jan-1995||http://us.imd...</td>\n",
              "    </tr>\n",
              "    <tr>\n",
              "      <th>2</th>\n",
              "      <td>4|Get Shorty (1995)|01-Jan-1995||http://us.imd...</td>\n",
              "    </tr>\n",
              "    <tr>\n",
              "      <th>3</th>\n",
              "      <td>5|Copycat (1995)|01-Jan-1995||http://us.imdb.c...</td>\n",
              "    </tr>\n",
              "    <tr>\n",
              "      <th>4</th>\n",
              "      <td>6|Shanghai Triad (Yao a yao yao dao waipo qiao...</td>\n",
              "    </tr>\n",
              "  </tbody>\n",
              "</table>\n",
              "</div>"
            ],
            "text/plain": [
              "  1|Toy Story (1995)|01-Jan-1995||http://us.imdb.com/M/title-exact?Toy%20Story%20(1995)|0|0|0|1|1|1|0|0|0|0|0|0|0|0|0|0|0|0|0\n",
              "0  2|GoldenEye (1995)|01-Jan-1995||http://us.imdb...                                                                         \n",
              "1  3|Four Rooms (1995)|01-Jan-1995||http://us.imd...                                                                         \n",
              "2  4|Get Shorty (1995)|01-Jan-1995||http://us.imd...                                                                         \n",
              "3  5|Copycat (1995)|01-Jan-1995||http://us.imdb.c...                                                                         \n",
              "4  6|Shanghai Triad (Yao a yao yao dao waipo qiao...                                                                         "
            ]
          },
          "execution_count": 242,
          "metadata": {},
          "output_type": "execute_result"
        }
      ],
      "source": [
        "# df = pd.read_table(\"ml-100k/u.item\")  # UnicodeDecodeErrort kapunk, mert rossz dekódert használ\n",
        "df = pd.read_table(os.path.join(data_dir, \"u.item\"), encoding=\"latin1\")\n",
        "df.head()"
      ]
    },
    {
      "cell_type": "markdown",
      "metadata": {
        "id": "ZuUxzl4wDCeM"
      },
      "source": [
        "Ez még elég rosszul néz ki. Hogyan tudnánk javítani?\n",
        "1. Rossz szeparátort használt a függvény (tab az alapértelmezett). A fájlban | a szeparátor. Ezt a `sep` paraméterrel tudjuk megadni.\n",
        "1. A fájl első sora került az oszlopnevek helyére. Az oszlopok valódi nevei a README fájlból derülnek ki, amit kézzel megadhatjuk a read_table-nek a `names` paraméterben.\n",
        "1. A read_table automatikusan generált egy id-t minden sornak, azonban az adatfájlban a filmek már rendelkeznek egy egyedi azonosítóval (movie_id), használjuk ezt a DataFrame indexeként (`index_col` paraméter). Célszerű szóköz nélküli, kisbetűs oszlopneveket használni, mert akkor attribútumként is elérjük őket (`df.release_date`)."
      ]
    },
    {
      "cell_type": "code",
      "execution_count": 243,
      "metadata": {
        "id": "h8tGmZvQDCeM"
      },
      "outputs": [],
      "source": [
        "column_names = [\n",
        "    \"movie_id\", \"title\", \"release_date\", \"video_release_date\", \"imdb_url\", \"unknown\", \"action\", \"adventure\", \"animation\",\n",
        "    \"children\", \"comedy\", \"crime\", \"documentary\", \"drama\", \"fantasy\", \"film_noir\", \"horror\", \"musical\", \"mystery\",\n",
        "    \"romance\", \"sci_fi\", \"thriller\", \"war\", \"western\"]"
      ]
    },
    {
      "cell_type": "code",
      "execution_count": 244,
      "metadata": {
        "colab": {
          "base_uri": "https://localhost:8080/",
          "height": 423
        },
        "id": "HOFoNmFhDCeP",
        "outputId": "3b85c078-d00c-46e7-ba1e-b6807df96853"
      },
      "outputs": [
        {
          "data": {
            "text/html": [
              "<div>\n",
              "<style scoped>\n",
              "    .dataframe tbody tr th:only-of-type {\n",
              "        vertical-align: middle;\n",
              "    }\n",
              "\n",
              "    .dataframe tbody tr th {\n",
              "        vertical-align: top;\n",
              "    }\n",
              "\n",
              "    .dataframe thead th {\n",
              "        text-align: right;\n",
              "    }\n",
              "</style>\n",
              "<table border=\"1\" class=\"dataframe\">\n",
              "  <thead>\n",
              "    <tr style=\"text-align: right;\">\n",
              "      <th></th>\n",
              "      <th>title</th>\n",
              "      <th>release_date</th>\n",
              "      <th>video_release_date</th>\n",
              "      <th>imdb_url</th>\n",
              "      <th>unknown</th>\n",
              "      <th>action</th>\n",
              "      <th>adventure</th>\n",
              "      <th>animation</th>\n",
              "      <th>children</th>\n",
              "      <th>comedy</th>\n",
              "      <th>...</th>\n",
              "      <th>fantasy</th>\n",
              "      <th>film_noir</th>\n",
              "      <th>horror</th>\n",
              "      <th>musical</th>\n",
              "      <th>mystery</th>\n",
              "      <th>romance</th>\n",
              "      <th>sci_fi</th>\n",
              "      <th>thriller</th>\n",
              "      <th>war</th>\n",
              "      <th>western</th>\n",
              "    </tr>\n",
              "    <tr>\n",
              "      <th>movie_id</th>\n",
              "      <th></th>\n",
              "      <th></th>\n",
              "      <th></th>\n",
              "      <th></th>\n",
              "      <th></th>\n",
              "      <th></th>\n",
              "      <th></th>\n",
              "      <th></th>\n",
              "      <th></th>\n",
              "      <th></th>\n",
              "      <th></th>\n",
              "      <th></th>\n",
              "      <th></th>\n",
              "      <th></th>\n",
              "      <th></th>\n",
              "      <th></th>\n",
              "      <th></th>\n",
              "      <th></th>\n",
              "      <th></th>\n",
              "      <th></th>\n",
              "      <th></th>\n",
              "    </tr>\n",
              "  </thead>\n",
              "  <tbody>\n",
              "    <tr>\n",
              "      <th>1</th>\n",
              "      <td>Toy Story (1995)</td>\n",
              "      <td>01-Jan-1995</td>\n",
              "      <td>NaN</td>\n",
              "      <td>http://us.imdb.com/M/title-exact?Toy%20Story%2...</td>\n",
              "      <td>0</td>\n",
              "      <td>0</td>\n",
              "      <td>0</td>\n",
              "      <td>1</td>\n",
              "      <td>1</td>\n",
              "      <td>1</td>\n",
              "      <td>...</td>\n",
              "      <td>0</td>\n",
              "      <td>0</td>\n",
              "      <td>0</td>\n",
              "      <td>0</td>\n",
              "      <td>0</td>\n",
              "      <td>0</td>\n",
              "      <td>0</td>\n",
              "      <td>0</td>\n",
              "      <td>0</td>\n",
              "      <td>0</td>\n",
              "    </tr>\n",
              "    <tr>\n",
              "      <th>2</th>\n",
              "      <td>GoldenEye (1995)</td>\n",
              "      <td>01-Jan-1995</td>\n",
              "      <td>NaN</td>\n",
              "      <td>http://us.imdb.com/M/title-exact?GoldenEye%20(...</td>\n",
              "      <td>0</td>\n",
              "      <td>1</td>\n",
              "      <td>1</td>\n",
              "      <td>0</td>\n",
              "      <td>0</td>\n",
              "      <td>0</td>\n",
              "      <td>...</td>\n",
              "      <td>0</td>\n",
              "      <td>0</td>\n",
              "      <td>0</td>\n",
              "      <td>0</td>\n",
              "      <td>0</td>\n",
              "      <td>0</td>\n",
              "      <td>0</td>\n",
              "      <td>1</td>\n",
              "      <td>0</td>\n",
              "      <td>0</td>\n",
              "    </tr>\n",
              "    <tr>\n",
              "      <th>3</th>\n",
              "      <td>Four Rooms (1995)</td>\n",
              "      <td>01-Jan-1995</td>\n",
              "      <td>NaN</td>\n",
              "      <td>http://us.imdb.com/M/title-exact?Four%20Rooms%...</td>\n",
              "      <td>0</td>\n",
              "      <td>0</td>\n",
              "      <td>0</td>\n",
              "      <td>0</td>\n",
              "      <td>0</td>\n",
              "      <td>0</td>\n",
              "      <td>...</td>\n",
              "      <td>0</td>\n",
              "      <td>0</td>\n",
              "      <td>0</td>\n",
              "      <td>0</td>\n",
              "      <td>0</td>\n",
              "      <td>0</td>\n",
              "      <td>0</td>\n",
              "      <td>1</td>\n",
              "      <td>0</td>\n",
              "      <td>0</td>\n",
              "    </tr>\n",
              "    <tr>\n",
              "      <th>4</th>\n",
              "      <td>Get Shorty (1995)</td>\n",
              "      <td>01-Jan-1995</td>\n",
              "      <td>NaN</td>\n",
              "      <td>http://us.imdb.com/M/title-exact?Get%20Shorty%...</td>\n",
              "      <td>0</td>\n",
              "      <td>1</td>\n",
              "      <td>0</td>\n",
              "      <td>0</td>\n",
              "      <td>0</td>\n",
              "      <td>1</td>\n",
              "      <td>...</td>\n",
              "      <td>0</td>\n",
              "      <td>0</td>\n",
              "      <td>0</td>\n",
              "      <td>0</td>\n",
              "      <td>0</td>\n",
              "      <td>0</td>\n",
              "      <td>0</td>\n",
              "      <td>0</td>\n",
              "      <td>0</td>\n",
              "      <td>0</td>\n",
              "    </tr>\n",
              "    <tr>\n",
              "      <th>5</th>\n",
              "      <td>Copycat (1995)</td>\n",
              "      <td>01-Jan-1995</td>\n",
              "      <td>NaN</td>\n",
              "      <td>http://us.imdb.com/M/title-exact?Copycat%20(1995)</td>\n",
              "      <td>0</td>\n",
              "      <td>0</td>\n",
              "      <td>0</td>\n",
              "      <td>0</td>\n",
              "      <td>0</td>\n",
              "      <td>0</td>\n",
              "      <td>...</td>\n",
              "      <td>0</td>\n",
              "      <td>0</td>\n",
              "      <td>0</td>\n",
              "      <td>0</td>\n",
              "      <td>0</td>\n",
              "      <td>0</td>\n",
              "      <td>0</td>\n",
              "      <td>1</td>\n",
              "      <td>0</td>\n",
              "      <td>0</td>\n",
              "    </tr>\n",
              "  </tbody>\n",
              "</table>\n",
              "<p>5 rows × 23 columns</p>\n",
              "</div>"
            ],
            "text/plain": [
              "                      title release_date  video_release_date  \\\n",
              "movie_id                                                       \n",
              "1          Toy Story (1995)  01-Jan-1995                 NaN   \n",
              "2          GoldenEye (1995)  01-Jan-1995                 NaN   \n",
              "3         Four Rooms (1995)  01-Jan-1995                 NaN   \n",
              "4         Get Shorty (1995)  01-Jan-1995                 NaN   \n",
              "5            Copycat (1995)  01-Jan-1995                 NaN   \n",
              "\n",
              "                                                   imdb_url  unknown  action  \\\n",
              "movie_id                                                                       \n",
              "1         http://us.imdb.com/M/title-exact?Toy%20Story%2...        0       0   \n",
              "2         http://us.imdb.com/M/title-exact?GoldenEye%20(...        0       1   \n",
              "3         http://us.imdb.com/M/title-exact?Four%20Rooms%...        0       0   \n",
              "4         http://us.imdb.com/M/title-exact?Get%20Shorty%...        0       1   \n",
              "5         http://us.imdb.com/M/title-exact?Copycat%20(1995)        0       0   \n",
              "\n",
              "          adventure  animation  children  comedy  ...  fantasy  film_noir  \\\n",
              "movie_id                                          ...                       \n",
              "1                 0          1         1       1  ...        0          0   \n",
              "2                 1          0         0       0  ...        0          0   \n",
              "3                 0          0         0       0  ...        0          0   \n",
              "4                 0          0         0       1  ...        0          0   \n",
              "5                 0          0         0       0  ...        0          0   \n",
              "\n",
              "          horror  musical  mystery  romance  sci_fi  thriller  war  western  \n",
              "movie_id                                                                     \n",
              "1              0        0        0        0       0         0    0        0  \n",
              "2              0        0        0        0       0         1    0        0  \n",
              "3              0        0        0        0       0         1    0        0  \n",
              "4              0        0        0        0       0         0    0        0  \n",
              "5              0        0        0        0       0         1    0        0  \n",
              "\n",
              "[5 rows x 23 columns]"
            ]
          },
          "execution_count": 244,
          "metadata": {},
          "output_type": "execute_result"
        }
      ],
      "source": [
        "df = pd.read_table(\n",
        "    os.path.join(data_dir, \"u.item\"), sep=\"|\",\n",
        "    names=column_names, encoding=\"latin1\", index_col='movie_id')\n",
        "df.head()"
      ]
    },
    {
      "cell_type": "markdown",
      "metadata": {
        "id": "Tu3lC6DQDCeR"
      },
      "source": [
        "Két oszlop is van, amik dátumot jelölnek: `release_date, video_release_date`. A pandas parszolni tudja a dátumokat többféle népszerű formátumban, ehhez csak a `parse_dates` paraméterben kell megadnunk a dátumot tartalmazó oszlopokat. Figyeljük meg, hogy ahol nincs dátum, az Nan (not a number)-ről NaT-ra (not a time) változik."
      ]
    },
    {
      "cell_type": "code",
      "execution_count": 245,
      "metadata": {
        "colab": {
          "base_uri": "https://localhost:8080/",
          "height": 423
        },
        "id": "OfQpCw0gDCeR",
        "outputId": "ab2fd9df-578f-46ac-c6b8-7c886136413e"
      },
      "outputs": [
        {
          "data": {
            "text/html": [
              "<div>\n",
              "<style scoped>\n",
              "    .dataframe tbody tr th:only-of-type {\n",
              "        vertical-align: middle;\n",
              "    }\n",
              "\n",
              "    .dataframe tbody tr th {\n",
              "        vertical-align: top;\n",
              "    }\n",
              "\n",
              "    .dataframe thead th {\n",
              "        text-align: right;\n",
              "    }\n",
              "</style>\n",
              "<table border=\"1\" class=\"dataframe\">\n",
              "  <thead>\n",
              "    <tr style=\"text-align: right;\">\n",
              "      <th></th>\n",
              "      <th>title</th>\n",
              "      <th>release_date</th>\n",
              "      <th>video_release_date</th>\n",
              "      <th>imdb_url</th>\n",
              "      <th>unknown</th>\n",
              "      <th>action</th>\n",
              "      <th>adventure</th>\n",
              "      <th>animation</th>\n",
              "      <th>children</th>\n",
              "      <th>comedy</th>\n",
              "      <th>...</th>\n",
              "      <th>fantasy</th>\n",
              "      <th>film_noir</th>\n",
              "      <th>horror</th>\n",
              "      <th>musical</th>\n",
              "      <th>mystery</th>\n",
              "      <th>romance</th>\n",
              "      <th>sci_fi</th>\n",
              "      <th>thriller</th>\n",
              "      <th>war</th>\n",
              "      <th>western</th>\n",
              "    </tr>\n",
              "    <tr>\n",
              "      <th>movie_id</th>\n",
              "      <th></th>\n",
              "      <th></th>\n",
              "      <th></th>\n",
              "      <th></th>\n",
              "      <th></th>\n",
              "      <th></th>\n",
              "      <th></th>\n",
              "      <th></th>\n",
              "      <th></th>\n",
              "      <th></th>\n",
              "      <th></th>\n",
              "      <th></th>\n",
              "      <th></th>\n",
              "      <th></th>\n",
              "      <th></th>\n",
              "      <th></th>\n",
              "      <th></th>\n",
              "      <th></th>\n",
              "      <th></th>\n",
              "      <th></th>\n",
              "      <th></th>\n",
              "    </tr>\n",
              "  </thead>\n",
              "  <tbody>\n",
              "    <tr>\n",
              "      <th>1</th>\n",
              "      <td>Toy Story (1995)</td>\n",
              "      <td>1995-01-01</td>\n",
              "      <td>NaT</td>\n",
              "      <td>http://us.imdb.com/M/title-exact?Toy%20Story%2...</td>\n",
              "      <td>0</td>\n",
              "      <td>0</td>\n",
              "      <td>0</td>\n",
              "      <td>1</td>\n",
              "      <td>1</td>\n",
              "      <td>1</td>\n",
              "      <td>...</td>\n",
              "      <td>0</td>\n",
              "      <td>0</td>\n",
              "      <td>0</td>\n",
              "      <td>0</td>\n",
              "      <td>0</td>\n",
              "      <td>0</td>\n",
              "      <td>0</td>\n",
              "      <td>0</td>\n",
              "      <td>0</td>\n",
              "      <td>0</td>\n",
              "    </tr>\n",
              "    <tr>\n",
              "      <th>2</th>\n",
              "      <td>GoldenEye (1995)</td>\n",
              "      <td>1995-01-01</td>\n",
              "      <td>NaT</td>\n",
              "      <td>http://us.imdb.com/M/title-exact?GoldenEye%20(...</td>\n",
              "      <td>0</td>\n",
              "      <td>1</td>\n",
              "      <td>1</td>\n",
              "      <td>0</td>\n",
              "      <td>0</td>\n",
              "      <td>0</td>\n",
              "      <td>...</td>\n",
              "      <td>0</td>\n",
              "      <td>0</td>\n",
              "      <td>0</td>\n",
              "      <td>0</td>\n",
              "      <td>0</td>\n",
              "      <td>0</td>\n",
              "      <td>0</td>\n",
              "      <td>1</td>\n",
              "      <td>0</td>\n",
              "      <td>0</td>\n",
              "    </tr>\n",
              "    <tr>\n",
              "      <th>3</th>\n",
              "      <td>Four Rooms (1995)</td>\n",
              "      <td>1995-01-01</td>\n",
              "      <td>NaT</td>\n",
              "      <td>http://us.imdb.com/M/title-exact?Four%20Rooms%...</td>\n",
              "      <td>0</td>\n",
              "      <td>0</td>\n",
              "      <td>0</td>\n",
              "      <td>0</td>\n",
              "      <td>0</td>\n",
              "      <td>0</td>\n",
              "      <td>...</td>\n",
              "      <td>0</td>\n",
              "      <td>0</td>\n",
              "      <td>0</td>\n",
              "      <td>0</td>\n",
              "      <td>0</td>\n",
              "      <td>0</td>\n",
              "      <td>0</td>\n",
              "      <td>1</td>\n",
              "      <td>0</td>\n",
              "      <td>0</td>\n",
              "    </tr>\n",
              "    <tr>\n",
              "      <th>4</th>\n",
              "      <td>Get Shorty (1995)</td>\n",
              "      <td>1995-01-01</td>\n",
              "      <td>NaT</td>\n",
              "      <td>http://us.imdb.com/M/title-exact?Get%20Shorty%...</td>\n",
              "      <td>0</td>\n",
              "      <td>1</td>\n",
              "      <td>0</td>\n",
              "      <td>0</td>\n",
              "      <td>0</td>\n",
              "      <td>1</td>\n",
              "      <td>...</td>\n",
              "      <td>0</td>\n",
              "      <td>0</td>\n",
              "      <td>0</td>\n",
              "      <td>0</td>\n",
              "      <td>0</td>\n",
              "      <td>0</td>\n",
              "      <td>0</td>\n",
              "      <td>0</td>\n",
              "      <td>0</td>\n",
              "      <td>0</td>\n",
              "    </tr>\n",
              "    <tr>\n",
              "      <th>5</th>\n",
              "      <td>Copycat (1995)</td>\n",
              "      <td>1995-01-01</td>\n",
              "      <td>NaT</td>\n",
              "      <td>http://us.imdb.com/M/title-exact?Copycat%20(1995)</td>\n",
              "      <td>0</td>\n",
              "      <td>0</td>\n",
              "      <td>0</td>\n",
              "      <td>0</td>\n",
              "      <td>0</td>\n",
              "      <td>0</td>\n",
              "      <td>...</td>\n",
              "      <td>0</td>\n",
              "      <td>0</td>\n",
              "      <td>0</td>\n",
              "      <td>0</td>\n",
              "      <td>0</td>\n",
              "      <td>0</td>\n",
              "      <td>0</td>\n",
              "      <td>1</td>\n",
              "      <td>0</td>\n",
              "      <td>0</td>\n",
              "    </tr>\n",
              "  </tbody>\n",
              "</table>\n",
              "<p>5 rows × 23 columns</p>\n",
              "</div>"
            ],
            "text/plain": [
              "                      title release_date video_release_date  \\\n",
              "movie_id                                                      \n",
              "1          Toy Story (1995)   1995-01-01                NaT   \n",
              "2          GoldenEye (1995)   1995-01-01                NaT   \n",
              "3         Four Rooms (1995)   1995-01-01                NaT   \n",
              "4         Get Shorty (1995)   1995-01-01                NaT   \n",
              "5            Copycat (1995)   1995-01-01                NaT   \n",
              "\n",
              "                                                   imdb_url  unknown  action  \\\n",
              "movie_id                                                                       \n",
              "1         http://us.imdb.com/M/title-exact?Toy%20Story%2...        0       0   \n",
              "2         http://us.imdb.com/M/title-exact?GoldenEye%20(...        0       1   \n",
              "3         http://us.imdb.com/M/title-exact?Four%20Rooms%...        0       0   \n",
              "4         http://us.imdb.com/M/title-exact?Get%20Shorty%...        0       1   \n",
              "5         http://us.imdb.com/M/title-exact?Copycat%20(1995)        0       0   \n",
              "\n",
              "          adventure  animation  children  comedy  ...  fantasy  film_noir  \\\n",
              "movie_id                                          ...                       \n",
              "1                 0          1         1       1  ...        0          0   \n",
              "2                 1          0         0       0  ...        0          0   \n",
              "3                 0          0         0       0  ...        0          0   \n",
              "4                 0          0         0       1  ...        0          0   \n",
              "5                 0          0         0       0  ...        0          0   \n",
              "\n",
              "          horror  musical  mystery  romance  sci_fi  thriller  war  western  \n",
              "movie_id                                                                     \n",
              "1              0        0        0        0       0         0    0        0  \n",
              "2              0        0        0        0       0         1    0        0  \n",
              "3              0        0        0        0       0         1    0        0  \n",
              "4              0        0        0        0       0         0    0        0  \n",
              "5              0        0        0        0       0         1    0        0  \n",
              "\n",
              "[5 rows x 23 columns]"
            ]
          },
          "execution_count": 245,
          "metadata": {},
          "output_type": "execute_result"
        }
      ],
      "source": [
        "df = pd.read_table(os.path.join(data_dir, \"u.item\"), sep=\"|\",\n",
        "                   names=column_names, encoding=\"latin1\",\n",
        "                   parse_dates=[2,3], index_col='movie_id')\n",
        "df.head()"
      ]
    },
    {
      "cell_type": "markdown",
      "metadata": {
        "id": "kG4o3LP1DCeU"
      },
      "source": [
        "Még mindig nem tökéletes, hiszen a filmek címei után szerepel az évszám zárójelben, ami egyrészt redundáns, másrészt zaj. Tüntessük el!\n",
        "\n",
        "A szokásos `str` műveletek egy része elérhető DataSeries objektumokra is (minden elemre végrehajtja). A függvényeket az `str` névtérben találjuk."
      ]
    },
    {
      "cell_type": "code",
      "execution_count": 246,
      "metadata": {
        "colab": {
          "base_uri": "https://localhost:8080/"
        },
        "id": "1qF2GKhODCeU",
        "outputId": "de56d5b9-9e23-4b64-933e-64ffca4c2a64"
      },
      "outputs": [
        {
          "data": {
            "text/plain": [
              "<pandas.core.strings.accessor.StringMethods at 0x74975ab9aeb0>"
            ]
          },
          "execution_count": 246,
          "metadata": {},
          "output_type": "execute_result"
        }
      ],
      "source": [
        "df.title.str"
      ]
    },
    {
      "cell_type": "markdown",
      "metadata": {
        "id": "wOvkikX6DCeW"
      },
      "source": [
        "Egy reguláris kifejezéssel eltüntetjük a két zárójel közti részt, majd eltávolítjuk az ott maradt whitespace-eket (a strip függvény a stringek elejéről és végéről is eltávolítja).\n",
        "Végül adjuk értékül a régi title oszlopnak a kezdő és záró whitespace-ektől megfosztott változatát."
      ]
    },
    {
      "cell_type": "code",
      "execution_count": 247,
      "metadata": {
        "colab": {
          "base_uri": "https://localhost:8080/"
        },
        "id": "tI-tXVwYDCeX",
        "outputId": "4cdcdfc4-908f-430c-9568-991f4334a696"
      },
      "outputs": [],
      "source": [
        "df.title = df.title.str.replace(r'\\(.*\\)', '').str.strip()"
      ]
    },
    {
      "cell_type": "code",
      "execution_count": 248,
      "metadata": {
        "colab": {
          "base_uri": "https://localhost:8080/",
          "height": 388
        },
        "id": "f5gMvhF_DCeZ",
        "outputId": "1ce4b642-bfb9-44aa-d0e3-c01479536bea"
      },
      "outputs": [
        {
          "data": {
            "text/html": [
              "<div>\n",
              "<style scoped>\n",
              "    .dataframe tbody tr th:only-of-type {\n",
              "        vertical-align: middle;\n",
              "    }\n",
              "\n",
              "    .dataframe tbody tr th {\n",
              "        vertical-align: top;\n",
              "    }\n",
              "\n",
              "    .dataframe thead th {\n",
              "        text-align: right;\n",
              "    }\n",
              "</style>\n",
              "<table border=\"1\" class=\"dataframe\">\n",
              "  <thead>\n",
              "    <tr style=\"text-align: right;\">\n",
              "      <th></th>\n",
              "      <th>title</th>\n",
              "      <th>release_date</th>\n",
              "      <th>video_release_date</th>\n",
              "      <th>imdb_url</th>\n",
              "      <th>unknown</th>\n",
              "      <th>action</th>\n",
              "      <th>adventure</th>\n",
              "      <th>animation</th>\n",
              "      <th>children</th>\n",
              "      <th>comedy</th>\n",
              "      <th>...</th>\n",
              "      <th>fantasy</th>\n",
              "      <th>film_noir</th>\n",
              "      <th>horror</th>\n",
              "      <th>musical</th>\n",
              "      <th>mystery</th>\n",
              "      <th>romance</th>\n",
              "      <th>sci_fi</th>\n",
              "      <th>thriller</th>\n",
              "      <th>war</th>\n",
              "      <th>western</th>\n",
              "    </tr>\n",
              "    <tr>\n",
              "      <th>movie_id</th>\n",
              "      <th></th>\n",
              "      <th></th>\n",
              "      <th></th>\n",
              "      <th></th>\n",
              "      <th></th>\n",
              "      <th></th>\n",
              "      <th></th>\n",
              "      <th></th>\n",
              "      <th></th>\n",
              "      <th></th>\n",
              "      <th></th>\n",
              "      <th></th>\n",
              "      <th></th>\n",
              "      <th></th>\n",
              "      <th></th>\n",
              "      <th></th>\n",
              "      <th></th>\n",
              "      <th></th>\n",
              "      <th></th>\n",
              "      <th></th>\n",
              "      <th></th>\n",
              "    </tr>\n",
              "  </thead>\n",
              "  <tbody>\n",
              "    <tr>\n",
              "      <th>1</th>\n",
              "      <td>Toy Story (1995)</td>\n",
              "      <td>1995-01-01</td>\n",
              "      <td>NaT</td>\n",
              "      <td>http://us.imdb.com/M/title-exact?Toy%20Story%2...</td>\n",
              "      <td>0</td>\n",
              "      <td>0</td>\n",
              "      <td>0</td>\n",
              "      <td>1</td>\n",
              "      <td>1</td>\n",
              "      <td>1</td>\n",
              "      <td>...</td>\n",
              "      <td>0</td>\n",
              "      <td>0</td>\n",
              "      <td>0</td>\n",
              "      <td>0</td>\n",
              "      <td>0</td>\n",
              "      <td>0</td>\n",
              "      <td>0</td>\n",
              "      <td>0</td>\n",
              "      <td>0</td>\n",
              "      <td>0</td>\n",
              "    </tr>\n",
              "    <tr>\n",
              "      <th>2</th>\n",
              "      <td>GoldenEye (1995)</td>\n",
              "      <td>1995-01-01</td>\n",
              "      <td>NaT</td>\n",
              "      <td>http://us.imdb.com/M/title-exact?GoldenEye%20(...</td>\n",
              "      <td>0</td>\n",
              "      <td>1</td>\n",
              "      <td>1</td>\n",
              "      <td>0</td>\n",
              "      <td>0</td>\n",
              "      <td>0</td>\n",
              "      <td>...</td>\n",
              "      <td>0</td>\n",
              "      <td>0</td>\n",
              "      <td>0</td>\n",
              "      <td>0</td>\n",
              "      <td>0</td>\n",
              "      <td>0</td>\n",
              "      <td>0</td>\n",
              "      <td>1</td>\n",
              "      <td>0</td>\n",
              "      <td>0</td>\n",
              "    </tr>\n",
              "    <tr>\n",
              "      <th>3</th>\n",
              "      <td>Four Rooms (1995)</td>\n",
              "      <td>1995-01-01</td>\n",
              "      <td>NaT</td>\n",
              "      <td>http://us.imdb.com/M/title-exact?Four%20Rooms%...</td>\n",
              "      <td>0</td>\n",
              "      <td>0</td>\n",
              "      <td>0</td>\n",
              "      <td>0</td>\n",
              "      <td>0</td>\n",
              "      <td>0</td>\n",
              "      <td>...</td>\n",
              "      <td>0</td>\n",
              "      <td>0</td>\n",
              "      <td>0</td>\n",
              "      <td>0</td>\n",
              "      <td>0</td>\n",
              "      <td>0</td>\n",
              "      <td>0</td>\n",
              "      <td>1</td>\n",
              "      <td>0</td>\n",
              "      <td>0</td>\n",
              "    </tr>\n",
              "    <tr>\n",
              "      <th>4</th>\n",
              "      <td>Get Shorty (1995)</td>\n",
              "      <td>1995-01-01</td>\n",
              "      <td>NaT</td>\n",
              "      <td>http://us.imdb.com/M/title-exact?Get%20Shorty%...</td>\n",
              "      <td>0</td>\n",
              "      <td>1</td>\n",
              "      <td>0</td>\n",
              "      <td>0</td>\n",
              "      <td>0</td>\n",
              "      <td>1</td>\n",
              "      <td>...</td>\n",
              "      <td>0</td>\n",
              "      <td>0</td>\n",
              "      <td>0</td>\n",
              "      <td>0</td>\n",
              "      <td>0</td>\n",
              "      <td>0</td>\n",
              "      <td>0</td>\n",
              "      <td>0</td>\n",
              "      <td>0</td>\n",
              "      <td>0</td>\n",
              "    </tr>\n",
              "    <tr>\n",
              "      <th>5</th>\n",
              "      <td>Copycat (1995)</td>\n",
              "      <td>1995-01-01</td>\n",
              "      <td>NaT</td>\n",
              "      <td>http://us.imdb.com/M/title-exact?Copycat%20(1995)</td>\n",
              "      <td>0</td>\n",
              "      <td>0</td>\n",
              "      <td>0</td>\n",
              "      <td>0</td>\n",
              "      <td>0</td>\n",
              "      <td>0</td>\n",
              "      <td>...</td>\n",
              "      <td>0</td>\n",
              "      <td>0</td>\n",
              "      <td>0</td>\n",
              "      <td>0</td>\n",
              "      <td>0</td>\n",
              "      <td>0</td>\n",
              "      <td>0</td>\n",
              "      <td>1</td>\n",
              "      <td>0</td>\n",
              "      <td>0</td>\n",
              "    </tr>\n",
              "  </tbody>\n",
              "</table>\n",
              "<p>5 rows × 23 columns</p>\n",
              "</div>"
            ],
            "text/plain": [
              "                      title release_date video_release_date  \\\n",
              "movie_id                                                      \n",
              "1          Toy Story (1995)   1995-01-01                NaT   \n",
              "2          GoldenEye (1995)   1995-01-01                NaT   \n",
              "3         Four Rooms (1995)   1995-01-01                NaT   \n",
              "4         Get Shorty (1995)   1995-01-01                NaT   \n",
              "5            Copycat (1995)   1995-01-01                NaT   \n",
              "\n",
              "                                                   imdb_url  unknown  action  \\\n",
              "movie_id                                                                       \n",
              "1         http://us.imdb.com/M/title-exact?Toy%20Story%2...        0       0   \n",
              "2         http://us.imdb.com/M/title-exact?GoldenEye%20(...        0       1   \n",
              "3         http://us.imdb.com/M/title-exact?Four%20Rooms%...        0       0   \n",
              "4         http://us.imdb.com/M/title-exact?Get%20Shorty%...        0       1   \n",
              "5         http://us.imdb.com/M/title-exact?Copycat%20(1995)        0       0   \n",
              "\n",
              "          adventure  animation  children  comedy  ...  fantasy  film_noir  \\\n",
              "movie_id                                          ...                       \n",
              "1                 0          1         1       1  ...        0          0   \n",
              "2                 1          0         0       0  ...        0          0   \n",
              "3                 0          0         0       0  ...        0          0   \n",
              "4                 0          0         0       1  ...        0          0   \n",
              "5                 0          0         0       0  ...        0          0   \n",
              "\n",
              "          horror  musical  mystery  romance  sci_fi  thriller  war  western  \n",
              "movie_id                                                                     \n",
              "1              0        0        0        0       0         0    0        0  \n",
              "2              0        0        0        0       0         1    0        0  \n",
              "3              0        0        0        0       0         1    0        0  \n",
              "4              0        0        0        0       0         0    0        0  \n",
              "5              0        0        0        0       0         1    0        0  \n",
              "\n",
              "[5 rows x 23 columns]"
            ]
          },
          "execution_count": 248,
          "metadata": {},
          "output_type": "execute_result"
        }
      ],
      "source": [
        "df.head()"
      ]
    },
    {
      "cell_type": "markdown",
      "metadata": {
        "id": "svcIUTB0DCeb"
      },
      "source": [
        "A `video_release_date` mező az első néhány sorban csak érvénytelen mezőket tartalmaz. Vajon igaz ez az egész DataFrame-re? Listázzuk ki azokat a mezőket, ahol nem NaT a video_release_date értéke, vagyis érvénytelen dátum."
      ]
    },
    {
      "cell_type": "code",
      "execution_count": 249,
      "metadata": {
        "colab": {
          "base_uri": "https://localhost:8080/",
          "height": 144
        },
        "id": "1GXKH-RHDCec",
        "outputId": "f0bdf5ac-2caa-41e9-ce1e-23d5e0de7c2e"
      },
      "outputs": [
        {
          "data": {
            "text/html": [
              "<div>\n",
              "<style scoped>\n",
              "    .dataframe tbody tr th:only-of-type {\n",
              "        vertical-align: middle;\n",
              "    }\n",
              "\n",
              "    .dataframe tbody tr th {\n",
              "        vertical-align: top;\n",
              "    }\n",
              "\n",
              "    .dataframe thead th {\n",
              "        text-align: right;\n",
              "    }\n",
              "</style>\n",
              "<table border=\"1\" class=\"dataframe\">\n",
              "  <thead>\n",
              "    <tr style=\"text-align: right;\">\n",
              "      <th></th>\n",
              "      <th>title</th>\n",
              "      <th>release_date</th>\n",
              "      <th>video_release_date</th>\n",
              "      <th>imdb_url</th>\n",
              "      <th>unknown</th>\n",
              "      <th>action</th>\n",
              "      <th>adventure</th>\n",
              "      <th>animation</th>\n",
              "      <th>children</th>\n",
              "      <th>comedy</th>\n",
              "      <th>...</th>\n",
              "      <th>fantasy</th>\n",
              "      <th>film_noir</th>\n",
              "      <th>horror</th>\n",
              "      <th>musical</th>\n",
              "      <th>mystery</th>\n",
              "      <th>romance</th>\n",
              "      <th>sci_fi</th>\n",
              "      <th>thriller</th>\n",
              "      <th>war</th>\n",
              "      <th>western</th>\n",
              "    </tr>\n",
              "    <tr>\n",
              "      <th>movie_id</th>\n",
              "      <th></th>\n",
              "      <th></th>\n",
              "      <th></th>\n",
              "      <th></th>\n",
              "      <th></th>\n",
              "      <th></th>\n",
              "      <th></th>\n",
              "      <th></th>\n",
              "      <th></th>\n",
              "      <th></th>\n",
              "      <th></th>\n",
              "      <th></th>\n",
              "      <th></th>\n",
              "      <th></th>\n",
              "      <th></th>\n",
              "      <th></th>\n",
              "      <th></th>\n",
              "      <th></th>\n",
              "      <th></th>\n",
              "      <th></th>\n",
              "      <th></th>\n",
              "    </tr>\n",
              "  </thead>\n",
              "  <tbody>\n",
              "  </tbody>\n",
              "</table>\n",
              "<p>0 rows × 23 columns</p>\n",
              "</div>"
            ],
            "text/plain": [
              "Empty DataFrame\n",
              "Columns: [title, release_date, video_release_date, imdb_url, unknown, action, adventure, animation, children, comedy, crime, documentary, drama, fantasy, film_noir, horror, musical, mystery, romance, sci_fi, thriller, war, western]\n",
              "Index: []\n",
              "\n",
              "[0 rows x 23 columns]"
            ]
          },
          "execution_count": 249,
          "metadata": {},
          "output_type": "execute_result"
        }
      ],
      "source": [
        "df[df.video_release_date.notnull()]"
      ]
    },
    {
      "cell_type": "markdown",
      "metadata": {
        "id": "z7giGdlmDCef"
      },
      "source": [
        "Nincs ilyen mező, ezért elhagyhatjuk az oszlopot."
      ]
    },
    {
      "cell_type": "code",
      "execution_count": 250,
      "metadata": {
        "colab": {
          "base_uri": "https://localhost:8080/",
          "height": 388
        },
        "id": "mrxfz675DCef",
        "outputId": "778aa1a3-0077-4a63-db26-bcc80842b5a7"
      },
      "outputs": [
        {
          "data": {
            "text/html": [
              "<div>\n",
              "<style scoped>\n",
              "    .dataframe tbody tr th:only-of-type {\n",
              "        vertical-align: middle;\n",
              "    }\n",
              "\n",
              "    .dataframe tbody tr th {\n",
              "        vertical-align: top;\n",
              "    }\n",
              "\n",
              "    .dataframe thead th {\n",
              "        text-align: right;\n",
              "    }\n",
              "</style>\n",
              "<table border=\"1\" class=\"dataframe\">\n",
              "  <thead>\n",
              "    <tr style=\"text-align: right;\">\n",
              "      <th></th>\n",
              "      <th>title</th>\n",
              "      <th>release_date</th>\n",
              "      <th>imdb_url</th>\n",
              "      <th>unknown</th>\n",
              "      <th>action</th>\n",
              "      <th>adventure</th>\n",
              "      <th>animation</th>\n",
              "      <th>children</th>\n",
              "      <th>comedy</th>\n",
              "      <th>crime</th>\n",
              "      <th>...</th>\n",
              "      <th>fantasy</th>\n",
              "      <th>film_noir</th>\n",
              "      <th>horror</th>\n",
              "      <th>musical</th>\n",
              "      <th>mystery</th>\n",
              "      <th>romance</th>\n",
              "      <th>sci_fi</th>\n",
              "      <th>thriller</th>\n",
              "      <th>war</th>\n",
              "      <th>western</th>\n",
              "    </tr>\n",
              "    <tr>\n",
              "      <th>movie_id</th>\n",
              "      <th></th>\n",
              "      <th></th>\n",
              "      <th></th>\n",
              "      <th></th>\n",
              "      <th></th>\n",
              "      <th></th>\n",
              "      <th></th>\n",
              "      <th></th>\n",
              "      <th></th>\n",
              "      <th></th>\n",
              "      <th></th>\n",
              "      <th></th>\n",
              "      <th></th>\n",
              "      <th></th>\n",
              "      <th></th>\n",
              "      <th></th>\n",
              "      <th></th>\n",
              "      <th></th>\n",
              "      <th></th>\n",
              "      <th></th>\n",
              "      <th></th>\n",
              "    </tr>\n",
              "  </thead>\n",
              "  <tbody>\n",
              "    <tr>\n",
              "      <th>1</th>\n",
              "      <td>Toy Story (1995)</td>\n",
              "      <td>1995-01-01</td>\n",
              "      <td>http://us.imdb.com/M/title-exact?Toy%20Story%2...</td>\n",
              "      <td>0</td>\n",
              "      <td>0</td>\n",
              "      <td>0</td>\n",
              "      <td>1</td>\n",
              "      <td>1</td>\n",
              "      <td>1</td>\n",
              "      <td>0</td>\n",
              "      <td>...</td>\n",
              "      <td>0</td>\n",
              "      <td>0</td>\n",
              "      <td>0</td>\n",
              "      <td>0</td>\n",
              "      <td>0</td>\n",
              "      <td>0</td>\n",
              "      <td>0</td>\n",
              "      <td>0</td>\n",
              "      <td>0</td>\n",
              "      <td>0</td>\n",
              "    </tr>\n",
              "    <tr>\n",
              "      <th>2</th>\n",
              "      <td>GoldenEye (1995)</td>\n",
              "      <td>1995-01-01</td>\n",
              "      <td>http://us.imdb.com/M/title-exact?GoldenEye%20(...</td>\n",
              "      <td>0</td>\n",
              "      <td>1</td>\n",
              "      <td>1</td>\n",
              "      <td>0</td>\n",
              "      <td>0</td>\n",
              "      <td>0</td>\n",
              "      <td>0</td>\n",
              "      <td>...</td>\n",
              "      <td>0</td>\n",
              "      <td>0</td>\n",
              "      <td>0</td>\n",
              "      <td>0</td>\n",
              "      <td>0</td>\n",
              "      <td>0</td>\n",
              "      <td>0</td>\n",
              "      <td>1</td>\n",
              "      <td>0</td>\n",
              "      <td>0</td>\n",
              "    </tr>\n",
              "    <tr>\n",
              "      <th>3</th>\n",
              "      <td>Four Rooms (1995)</td>\n",
              "      <td>1995-01-01</td>\n",
              "      <td>http://us.imdb.com/M/title-exact?Four%20Rooms%...</td>\n",
              "      <td>0</td>\n",
              "      <td>0</td>\n",
              "      <td>0</td>\n",
              "      <td>0</td>\n",
              "      <td>0</td>\n",
              "      <td>0</td>\n",
              "      <td>0</td>\n",
              "      <td>...</td>\n",
              "      <td>0</td>\n",
              "      <td>0</td>\n",
              "      <td>0</td>\n",
              "      <td>0</td>\n",
              "      <td>0</td>\n",
              "      <td>0</td>\n",
              "      <td>0</td>\n",
              "      <td>1</td>\n",
              "      <td>0</td>\n",
              "      <td>0</td>\n",
              "    </tr>\n",
              "    <tr>\n",
              "      <th>4</th>\n",
              "      <td>Get Shorty (1995)</td>\n",
              "      <td>1995-01-01</td>\n",
              "      <td>http://us.imdb.com/M/title-exact?Get%20Shorty%...</td>\n",
              "      <td>0</td>\n",
              "      <td>1</td>\n",
              "      <td>0</td>\n",
              "      <td>0</td>\n",
              "      <td>0</td>\n",
              "      <td>1</td>\n",
              "      <td>0</td>\n",
              "      <td>...</td>\n",
              "      <td>0</td>\n",
              "      <td>0</td>\n",
              "      <td>0</td>\n",
              "      <td>0</td>\n",
              "      <td>0</td>\n",
              "      <td>0</td>\n",
              "      <td>0</td>\n",
              "      <td>0</td>\n",
              "      <td>0</td>\n",
              "      <td>0</td>\n",
              "    </tr>\n",
              "    <tr>\n",
              "      <th>5</th>\n",
              "      <td>Copycat (1995)</td>\n",
              "      <td>1995-01-01</td>\n",
              "      <td>http://us.imdb.com/M/title-exact?Copycat%20(1995)</td>\n",
              "      <td>0</td>\n",
              "      <td>0</td>\n",
              "      <td>0</td>\n",
              "      <td>0</td>\n",
              "      <td>0</td>\n",
              "      <td>0</td>\n",
              "      <td>1</td>\n",
              "      <td>...</td>\n",
              "      <td>0</td>\n",
              "      <td>0</td>\n",
              "      <td>0</td>\n",
              "      <td>0</td>\n",
              "      <td>0</td>\n",
              "      <td>0</td>\n",
              "      <td>0</td>\n",
              "      <td>1</td>\n",
              "      <td>0</td>\n",
              "      <td>0</td>\n",
              "    </tr>\n",
              "  </tbody>\n",
              "</table>\n",
              "<p>5 rows × 22 columns</p>\n",
              "</div>"
            ],
            "text/plain": [
              "                      title release_date  \\\n",
              "movie_id                                   \n",
              "1          Toy Story (1995)   1995-01-01   \n",
              "2          GoldenEye (1995)   1995-01-01   \n",
              "3         Four Rooms (1995)   1995-01-01   \n",
              "4         Get Shorty (1995)   1995-01-01   \n",
              "5            Copycat (1995)   1995-01-01   \n",
              "\n",
              "                                                   imdb_url  unknown  action  \\\n",
              "movie_id                                                                       \n",
              "1         http://us.imdb.com/M/title-exact?Toy%20Story%2...        0       0   \n",
              "2         http://us.imdb.com/M/title-exact?GoldenEye%20(...        0       1   \n",
              "3         http://us.imdb.com/M/title-exact?Four%20Rooms%...        0       0   \n",
              "4         http://us.imdb.com/M/title-exact?Get%20Shorty%...        0       1   \n",
              "5         http://us.imdb.com/M/title-exact?Copycat%20(1995)        0       0   \n",
              "\n",
              "          adventure  animation  children  comedy  crime  ...  fantasy  \\\n",
              "movie_id                                                 ...            \n",
              "1                 0          1         1       1      0  ...        0   \n",
              "2                 1          0         0       0      0  ...        0   \n",
              "3                 0          0         0       0      0  ...        0   \n",
              "4                 0          0         0       1      0  ...        0   \n",
              "5                 0          0         0       0      1  ...        0   \n",
              "\n",
              "          film_noir  horror  musical  mystery  romance  sci_fi  thriller  war  \\\n",
              "movie_id                                                                        \n",
              "1                 0       0        0        0        0       0         0    0   \n",
              "2                 0       0        0        0        0       0         1    0   \n",
              "3                 0       0        0        0        0       0         1    0   \n",
              "4                 0       0        0        0        0       0         0    0   \n",
              "5                 0       0        0        0        0       0         1    0   \n",
              "\n",
              "          western  \n",
              "movie_id           \n",
              "1               0  \n",
              "2               0  \n",
              "3               0  \n",
              "4               0  \n",
              "5               0  \n",
              "\n",
              "[5 rows x 22 columns]"
            ]
          },
          "execution_count": 250,
          "metadata": {},
          "output_type": "execute_result"
        }
      ],
      "source": [
        "df = df.drop('video_release_date', axis=1)\n",
        "df.head()"
      ]
    },
    {
      "cell_type": "markdown",
      "metadata": {
        "id": "y4rllVTgDCei"
      },
      "source": [
        "Van egy `unknown` oszlop, ettől is szabaduljunk meg!"
      ]
    },
    {
      "cell_type": "code",
      "execution_count": 251,
      "metadata": {
        "id": "KvuFQeb1DCei"
      },
      "outputs": [],
      "source": [
        "df = df.drop('unknown', axis=1)"
      ]
    },
    {
      "cell_type": "markdown",
      "metadata": {
        "id": "xhdbMh2gDCel"
      },
      "source": [
        "## Adatok felszínes vizsgálata\n",
        "\n",
        "Nézzük meg, hogy milyen információkat tudhatunk könnyedén meg a DataFrame-ről."
      ]
    },
    {
      "cell_type": "markdown",
      "metadata": {
        "id": "tSv2KBwHDCel"
      },
      "source": [
        "A `describe` függvény oszloponként szolgáltat alapvető infomációkkal: darabszám, átlag, szórás stb.\n",
        "Mivel a legtöbb mező bináris, most nem tudunk meg sok hasznos információt a mezőkről."
      ]
    },
    {
      "cell_type": "code",
      "execution_count": 252,
      "metadata": {
        "colab": {
          "base_uri": "https://localhost:8080/",
          "height": 364
        },
        "id": "UwOWNA5DDCem",
        "outputId": "55e868a0-40fc-420f-a94b-808617b1e0ff"
      },
      "outputs": [
        {
          "data": {
            "text/html": [
              "<div>\n",
              "<style scoped>\n",
              "    .dataframe tbody tr th:only-of-type {\n",
              "        vertical-align: middle;\n",
              "    }\n",
              "\n",
              "    .dataframe tbody tr th {\n",
              "        vertical-align: top;\n",
              "    }\n",
              "\n",
              "    .dataframe thead th {\n",
              "        text-align: right;\n",
              "    }\n",
              "</style>\n",
              "<table border=\"1\" class=\"dataframe\">\n",
              "  <thead>\n",
              "    <tr style=\"text-align: right;\">\n",
              "      <th></th>\n",
              "      <th>release_date</th>\n",
              "      <th>action</th>\n",
              "      <th>adventure</th>\n",
              "      <th>animation</th>\n",
              "      <th>children</th>\n",
              "      <th>comedy</th>\n",
              "      <th>crime</th>\n",
              "      <th>documentary</th>\n",
              "      <th>drama</th>\n",
              "      <th>fantasy</th>\n",
              "      <th>film_noir</th>\n",
              "      <th>horror</th>\n",
              "      <th>musical</th>\n",
              "      <th>mystery</th>\n",
              "      <th>romance</th>\n",
              "      <th>sci_fi</th>\n",
              "      <th>thriller</th>\n",
              "      <th>war</th>\n",
              "      <th>western</th>\n",
              "    </tr>\n",
              "  </thead>\n",
              "  <tbody>\n",
              "    <tr>\n",
              "      <th>count</th>\n",
              "      <td>1681</td>\n",
              "      <td>1682.000000</td>\n",
              "      <td>1682.000000</td>\n",
              "      <td>1682.000000</td>\n",
              "      <td>1682.000000</td>\n",
              "      <td>1682.000000</td>\n",
              "      <td>1682.000000</td>\n",
              "      <td>1682.000000</td>\n",
              "      <td>1682.000000</td>\n",
              "      <td>1682.00000</td>\n",
              "      <td>1682.000000</td>\n",
              "      <td>1682.000000</td>\n",
              "      <td>1682.000000</td>\n",
              "      <td>1682.000000</td>\n",
              "      <td>1682.000000</td>\n",
              "      <td>1682.000000</td>\n",
              "      <td>1682.000000</td>\n",
              "      <td>1682.000000</td>\n",
              "      <td>1682.000000</td>\n",
              "    </tr>\n",
              "    <tr>\n",
              "      <th>mean</th>\n",
              "      <td>1989-07-16 12:53:32.373587072</td>\n",
              "      <td>0.149227</td>\n",
              "      <td>0.080262</td>\n",
              "      <td>0.024970</td>\n",
              "      <td>0.072533</td>\n",
              "      <td>0.300238</td>\n",
              "      <td>0.064804</td>\n",
              "      <td>0.029727</td>\n",
              "      <td>0.431034</td>\n",
              "      <td>0.01308</td>\n",
              "      <td>0.014269</td>\n",
              "      <td>0.054697</td>\n",
              "      <td>0.033294</td>\n",
              "      <td>0.036266</td>\n",
              "      <td>0.146849</td>\n",
              "      <td>0.060048</td>\n",
              "      <td>0.149227</td>\n",
              "      <td>0.042212</td>\n",
              "      <td>0.016052</td>\n",
              "    </tr>\n",
              "    <tr>\n",
              "      <th>min</th>\n",
              "      <td>1922-01-01 00:00:00</td>\n",
              "      <td>0.000000</td>\n",
              "      <td>0.000000</td>\n",
              "      <td>0.000000</td>\n",
              "      <td>0.000000</td>\n",
              "      <td>0.000000</td>\n",
              "      <td>0.000000</td>\n",
              "      <td>0.000000</td>\n",
              "      <td>0.000000</td>\n",
              "      <td>0.00000</td>\n",
              "      <td>0.000000</td>\n",
              "      <td>0.000000</td>\n",
              "      <td>0.000000</td>\n",
              "      <td>0.000000</td>\n",
              "      <td>0.000000</td>\n",
              "      <td>0.000000</td>\n",
              "      <td>0.000000</td>\n",
              "      <td>0.000000</td>\n",
              "      <td>0.000000</td>\n",
              "    </tr>\n",
              "    <tr>\n",
              "      <th>25%</th>\n",
              "      <td>1993-01-01 00:00:00</td>\n",
              "      <td>0.000000</td>\n",
              "      <td>0.000000</td>\n",
              "      <td>0.000000</td>\n",
              "      <td>0.000000</td>\n",
              "      <td>0.000000</td>\n",
              "      <td>0.000000</td>\n",
              "      <td>0.000000</td>\n",
              "      <td>0.000000</td>\n",
              "      <td>0.00000</td>\n",
              "      <td>0.000000</td>\n",
              "      <td>0.000000</td>\n",
              "      <td>0.000000</td>\n",
              "      <td>0.000000</td>\n",
              "      <td>0.000000</td>\n",
              "      <td>0.000000</td>\n",
              "      <td>0.000000</td>\n",
              "      <td>0.000000</td>\n",
              "      <td>0.000000</td>\n",
              "    </tr>\n",
              "    <tr>\n",
              "      <th>50%</th>\n",
              "      <td>1995-01-01 00:00:00</td>\n",
              "      <td>0.000000</td>\n",
              "      <td>0.000000</td>\n",
              "      <td>0.000000</td>\n",
              "      <td>0.000000</td>\n",
              "      <td>0.000000</td>\n",
              "      <td>0.000000</td>\n",
              "      <td>0.000000</td>\n",
              "      <td>0.000000</td>\n",
              "      <td>0.00000</td>\n",
              "      <td>0.000000</td>\n",
              "      <td>0.000000</td>\n",
              "      <td>0.000000</td>\n",
              "      <td>0.000000</td>\n",
              "      <td>0.000000</td>\n",
              "      <td>0.000000</td>\n",
              "      <td>0.000000</td>\n",
              "      <td>0.000000</td>\n",
              "      <td>0.000000</td>\n",
              "    </tr>\n",
              "    <tr>\n",
              "      <th>75%</th>\n",
              "      <td>1996-10-18 00:00:00</td>\n",
              "      <td>0.000000</td>\n",
              "      <td>0.000000</td>\n",
              "      <td>0.000000</td>\n",
              "      <td>0.000000</td>\n",
              "      <td>1.000000</td>\n",
              "      <td>0.000000</td>\n",
              "      <td>0.000000</td>\n",
              "      <td>1.000000</td>\n",
              "      <td>0.00000</td>\n",
              "      <td>0.000000</td>\n",
              "      <td>0.000000</td>\n",
              "      <td>0.000000</td>\n",
              "      <td>0.000000</td>\n",
              "      <td>0.000000</td>\n",
              "      <td>0.000000</td>\n",
              "      <td>0.000000</td>\n",
              "      <td>0.000000</td>\n",
              "      <td>0.000000</td>\n",
              "    </tr>\n",
              "    <tr>\n",
              "      <th>max</th>\n",
              "      <td>1998-10-23 00:00:00</td>\n",
              "      <td>1.000000</td>\n",
              "      <td>1.000000</td>\n",
              "      <td>1.000000</td>\n",
              "      <td>1.000000</td>\n",
              "      <td>1.000000</td>\n",
              "      <td>1.000000</td>\n",
              "      <td>1.000000</td>\n",
              "      <td>1.000000</td>\n",
              "      <td>1.00000</td>\n",
              "      <td>1.000000</td>\n",
              "      <td>1.000000</td>\n",
              "      <td>1.000000</td>\n",
              "      <td>1.000000</td>\n",
              "      <td>1.000000</td>\n",
              "      <td>1.000000</td>\n",
              "      <td>1.000000</td>\n",
              "      <td>1.000000</td>\n",
              "      <td>1.000000</td>\n",
              "    </tr>\n",
              "    <tr>\n",
              "      <th>std</th>\n",
              "      <td>NaN</td>\n",
              "      <td>0.356418</td>\n",
              "      <td>0.271779</td>\n",
              "      <td>0.156081</td>\n",
              "      <td>0.259445</td>\n",
              "      <td>0.458498</td>\n",
              "      <td>0.246253</td>\n",
              "      <td>0.169882</td>\n",
              "      <td>0.495368</td>\n",
              "      <td>0.11365</td>\n",
              "      <td>0.118632</td>\n",
              "      <td>0.227455</td>\n",
              "      <td>0.179456</td>\n",
              "      <td>0.187008</td>\n",
              "      <td>0.354061</td>\n",
              "      <td>0.237646</td>\n",
              "      <td>0.356418</td>\n",
              "      <td>0.201131</td>\n",
              "      <td>0.125714</td>\n",
              "    </tr>\n",
              "  </tbody>\n",
              "</table>\n",
              "</div>"
            ],
            "text/plain": [
              "                        release_date       action    adventure    animation  \\\n",
              "count                           1681  1682.000000  1682.000000  1682.000000   \n",
              "mean   1989-07-16 12:53:32.373587072     0.149227     0.080262     0.024970   \n",
              "min              1922-01-01 00:00:00     0.000000     0.000000     0.000000   \n",
              "25%              1993-01-01 00:00:00     0.000000     0.000000     0.000000   \n",
              "50%              1995-01-01 00:00:00     0.000000     0.000000     0.000000   \n",
              "75%              1996-10-18 00:00:00     0.000000     0.000000     0.000000   \n",
              "max              1998-10-23 00:00:00     1.000000     1.000000     1.000000   \n",
              "std                              NaN     0.356418     0.271779     0.156081   \n",
              "\n",
              "          children       comedy        crime  documentary        drama  \\\n",
              "count  1682.000000  1682.000000  1682.000000  1682.000000  1682.000000   \n",
              "mean      0.072533     0.300238     0.064804     0.029727     0.431034   \n",
              "min       0.000000     0.000000     0.000000     0.000000     0.000000   \n",
              "25%       0.000000     0.000000     0.000000     0.000000     0.000000   \n",
              "50%       0.000000     0.000000     0.000000     0.000000     0.000000   \n",
              "75%       0.000000     1.000000     0.000000     0.000000     1.000000   \n",
              "max       1.000000     1.000000     1.000000     1.000000     1.000000   \n",
              "std       0.259445     0.458498     0.246253     0.169882     0.495368   \n",
              "\n",
              "          fantasy    film_noir       horror      musical      mystery  \\\n",
              "count  1682.00000  1682.000000  1682.000000  1682.000000  1682.000000   \n",
              "mean      0.01308     0.014269     0.054697     0.033294     0.036266   \n",
              "min       0.00000     0.000000     0.000000     0.000000     0.000000   \n",
              "25%       0.00000     0.000000     0.000000     0.000000     0.000000   \n",
              "50%       0.00000     0.000000     0.000000     0.000000     0.000000   \n",
              "75%       0.00000     0.000000     0.000000     0.000000     0.000000   \n",
              "max       1.00000     1.000000     1.000000     1.000000     1.000000   \n",
              "std       0.11365     0.118632     0.227455     0.179456     0.187008   \n",
              "\n",
              "           romance       sci_fi     thriller          war      western  \n",
              "count  1682.000000  1682.000000  1682.000000  1682.000000  1682.000000  \n",
              "mean      0.146849     0.060048     0.149227     0.042212     0.016052  \n",
              "min       0.000000     0.000000     0.000000     0.000000     0.000000  \n",
              "25%       0.000000     0.000000     0.000000     0.000000     0.000000  \n",
              "50%       0.000000     0.000000     0.000000     0.000000     0.000000  \n",
              "75%       0.000000     0.000000     0.000000     0.000000     0.000000  \n",
              "max       1.000000     1.000000     1.000000     1.000000     1.000000  \n",
              "std       0.354061     0.237646     0.356418     0.201131     0.125714  "
            ]
          },
          "execution_count": 252,
          "metadata": {},
          "output_type": "execute_result"
        }
      ],
      "source": [
        "df.describe()"
      ]
    },
    {
      "cell_type": "markdown",
      "metadata": {
        "id": "riTff8ZkDCeo"
      },
      "source": [
        "### Átlag, szórás, variancia stb.\n",
        "\n",
        "Egyenként is lekérdezhetőek:\n",
        "\n",
        "1. `count()`\n",
        "1. átlag: `mean()`\n",
        "1. szórás: `std()`\n",
        "1. variancia: `var()`\n",
        "1. 50% kvantilis: `quantile(.5)`\n",
        "1. `min`, `max`"
      ]
    },
    {
      "cell_type": "code",
      "execution_count": 253,
      "metadata": {
        "colab": {
          "base_uri": "https://localhost:8080/"
        },
        "id": "6e9BqTQADCeo",
        "outputId": "f7d73aa2-a8a6-4869-e4a5-b5c31b6fc6e1"
      },
      "outputs": [
        {
          "data": {
            "text/plain": [
              "action       1.0\n",
              "adventure    0.0\n",
              "animation    0.0\n",
              "children     0.0\n",
              "comedy       1.0\n",
              "Name: 0.9, dtype: float64"
            ]
          },
          "execution_count": 253,
          "metadata": {},
          "output_type": "execute_result"
        }
      ],
      "source": [
        "integer_df = df.select_dtypes(include='int64')\n",
        "integer_df.quantile(.9).head()"
      ]
    },
    {
      "cell_type": "markdown",
      "metadata": {
        "id": "8ElE2mCYDCer"
      },
      "source": [
        "# Egyszerű lekérdezések "
      ]
    },
    {
      "cell_type": "markdown",
      "metadata": {
        "id": "hSCTVAxfDCes"
      },
      "source": [
        "## Melyik filmek jelentek meg 1956-ban? "
      ]
    },
    {
      "cell_type": "code",
      "execution_count": 254,
      "metadata": {
        "colab": {
          "base_uri": "https://localhost:8080/",
          "height": 392
        },
        "id": "y-po2MtQDCes",
        "outputId": "5a8c952a-ce13-4459-e43a-dae80f32b1c8"
      },
      "outputs": [
        {
          "data": {
            "text/html": [
              "<div>\n",
              "<style scoped>\n",
              "    .dataframe tbody tr th:only-of-type {\n",
              "        vertical-align: middle;\n",
              "    }\n",
              "\n",
              "    .dataframe tbody tr th {\n",
              "        vertical-align: top;\n",
              "    }\n",
              "\n",
              "    .dataframe thead th {\n",
              "        text-align: right;\n",
              "    }\n",
              "</style>\n",
              "<table border=\"1\" class=\"dataframe\">\n",
              "  <thead>\n",
              "    <tr style=\"text-align: right;\">\n",
              "      <th></th>\n",
              "      <th>title</th>\n",
              "      <th>release_date</th>\n",
              "      <th>imdb_url</th>\n",
              "      <th>action</th>\n",
              "      <th>adventure</th>\n",
              "      <th>animation</th>\n",
              "      <th>children</th>\n",
              "      <th>comedy</th>\n",
              "      <th>crime</th>\n",
              "      <th>documentary</th>\n",
              "      <th>...</th>\n",
              "      <th>fantasy</th>\n",
              "      <th>film_noir</th>\n",
              "      <th>horror</th>\n",
              "      <th>musical</th>\n",
              "      <th>mystery</th>\n",
              "      <th>romance</th>\n",
              "      <th>sci_fi</th>\n",
              "      <th>thriller</th>\n",
              "      <th>war</th>\n",
              "      <th>western</th>\n",
              "    </tr>\n",
              "    <tr>\n",
              "      <th>movie_id</th>\n",
              "      <th></th>\n",
              "      <th></th>\n",
              "      <th></th>\n",
              "      <th></th>\n",
              "      <th></th>\n",
              "      <th></th>\n",
              "      <th></th>\n",
              "      <th></th>\n",
              "      <th></th>\n",
              "      <th></th>\n",
              "      <th></th>\n",
              "      <th></th>\n",
              "      <th></th>\n",
              "      <th></th>\n",
              "      <th></th>\n",
              "      <th></th>\n",
              "      <th></th>\n",
              "      <th></th>\n",
              "      <th></th>\n",
              "      <th></th>\n",
              "      <th></th>\n",
              "    </tr>\n",
              "  </thead>\n",
              "  <tbody>\n",
              "    <tr>\n",
              "      <th>434</th>\n",
              "      <td>Forbidden Planet (1956)</td>\n",
              "      <td>1956-01-01</td>\n",
              "      <td>http://us.imdb.com/M/title-exact?Forbidden%20P...</td>\n",
              "      <td>0</td>\n",
              "      <td>0</td>\n",
              "      <td>0</td>\n",
              "      <td>0</td>\n",
              "      <td>0</td>\n",
              "      <td>0</td>\n",
              "      <td>0</td>\n",
              "      <td>...</td>\n",
              "      <td>0</td>\n",
              "      <td>0</td>\n",
              "      <td>0</td>\n",
              "      <td>0</td>\n",
              "      <td>0</td>\n",
              "      <td>0</td>\n",
              "      <td>1</td>\n",
              "      <td>0</td>\n",
              "      <td>0</td>\n",
              "      <td>0</td>\n",
              "    </tr>\n",
              "    <tr>\n",
              "      <th>495</th>\n",
              "      <td>Around the World in 80 Days (1956)</td>\n",
              "      <td>1956-01-01</td>\n",
              "      <td>http://us.imdb.com/M/title-exact?Around%20the%...</td>\n",
              "      <td>0</td>\n",
              "      <td>1</td>\n",
              "      <td>0</td>\n",
              "      <td>0</td>\n",
              "      <td>1</td>\n",
              "      <td>0</td>\n",
              "      <td>0</td>\n",
              "      <td>...</td>\n",
              "      <td>0</td>\n",
              "      <td>0</td>\n",
              "      <td>0</td>\n",
              "      <td>0</td>\n",
              "      <td>0</td>\n",
              "      <td>0</td>\n",
              "      <td>0</td>\n",
              "      <td>0</td>\n",
              "      <td>0</td>\n",
              "      <td>0</td>\n",
              "    </tr>\n",
              "    <tr>\n",
              "      <th>614</th>\n",
              "      <td>Giant (1956)</td>\n",
              "      <td>1956-01-01</td>\n",
              "      <td>http://us.imdb.com/M/title-exact?Giant%20(1956)</td>\n",
              "      <td>0</td>\n",
              "      <td>0</td>\n",
              "      <td>0</td>\n",
              "      <td>0</td>\n",
              "      <td>0</td>\n",
              "      <td>0</td>\n",
              "      <td>0</td>\n",
              "      <td>...</td>\n",
              "      <td>0</td>\n",
              "      <td>0</td>\n",
              "      <td>0</td>\n",
              "      <td>0</td>\n",
              "      <td>0</td>\n",
              "      <td>0</td>\n",
              "      <td>0</td>\n",
              "      <td>0</td>\n",
              "      <td>0</td>\n",
              "      <td>0</td>\n",
              "    </tr>\n",
              "    <tr>\n",
              "      <th>1577</th>\n",
              "      <td>Death in the Garden (Mort en ce jardin, La) (1...</td>\n",
              "      <td>1956-01-01</td>\n",
              "      <td>http://us.imdb.com/Title?Mort+en+ce+jardin,+La...</td>\n",
              "      <td>0</td>\n",
              "      <td>0</td>\n",
              "      <td>0</td>\n",
              "      <td>0</td>\n",
              "      <td>0</td>\n",
              "      <td>0</td>\n",
              "      <td>0</td>\n",
              "      <td>...</td>\n",
              "      <td>0</td>\n",
              "      <td>0</td>\n",
              "      <td>0</td>\n",
              "      <td>0</td>\n",
              "      <td>0</td>\n",
              "      <td>0</td>\n",
              "      <td>0</td>\n",
              "      <td>0</td>\n",
              "      <td>0</td>\n",
              "      <td>0</td>\n",
              "    </tr>\n",
              "  </tbody>\n",
              "</table>\n",
              "<p>4 rows × 21 columns</p>\n",
              "</div>"
            ],
            "text/plain": [
              "                                                      title release_date  \\\n",
              "movie_id                                                                   \n",
              "434                                 Forbidden Planet (1956)   1956-01-01   \n",
              "495                      Around the World in 80 Days (1956)   1956-01-01   \n",
              "614                                            Giant (1956)   1956-01-01   \n",
              "1577      Death in the Garden (Mort en ce jardin, La) (1...   1956-01-01   \n",
              "\n",
              "                                                   imdb_url  action  \\\n",
              "movie_id                                                              \n",
              "434       http://us.imdb.com/M/title-exact?Forbidden%20P...       0   \n",
              "495       http://us.imdb.com/M/title-exact?Around%20the%...       0   \n",
              "614         http://us.imdb.com/M/title-exact?Giant%20(1956)       0   \n",
              "1577      http://us.imdb.com/Title?Mort+en+ce+jardin,+La...       0   \n",
              "\n",
              "          adventure  animation  children  comedy  crime  documentary  ...  \\\n",
              "movie_id                                                              ...   \n",
              "434               0          0         0       0      0            0  ...   \n",
              "495               1          0         0       1      0            0  ...   \n",
              "614               0          0         0       0      0            0  ...   \n",
              "1577              0          0         0       0      0            0  ...   \n",
              "\n",
              "          fantasy  film_noir  horror  musical  mystery  romance  sci_fi  \\\n",
              "movie_id                                                                  \n",
              "434             0          0       0        0        0        0       1   \n",
              "495             0          0       0        0        0        0       0   \n",
              "614             0          0       0        0        0        0       0   \n",
              "1577            0          0       0        0        0        0       0   \n",
              "\n",
              "          thriller  war  western  \n",
              "movie_id                          \n",
              "434              0    0        0  \n",
              "495              0    0        0  \n",
              "614              0    0        0  \n",
              "1577             0    0        0  \n",
              "\n",
              "[4 rows x 21 columns]"
            ]
          },
          "execution_count": 254,
          "metadata": {},
          "output_type": "execute_result"
        }
      ],
      "source": [
        "df[df.release_date.dt.year == 1956]"
      ]
    },
    {
      "cell_type": "markdown",
      "metadata": {
        "id": "_WrwV_m3DCev"
      },
      "source": [
        "## Melyik filmek jelentek meg a 80-as években?"
      ]
    },
    {
      "cell_type": "code",
      "execution_count": 255,
      "metadata": {
        "colab": {
          "base_uri": "https://localhost:8080/"
        },
        "id": "1gYwxXJdDCev",
        "outputId": "e2a27d6d-f91c-4c37-e8bd-0e94c58d3014"
      },
      "outputs": [
        {
          "data": {
            "text/plain": [
              "107"
            ]
          },
          "execution_count": 255,
          "metadata": {},
          "output_type": "execute_result"
        }
      ],
      "source": [
        "d = df[(df.release_date.dt.year >=  1980) & (df.release_date.dt.year < 1990)]\n",
        "len(d)"
      ]
    },
    {
      "cell_type": "markdown",
      "metadata": {
        "id": "jFZB5BpWDCey"
      },
      "source": [
        "107 film jelent meg a 80-as években, ezt már nem praktikus kiíni. Nézzük meg csak az első 3-at."
      ]
    },
    {
      "cell_type": "code",
      "execution_count": 256,
      "metadata": {
        "colab": {
          "base_uri": "https://localhost:8080/",
          "height": 0
        },
        "id": "Jg_bAzzaDCey",
        "outputId": "1a2a8ce6-82b3-4479-9917-4f023491196a"
      },
      "outputs": [
        {
          "data": {
            "text/html": [
              "<div>\n",
              "<style scoped>\n",
              "    .dataframe tbody tr th:only-of-type {\n",
              "        vertical-align: middle;\n",
              "    }\n",
              "\n",
              "    .dataframe tbody tr th {\n",
              "        vertical-align: top;\n",
              "    }\n",
              "\n",
              "    .dataframe thead th {\n",
              "        text-align: right;\n",
              "    }\n",
              "</style>\n",
              "<table border=\"1\" class=\"dataframe\">\n",
              "  <thead>\n",
              "    <tr style=\"text-align: right;\">\n",
              "      <th></th>\n",
              "      <th>title</th>\n",
              "      <th>release_date</th>\n",
              "      <th>imdb_url</th>\n",
              "      <th>action</th>\n",
              "      <th>adventure</th>\n",
              "      <th>animation</th>\n",
              "      <th>children</th>\n",
              "      <th>comedy</th>\n",
              "      <th>crime</th>\n",
              "      <th>documentary</th>\n",
              "      <th>...</th>\n",
              "      <th>fantasy</th>\n",
              "      <th>film_noir</th>\n",
              "      <th>horror</th>\n",
              "      <th>musical</th>\n",
              "      <th>mystery</th>\n",
              "      <th>romance</th>\n",
              "      <th>sci_fi</th>\n",
              "      <th>thriller</th>\n",
              "      <th>war</th>\n",
              "      <th>western</th>\n",
              "    </tr>\n",
              "    <tr>\n",
              "      <th>movie_id</th>\n",
              "      <th></th>\n",
              "      <th></th>\n",
              "      <th></th>\n",
              "      <th></th>\n",
              "      <th></th>\n",
              "      <th></th>\n",
              "      <th></th>\n",
              "      <th></th>\n",
              "      <th></th>\n",
              "      <th></th>\n",
              "      <th></th>\n",
              "      <th></th>\n",
              "      <th></th>\n",
              "      <th></th>\n",
              "      <th></th>\n",
              "      <th></th>\n",
              "      <th></th>\n",
              "      <th></th>\n",
              "      <th></th>\n",
              "      <th></th>\n",
              "      <th></th>\n",
              "    </tr>\n",
              "  </thead>\n",
              "  <tbody>\n",
              "    <tr>\n",
              "      <th>89</th>\n",
              "      <td>Blade Runner (1982)</td>\n",
              "      <td>1982-01-01</td>\n",
              "      <td>http://us.imdb.com/M/title-exact?Blade%20Runne...</td>\n",
              "      <td>0</td>\n",
              "      <td>0</td>\n",
              "      <td>0</td>\n",
              "      <td>0</td>\n",
              "      <td>0</td>\n",
              "      <td>0</td>\n",
              "      <td>0</td>\n",
              "      <td>...</td>\n",
              "      <td>0</td>\n",
              "      <td>1</td>\n",
              "      <td>0</td>\n",
              "      <td>0</td>\n",
              "      <td>0</td>\n",
              "      <td>0</td>\n",
              "      <td>1</td>\n",
              "      <td>0</td>\n",
              "      <td>0</td>\n",
              "      <td>0</td>\n",
              "    </tr>\n",
              "    <tr>\n",
              "      <th>101</th>\n",
              "      <td>Heavy Metal (1981)</td>\n",
              "      <td>1981-03-08</td>\n",
              "      <td>http://us.imdb.com/M/title-exact?Heavy%20Metal...</td>\n",
              "      <td>1</td>\n",
              "      <td>1</td>\n",
              "      <td>1</td>\n",
              "      <td>0</td>\n",
              "      <td>0</td>\n",
              "      <td>0</td>\n",
              "      <td>0</td>\n",
              "      <td>...</td>\n",
              "      <td>0</td>\n",
              "      <td>0</td>\n",
              "      <td>1</td>\n",
              "      <td>0</td>\n",
              "      <td>0</td>\n",
              "      <td>0</td>\n",
              "      <td>1</td>\n",
              "      <td>0</td>\n",
              "      <td>0</td>\n",
              "      <td>0</td>\n",
              "    </tr>\n",
              "    <tr>\n",
              "      <th>144</th>\n",
              "      <td>Die Hard (1988)</td>\n",
              "      <td>1988-01-01</td>\n",
              "      <td>http://us.imdb.com/M/title-exact?Die%20Hard%20...</td>\n",
              "      <td>1</td>\n",
              "      <td>0</td>\n",
              "      <td>0</td>\n",
              "      <td>0</td>\n",
              "      <td>0</td>\n",
              "      <td>0</td>\n",
              "      <td>0</td>\n",
              "      <td>...</td>\n",
              "      <td>0</td>\n",
              "      <td>0</td>\n",
              "      <td>0</td>\n",
              "      <td>0</td>\n",
              "      <td>0</td>\n",
              "      <td>0</td>\n",
              "      <td>0</td>\n",
              "      <td>1</td>\n",
              "      <td>0</td>\n",
              "      <td>0</td>\n",
              "    </tr>\n",
              "  </tbody>\n",
              "</table>\n",
              "<p>3 rows × 21 columns</p>\n",
              "</div>"
            ],
            "text/plain": [
              "                        title release_date  \\\n",
              "movie_id                                     \n",
              "89        Blade Runner (1982)   1982-01-01   \n",
              "101        Heavy Metal (1981)   1981-03-08   \n",
              "144           Die Hard (1988)   1988-01-01   \n",
              "\n",
              "                                                   imdb_url  action  \\\n",
              "movie_id                                                              \n",
              "89        http://us.imdb.com/M/title-exact?Blade%20Runne...       0   \n",
              "101       http://us.imdb.com/M/title-exact?Heavy%20Metal...       1   \n",
              "144       http://us.imdb.com/M/title-exact?Die%20Hard%20...       1   \n",
              "\n",
              "          adventure  animation  children  comedy  crime  documentary  ...  \\\n",
              "movie_id                                                              ...   \n",
              "89                0          0         0       0      0            0  ...   \n",
              "101               1          1         0       0      0            0  ...   \n",
              "144               0          0         0       0      0            0  ...   \n",
              "\n",
              "          fantasy  film_noir  horror  musical  mystery  romance  sci_fi  \\\n",
              "movie_id                                                                  \n",
              "89              0          1       0        0        0        0       1   \n",
              "101             0          0       1        0        0        0       1   \n",
              "144             0          0       0        0        0        0       0   \n",
              "\n",
              "          thriller  war  western  \n",
              "movie_id                          \n",
              "89               0    0        0  \n",
              "101              0    0        0  \n",
              "144              1    0        0  \n",
              "\n",
              "[3 rows x 21 columns]"
            ]
          },
          "execution_count": 256,
          "metadata": {},
          "output_type": "execute_result"
        }
      ],
      "source": [
        "d.head(3)"
      ]
    },
    {
      "cell_type": "markdown",
      "metadata": {
        "id": "jfNFGP8tDCe0"
      },
      "source": [
        "### A megjelenítési év legyen külön oszlop\n",
        "\n",
        "Többször fogjuk még használni a megjelenési évet, ezért praktikus külön év oszlopot létrehozni.\n",
        "\n",
        "A DateTime mezőhöz használható metódusok és attribútumok a dt névtérben vannak, így tudjuk minden oszlopra egyszerre meghívni. Az eredményt egy új oszlopban tároljuk."
      ]
    },
    {
      "cell_type": "code",
      "execution_count": 257,
      "metadata": {
        "id": "eYCIi59bDCe1"
      },
      "outputs": [],
      "source": [
        "df['year'] = df.release_date.dt.year"
      ]
    },
    {
      "cell_type": "markdown",
      "metadata": {
        "id": "dBQvC4hkDCe3"
      },
      "source": [
        "## Mikor jelentek meg a Die Hard filmek? "
      ]
    },
    {
      "cell_type": "code",
      "execution_count": 258,
      "metadata": {
        "colab": {
          "base_uri": "https://localhost:8080/",
          "height": 0
        },
        "id": "MuVUhdbXDCe4",
        "outputId": "b24270d7-ebc2-4507-bc87-1580e6b5a51f"
      },
      "outputs": [
        {
          "data": {
            "text/html": [
              "<div>\n",
              "<style scoped>\n",
              "    .dataframe tbody tr th:only-of-type {\n",
              "        vertical-align: middle;\n",
              "    }\n",
              "\n",
              "    .dataframe tbody tr th {\n",
              "        vertical-align: top;\n",
              "    }\n",
              "\n",
              "    .dataframe thead th {\n",
              "        text-align: right;\n",
              "    }\n",
              "</style>\n",
              "<table border=\"1\" class=\"dataframe\">\n",
              "  <thead>\n",
              "    <tr style=\"text-align: right;\">\n",
              "      <th></th>\n",
              "      <th>title</th>\n",
              "      <th>release_date</th>\n",
              "      <th>imdb_url</th>\n",
              "      <th>action</th>\n",
              "      <th>adventure</th>\n",
              "      <th>animation</th>\n",
              "      <th>children</th>\n",
              "      <th>comedy</th>\n",
              "      <th>crime</th>\n",
              "      <th>documentary</th>\n",
              "      <th>...</th>\n",
              "      <th>film_noir</th>\n",
              "      <th>horror</th>\n",
              "      <th>musical</th>\n",
              "      <th>mystery</th>\n",
              "      <th>romance</th>\n",
              "      <th>sci_fi</th>\n",
              "      <th>thriller</th>\n",
              "      <th>war</th>\n",
              "      <th>western</th>\n",
              "      <th>year</th>\n",
              "    </tr>\n",
              "    <tr>\n",
              "      <th>movie_id</th>\n",
              "      <th></th>\n",
              "      <th></th>\n",
              "      <th></th>\n",
              "      <th></th>\n",
              "      <th></th>\n",
              "      <th></th>\n",
              "      <th></th>\n",
              "      <th></th>\n",
              "      <th></th>\n",
              "      <th></th>\n",
              "      <th></th>\n",
              "      <th></th>\n",
              "      <th></th>\n",
              "      <th></th>\n",
              "      <th></th>\n",
              "      <th></th>\n",
              "      <th></th>\n",
              "      <th></th>\n",
              "      <th></th>\n",
              "      <th></th>\n",
              "      <th></th>\n",
              "    </tr>\n",
              "  </thead>\n",
              "  <tbody>\n",
              "  </tbody>\n",
              "</table>\n",
              "<p>0 rows × 22 columns</p>\n",
              "</div>"
            ],
            "text/plain": [
              "Empty DataFrame\n",
              "Columns: [title, release_date, imdb_url, action, adventure, animation, children, comedy, crime, documentary, drama, fantasy, film_noir, horror, musical, mystery, romance, sci_fi, thriller, war, western, year]\n",
              "Index: []\n",
              "\n",
              "[0 rows x 22 columns]"
            ]
          },
          "execution_count": 258,
          "metadata": {},
          "output_type": "execute_result"
        }
      ],
      "source": [
        "df[df.title == 'Die Hard']"
      ]
    },
    {
      "cell_type": "markdown",
      "metadata": {
        "id": "oQnPaIfHDCe6"
      },
      "source": [
        "Sajnos csak teljes egyezésre tudunk így szűrni.\n",
        "\n",
        "A szöveges mezőkre a pandas nyújt egy csomó műveletet, amik az str névtérben vannak (ahogy a dátum mezőkre a dt-ben voltak)."
      ]
    },
    {
      "cell_type": "code",
      "execution_count": 259,
      "metadata": {
        "colab": {
          "base_uri": "https://localhost:8080/",
          "height": 0
        },
        "id": "bF2KkqgODCe7",
        "outputId": "dec2ef51-e9a0-429b-b388-e0134cc9f67f"
      },
      "outputs": [
        {
          "data": {
            "text/html": [
              "<div>\n",
              "<style scoped>\n",
              "    .dataframe tbody tr th:only-of-type {\n",
              "        vertical-align: middle;\n",
              "    }\n",
              "\n",
              "    .dataframe tbody tr th {\n",
              "        vertical-align: top;\n",
              "    }\n",
              "\n",
              "    .dataframe thead th {\n",
              "        text-align: right;\n",
              "    }\n",
              "</style>\n",
              "<table border=\"1\" class=\"dataframe\">\n",
              "  <thead>\n",
              "    <tr style=\"text-align: right;\">\n",
              "      <th></th>\n",
              "      <th>title</th>\n",
              "      <th>release_date</th>\n",
              "      <th>imdb_url</th>\n",
              "      <th>action</th>\n",
              "      <th>adventure</th>\n",
              "      <th>animation</th>\n",
              "      <th>children</th>\n",
              "      <th>comedy</th>\n",
              "      <th>crime</th>\n",
              "      <th>documentary</th>\n",
              "      <th>...</th>\n",
              "      <th>film_noir</th>\n",
              "      <th>horror</th>\n",
              "      <th>musical</th>\n",
              "      <th>mystery</th>\n",
              "      <th>romance</th>\n",
              "      <th>sci_fi</th>\n",
              "      <th>thriller</th>\n",
              "      <th>war</th>\n",
              "      <th>western</th>\n",
              "      <th>year</th>\n",
              "    </tr>\n",
              "    <tr>\n",
              "      <th>movie_id</th>\n",
              "      <th></th>\n",
              "      <th></th>\n",
              "      <th></th>\n",
              "      <th></th>\n",
              "      <th></th>\n",
              "      <th></th>\n",
              "      <th></th>\n",
              "      <th></th>\n",
              "      <th></th>\n",
              "      <th></th>\n",
              "      <th></th>\n",
              "      <th></th>\n",
              "      <th></th>\n",
              "      <th></th>\n",
              "      <th></th>\n",
              "      <th></th>\n",
              "      <th></th>\n",
              "      <th></th>\n",
              "      <th></th>\n",
              "      <th></th>\n",
              "      <th></th>\n",
              "    </tr>\n",
              "  </thead>\n",
              "  <tbody>\n",
              "    <tr>\n",
              "      <th>144</th>\n",
              "      <td>Die Hard (1988)</td>\n",
              "      <td>1988-01-01</td>\n",
              "      <td>http://us.imdb.com/M/title-exact?Die%20Hard%20...</td>\n",
              "      <td>1</td>\n",
              "      <td>0</td>\n",
              "      <td>0</td>\n",
              "      <td>0</td>\n",
              "      <td>0</td>\n",
              "      <td>0</td>\n",
              "      <td>0</td>\n",
              "      <td>...</td>\n",
              "      <td>0</td>\n",
              "      <td>0</td>\n",
              "      <td>0</td>\n",
              "      <td>0</td>\n",
              "      <td>0</td>\n",
              "      <td>0</td>\n",
              "      <td>1</td>\n",
              "      <td>0</td>\n",
              "      <td>0</td>\n",
              "      <td>1988.0</td>\n",
              "    </tr>\n",
              "    <tr>\n",
              "      <th>226</th>\n",
              "      <td>Die Hard 2 (1990)</td>\n",
              "      <td>1990-01-01</td>\n",
              "      <td>http://us.imdb.com/M/title-exact?Die%20Hard%20...</td>\n",
              "      <td>1</td>\n",
              "      <td>0</td>\n",
              "      <td>0</td>\n",
              "      <td>0</td>\n",
              "      <td>0</td>\n",
              "      <td>0</td>\n",
              "      <td>0</td>\n",
              "      <td>...</td>\n",
              "      <td>0</td>\n",
              "      <td>0</td>\n",
              "      <td>0</td>\n",
              "      <td>0</td>\n",
              "      <td>0</td>\n",
              "      <td>0</td>\n",
              "      <td>1</td>\n",
              "      <td>0</td>\n",
              "      <td>0</td>\n",
              "      <td>1990.0</td>\n",
              "    </tr>\n",
              "    <tr>\n",
              "      <th>550</th>\n",
              "      <td>Die Hard: With a Vengeance (1995)</td>\n",
              "      <td>1995-01-01</td>\n",
              "      <td>http://us.imdb.com/M/title-exact?Die%20Hard:%2...</td>\n",
              "      <td>1</td>\n",
              "      <td>0</td>\n",
              "      <td>0</td>\n",
              "      <td>0</td>\n",
              "      <td>0</td>\n",
              "      <td>0</td>\n",
              "      <td>0</td>\n",
              "      <td>...</td>\n",
              "      <td>0</td>\n",
              "      <td>0</td>\n",
              "      <td>0</td>\n",
              "      <td>0</td>\n",
              "      <td>0</td>\n",
              "      <td>0</td>\n",
              "      <td>1</td>\n",
              "      <td>0</td>\n",
              "      <td>0</td>\n",
              "      <td>1995.0</td>\n",
              "    </tr>\n",
              "  </tbody>\n",
              "</table>\n",
              "<p>3 rows × 22 columns</p>\n",
              "</div>"
            ],
            "text/plain": [
              "                                      title release_date  \\\n",
              "movie_id                                                   \n",
              "144                         Die Hard (1988)   1988-01-01   \n",
              "226                       Die Hard 2 (1990)   1990-01-01   \n",
              "550       Die Hard: With a Vengeance (1995)   1995-01-01   \n",
              "\n",
              "                                                   imdb_url  action  \\\n",
              "movie_id                                                              \n",
              "144       http://us.imdb.com/M/title-exact?Die%20Hard%20...       1   \n",
              "226       http://us.imdb.com/M/title-exact?Die%20Hard%20...       1   \n",
              "550       http://us.imdb.com/M/title-exact?Die%20Hard:%2...       1   \n",
              "\n",
              "          adventure  animation  children  comedy  crime  documentary  ...  \\\n",
              "movie_id                                                              ...   \n",
              "144               0          0         0       0      0            0  ...   \n",
              "226               0          0         0       0      0            0  ...   \n",
              "550               0          0         0       0      0            0  ...   \n",
              "\n",
              "          film_noir  horror  musical  mystery  romance  sci_fi  thriller  war  \\\n",
              "movie_id                                                                        \n",
              "144               0       0        0        0        0       0         1    0   \n",
              "226               0       0        0        0        0       0         1    0   \n",
              "550               0       0        0        0        0       0         1    0   \n",
              "\n",
              "          western    year  \n",
              "movie_id                   \n",
              "144             0  1988.0  \n",
              "226             0  1990.0  \n",
              "550             0  1995.0  \n",
              "\n",
              "[3 rows x 22 columns]"
            ]
          },
          "execution_count": 259,
          "metadata": {},
          "output_type": "execute_result"
        }
      ],
      "source": [
        "df[df.title.str.contains('Die Hard')]"
      ]
    },
    {
      "cell_type": "markdown",
      "metadata": {
        "id": "0-ULK1fkDCe-"
      },
      "source": [
        "A Die Hard 4 és 5 hiányzik. Kilógnának az adatsorból? Nézzük meg még egyszer, hogy mikori filmek szerepelnek."
      ]
    },
    {
      "cell_type": "code",
      "execution_count": 260,
      "metadata": {
        "colab": {
          "base_uri": "https://localhost:8080/"
        },
        "id": "dR7MWKuaDCe-",
        "outputId": "f4b1cdd8-250e-4657-a600-353118477dbb"
      },
      "outputs": [
        {
          "data": {
            "text/plain": [
              "count                             1681\n",
              "mean     1989-07-16 12:53:32.373587072\n",
              "min                1922-01-01 00:00:00\n",
              "25%                1993-01-01 00:00:00\n",
              "50%                1995-01-01 00:00:00\n",
              "75%                1996-10-18 00:00:00\n",
              "max                1998-10-23 00:00:00\n",
              "Name: release_date, dtype: object"
            ]
          },
          "execution_count": 260,
          "metadata": {},
          "output_type": "execute_result"
        }
      ],
      "source": [
        "df.release_date.describe()"
      ]
    },
    {
      "cell_type": "markdown",
      "metadata": {
        "id": "dNDo-EZsDCfB"
      },
      "source": [
        "A Die Hard 4 és 5 2007-ben, illetve 2013-ban jelentek meg, ezért nem szerepelnek az adatban."
      ]
    },
    {
      "cell_type": "markdown",
      "metadata": {
        "id": "GxNZ-6_4DCfC"
      },
      "source": [
        "### Melyik filmek tartoznak egyszerre az akció és romantikus kategóriába?"
      ]
    },
    {
      "cell_type": "code",
      "execution_count": 261,
      "metadata": {
        "colab": {
          "base_uri": "https://localhost:8080/",
          "height": 0
        },
        "id": "y5lNA16oDCfD",
        "outputId": "8990de79-66a3-4700-a4e9-d5e8cb4b8c56"
      },
      "outputs": [
        {
          "name": "stdout",
          "output_type": "stream",
          "text": [
            "25\n"
          ]
        },
        {
          "data": {
            "text/html": [
              "<div>\n",
              "<style scoped>\n",
              "    .dataframe tbody tr th:only-of-type {\n",
              "        vertical-align: middle;\n",
              "    }\n",
              "\n",
              "    .dataframe tbody tr th {\n",
              "        vertical-align: top;\n",
              "    }\n",
              "\n",
              "    .dataframe thead th {\n",
              "        text-align: right;\n",
              "    }\n",
              "</style>\n",
              "<table border=\"1\" class=\"dataframe\">\n",
              "  <thead>\n",
              "    <tr style=\"text-align: right;\">\n",
              "      <th></th>\n",
              "      <th>title</th>\n",
              "      <th>release_date</th>\n",
              "      <th>imdb_url</th>\n",
              "      <th>action</th>\n",
              "      <th>adventure</th>\n",
              "      <th>animation</th>\n",
              "      <th>children</th>\n",
              "      <th>comedy</th>\n",
              "      <th>crime</th>\n",
              "      <th>documentary</th>\n",
              "      <th>...</th>\n",
              "      <th>film_noir</th>\n",
              "      <th>horror</th>\n",
              "      <th>musical</th>\n",
              "      <th>mystery</th>\n",
              "      <th>romance</th>\n",
              "      <th>sci_fi</th>\n",
              "      <th>thriller</th>\n",
              "      <th>war</th>\n",
              "      <th>western</th>\n",
              "      <th>year</th>\n",
              "    </tr>\n",
              "    <tr>\n",
              "      <th>movie_id</th>\n",
              "      <th></th>\n",
              "      <th></th>\n",
              "      <th></th>\n",
              "      <th></th>\n",
              "      <th></th>\n",
              "      <th></th>\n",
              "      <th></th>\n",
              "      <th></th>\n",
              "      <th></th>\n",
              "      <th></th>\n",
              "      <th></th>\n",
              "      <th></th>\n",
              "      <th></th>\n",
              "      <th></th>\n",
              "      <th></th>\n",
              "      <th></th>\n",
              "      <th></th>\n",
              "      <th></th>\n",
              "      <th></th>\n",
              "      <th></th>\n",
              "      <th></th>\n",
              "    </tr>\n",
              "  </thead>\n",
              "  <tbody>\n",
              "    <tr>\n",
              "      <th>33</th>\n",
              "      <td>Desperado (1995)</td>\n",
              "      <td>1995-01-01</td>\n",
              "      <td>http://us.imdb.com/M/title-exact?Desperado%20(...</td>\n",
              "      <td>1</td>\n",
              "      <td>0</td>\n",
              "      <td>0</td>\n",
              "      <td>0</td>\n",
              "      <td>0</td>\n",
              "      <td>0</td>\n",
              "      <td>0</td>\n",
              "      <td>...</td>\n",
              "      <td>0</td>\n",
              "      <td>0</td>\n",
              "      <td>0</td>\n",
              "      <td>0</td>\n",
              "      <td>1</td>\n",
              "      <td>0</td>\n",
              "      <td>1</td>\n",
              "      <td>0</td>\n",
              "      <td>0</td>\n",
              "      <td>1995.0</td>\n",
              "    </tr>\n",
              "    <tr>\n",
              "      <th>50</th>\n",
              "      <td>Star Wars (1977)</td>\n",
              "      <td>1977-01-01</td>\n",
              "      <td>http://us.imdb.com/M/title-exact?Star%20Wars%2...</td>\n",
              "      <td>1</td>\n",
              "      <td>1</td>\n",
              "      <td>0</td>\n",
              "      <td>0</td>\n",
              "      <td>0</td>\n",
              "      <td>0</td>\n",
              "      <td>0</td>\n",
              "      <td>...</td>\n",
              "      <td>0</td>\n",
              "      <td>0</td>\n",
              "      <td>0</td>\n",
              "      <td>0</td>\n",
              "      <td>1</td>\n",
              "      <td>1</td>\n",
              "      <td>0</td>\n",
              "      <td>1</td>\n",
              "      <td>0</td>\n",
              "      <td>1977.0</td>\n",
              "    </tr>\n",
              "    <tr>\n",
              "      <th>68</th>\n",
              "      <td>Crow, The (1994)</td>\n",
              "      <td>1994-01-01</td>\n",
              "      <td>http://us.imdb.com/M/title-exact?Crow,%20The%2...</td>\n",
              "      <td>1</td>\n",
              "      <td>0</td>\n",
              "      <td>0</td>\n",
              "      <td>0</td>\n",
              "      <td>0</td>\n",
              "      <td>0</td>\n",
              "      <td>0</td>\n",
              "      <td>...</td>\n",
              "      <td>0</td>\n",
              "      <td>0</td>\n",
              "      <td>0</td>\n",
              "      <td>0</td>\n",
              "      <td>1</td>\n",
              "      <td>0</td>\n",
              "      <td>1</td>\n",
              "      <td>0</td>\n",
              "      <td>0</td>\n",
              "      <td>1994.0</td>\n",
              "    </tr>\n",
              "    <tr>\n",
              "      <th>92</th>\n",
              "      <td>True Romance (1993)</td>\n",
              "      <td>1993-01-01</td>\n",
              "      <td>http://us.imdb.com/M/title-exact?True%20Romanc...</td>\n",
              "      <td>1</td>\n",
              "      <td>0</td>\n",
              "      <td>0</td>\n",
              "      <td>0</td>\n",
              "      <td>0</td>\n",
              "      <td>1</td>\n",
              "      <td>0</td>\n",
              "      <td>...</td>\n",
              "      <td>0</td>\n",
              "      <td>0</td>\n",
              "      <td>0</td>\n",
              "      <td>0</td>\n",
              "      <td>1</td>\n",
              "      <td>0</td>\n",
              "      <td>0</td>\n",
              "      <td>0</td>\n",
              "      <td>0</td>\n",
              "      <td>1993.0</td>\n",
              "    </tr>\n",
              "    <tr>\n",
              "      <th>161</th>\n",
              "      <td>Top Gun (1986)</td>\n",
              "      <td>1986-01-01</td>\n",
              "      <td>http://us.imdb.com/M/title-exact?Top%20Gun%20(...</td>\n",
              "      <td>1</td>\n",
              "      <td>0</td>\n",
              "      <td>0</td>\n",
              "      <td>0</td>\n",
              "      <td>0</td>\n",
              "      <td>0</td>\n",
              "      <td>0</td>\n",
              "      <td>...</td>\n",
              "      <td>0</td>\n",
              "      <td>0</td>\n",
              "      <td>0</td>\n",
              "      <td>0</td>\n",
              "      <td>1</td>\n",
              "      <td>0</td>\n",
              "      <td>0</td>\n",
              "      <td>0</td>\n",
              "      <td>0</td>\n",
              "      <td>1986.0</td>\n",
              "    </tr>\n",
              "  </tbody>\n",
              "</table>\n",
              "<p>5 rows × 22 columns</p>\n",
              "</div>"
            ],
            "text/plain": [
              "                        title release_date  \\\n",
              "movie_id                                     \n",
              "33           Desperado (1995)   1995-01-01   \n",
              "50           Star Wars (1977)   1977-01-01   \n",
              "68           Crow, The (1994)   1994-01-01   \n",
              "92        True Romance (1993)   1993-01-01   \n",
              "161            Top Gun (1986)   1986-01-01   \n",
              "\n",
              "                                                   imdb_url  action  \\\n",
              "movie_id                                                              \n",
              "33        http://us.imdb.com/M/title-exact?Desperado%20(...       1   \n",
              "50        http://us.imdb.com/M/title-exact?Star%20Wars%2...       1   \n",
              "68        http://us.imdb.com/M/title-exact?Crow,%20The%2...       1   \n",
              "92        http://us.imdb.com/M/title-exact?True%20Romanc...       1   \n",
              "161       http://us.imdb.com/M/title-exact?Top%20Gun%20(...       1   \n",
              "\n",
              "          adventure  animation  children  comedy  crime  documentary  ...  \\\n",
              "movie_id                                                              ...   \n",
              "33                0          0         0       0      0            0  ...   \n",
              "50                1          0         0       0      0            0  ...   \n",
              "68                0          0         0       0      0            0  ...   \n",
              "92                0          0         0       0      1            0  ...   \n",
              "161               0          0         0       0      0            0  ...   \n",
              "\n",
              "          film_noir  horror  musical  mystery  romance  sci_fi  thriller  war  \\\n",
              "movie_id                                                                        \n",
              "33                0       0        0        0        1       0         1    0   \n",
              "50                0       0        0        0        1       1         0    1   \n",
              "68                0       0        0        0        1       0         1    0   \n",
              "92                0       0        0        0        1       0         0    0   \n",
              "161               0       0        0        0        1       0         0    0   \n",
              "\n",
              "          western    year  \n",
              "movie_id                   \n",
              "33              0  1995.0  \n",
              "50              0  1977.0  \n",
              "68              0  1994.0  \n",
              "92              0  1993.0  \n",
              "161             0  1986.0  \n",
              "\n",
              "[5 rows x 22 columns]"
            ]
          },
          "execution_count": 261,
          "metadata": {},
          "output_type": "execute_result"
        }
      ],
      "source": [
        "d = df[(df.action==1) & (df.romance==1)]\n",
        "print(len(d))\n",
        "d.head()"
      ]
    },
    {
      "cell_type": "markdown",
      "metadata": {
        "id": "V9QF1I9ODCfG"
      },
      "source": [
        "### Melyik filmek tartoznak az akció VAGY a romantikus kategóriába?\n",
        "\n",
        "Itt a Boole vagyra gondolunk."
      ]
    },
    {
      "cell_type": "code",
      "execution_count": 262,
      "metadata": {
        "colab": {
          "base_uri": "https://localhost:8080/",
          "height": 0
        },
        "id": "2t3Ga5MyDCfG",
        "outputId": "4660a44b-b878-4d5d-fcb9-4c42e1023a46"
      },
      "outputs": [
        {
          "name": "stdout",
          "output_type": "stream",
          "text": [
            "473\n"
          ]
        },
        {
          "data": {
            "text/html": [
              "<div>\n",
              "<style scoped>\n",
              "    .dataframe tbody tr th:only-of-type {\n",
              "        vertical-align: middle;\n",
              "    }\n",
              "\n",
              "    .dataframe tbody tr th {\n",
              "        vertical-align: top;\n",
              "    }\n",
              "\n",
              "    .dataframe thead th {\n",
              "        text-align: right;\n",
              "    }\n",
              "</style>\n",
              "<table border=\"1\" class=\"dataframe\">\n",
              "  <thead>\n",
              "    <tr style=\"text-align: right;\">\n",
              "      <th></th>\n",
              "      <th>title</th>\n",
              "      <th>release_date</th>\n",
              "      <th>imdb_url</th>\n",
              "      <th>action</th>\n",
              "      <th>adventure</th>\n",
              "      <th>animation</th>\n",
              "      <th>children</th>\n",
              "      <th>comedy</th>\n",
              "      <th>crime</th>\n",
              "      <th>documentary</th>\n",
              "      <th>...</th>\n",
              "      <th>film_noir</th>\n",
              "      <th>horror</th>\n",
              "      <th>musical</th>\n",
              "      <th>mystery</th>\n",
              "      <th>romance</th>\n",
              "      <th>sci_fi</th>\n",
              "      <th>thriller</th>\n",
              "      <th>war</th>\n",
              "      <th>western</th>\n",
              "      <th>year</th>\n",
              "    </tr>\n",
              "    <tr>\n",
              "      <th>movie_id</th>\n",
              "      <th></th>\n",
              "      <th></th>\n",
              "      <th></th>\n",
              "      <th></th>\n",
              "      <th></th>\n",
              "      <th></th>\n",
              "      <th></th>\n",
              "      <th></th>\n",
              "      <th></th>\n",
              "      <th></th>\n",
              "      <th></th>\n",
              "      <th></th>\n",
              "      <th></th>\n",
              "      <th></th>\n",
              "      <th></th>\n",
              "      <th></th>\n",
              "      <th></th>\n",
              "      <th></th>\n",
              "      <th></th>\n",
              "      <th></th>\n",
              "      <th></th>\n",
              "    </tr>\n",
              "  </thead>\n",
              "  <tbody>\n",
              "    <tr>\n",
              "      <th>2</th>\n",
              "      <td>GoldenEye (1995)</td>\n",
              "      <td>1995-01-01</td>\n",
              "      <td>http://us.imdb.com/M/title-exact?GoldenEye%20(...</td>\n",
              "      <td>1</td>\n",
              "      <td>1</td>\n",
              "      <td>0</td>\n",
              "      <td>0</td>\n",
              "      <td>0</td>\n",
              "      <td>0</td>\n",
              "      <td>0</td>\n",
              "      <td>...</td>\n",
              "      <td>0</td>\n",
              "      <td>0</td>\n",
              "      <td>0</td>\n",
              "      <td>0</td>\n",
              "      <td>0</td>\n",
              "      <td>0</td>\n",
              "      <td>1</td>\n",
              "      <td>0</td>\n",
              "      <td>0</td>\n",
              "      <td>1995.0</td>\n",
              "    </tr>\n",
              "    <tr>\n",
              "      <th>4</th>\n",
              "      <td>Get Shorty (1995)</td>\n",
              "      <td>1995-01-01</td>\n",
              "      <td>http://us.imdb.com/M/title-exact?Get%20Shorty%...</td>\n",
              "      <td>1</td>\n",
              "      <td>0</td>\n",
              "      <td>0</td>\n",
              "      <td>0</td>\n",
              "      <td>1</td>\n",
              "      <td>0</td>\n",
              "      <td>0</td>\n",
              "      <td>...</td>\n",
              "      <td>0</td>\n",
              "      <td>0</td>\n",
              "      <td>0</td>\n",
              "      <td>0</td>\n",
              "      <td>0</td>\n",
              "      <td>0</td>\n",
              "      <td>0</td>\n",
              "      <td>0</td>\n",
              "      <td>0</td>\n",
              "      <td>1995.0</td>\n",
              "    </tr>\n",
              "    <tr>\n",
              "      <th>14</th>\n",
              "      <td>Postino, Il (1994)</td>\n",
              "      <td>1994-01-01</td>\n",
              "      <td>http://us.imdb.com/M/title-exact?Postino,%20Il...</td>\n",
              "      <td>0</td>\n",
              "      <td>0</td>\n",
              "      <td>0</td>\n",
              "      <td>0</td>\n",
              "      <td>0</td>\n",
              "      <td>0</td>\n",
              "      <td>0</td>\n",
              "      <td>...</td>\n",
              "      <td>0</td>\n",
              "      <td>0</td>\n",
              "      <td>0</td>\n",
              "      <td>0</td>\n",
              "      <td>1</td>\n",
              "      <td>0</td>\n",
              "      <td>0</td>\n",
              "      <td>0</td>\n",
              "      <td>0</td>\n",
              "      <td>1994.0</td>\n",
              "    </tr>\n",
              "    <tr>\n",
              "      <th>16</th>\n",
              "      <td>French Twist (Gazon maudit) (1995)</td>\n",
              "      <td>1995-01-01</td>\n",
              "      <td>http://us.imdb.com/M/title-exact?Gazon%20maudi...</td>\n",
              "      <td>0</td>\n",
              "      <td>0</td>\n",
              "      <td>0</td>\n",
              "      <td>0</td>\n",
              "      <td>1</td>\n",
              "      <td>0</td>\n",
              "      <td>0</td>\n",
              "      <td>...</td>\n",
              "      <td>0</td>\n",
              "      <td>0</td>\n",
              "      <td>0</td>\n",
              "      <td>0</td>\n",
              "      <td>1</td>\n",
              "      <td>0</td>\n",
              "      <td>0</td>\n",
              "      <td>0</td>\n",
              "      <td>0</td>\n",
              "      <td>1995.0</td>\n",
              "    </tr>\n",
              "    <tr>\n",
              "      <th>17</th>\n",
              "      <td>From Dusk Till Dawn (1996)</td>\n",
              "      <td>1996-02-05</td>\n",
              "      <td>http://us.imdb.com/M/title-exact?From%20Dusk%2...</td>\n",
              "      <td>1</td>\n",
              "      <td>0</td>\n",
              "      <td>0</td>\n",
              "      <td>0</td>\n",
              "      <td>1</td>\n",
              "      <td>1</td>\n",
              "      <td>0</td>\n",
              "      <td>...</td>\n",
              "      <td>0</td>\n",
              "      <td>1</td>\n",
              "      <td>0</td>\n",
              "      <td>0</td>\n",
              "      <td>0</td>\n",
              "      <td>0</td>\n",
              "      <td>1</td>\n",
              "      <td>0</td>\n",
              "      <td>0</td>\n",
              "      <td>1996.0</td>\n",
              "    </tr>\n",
              "  </tbody>\n",
              "</table>\n",
              "<p>5 rows × 22 columns</p>\n",
              "</div>"
            ],
            "text/plain": [
              "                                       title release_date  \\\n",
              "movie_id                                                    \n",
              "2                           GoldenEye (1995)   1995-01-01   \n",
              "4                          Get Shorty (1995)   1995-01-01   \n",
              "14                        Postino, Il (1994)   1994-01-01   \n",
              "16        French Twist (Gazon maudit) (1995)   1995-01-01   \n",
              "17                From Dusk Till Dawn (1996)   1996-02-05   \n",
              "\n",
              "                                                   imdb_url  action  \\\n",
              "movie_id                                                              \n",
              "2         http://us.imdb.com/M/title-exact?GoldenEye%20(...       1   \n",
              "4         http://us.imdb.com/M/title-exact?Get%20Shorty%...       1   \n",
              "14        http://us.imdb.com/M/title-exact?Postino,%20Il...       0   \n",
              "16        http://us.imdb.com/M/title-exact?Gazon%20maudi...       0   \n",
              "17        http://us.imdb.com/M/title-exact?From%20Dusk%2...       1   \n",
              "\n",
              "          adventure  animation  children  comedy  crime  documentary  ...  \\\n",
              "movie_id                                                              ...   \n",
              "2                 1          0         0       0      0            0  ...   \n",
              "4                 0          0         0       1      0            0  ...   \n",
              "14                0          0         0       0      0            0  ...   \n",
              "16                0          0         0       1      0            0  ...   \n",
              "17                0          0         0       1      1            0  ...   \n",
              "\n",
              "          film_noir  horror  musical  mystery  romance  sci_fi  thriller  war  \\\n",
              "movie_id                                                                        \n",
              "2                 0       0        0        0        0       0         1    0   \n",
              "4                 0       0        0        0        0       0         0    0   \n",
              "14                0       0        0        0        1       0         0    0   \n",
              "16                0       0        0        0        1       0         0    0   \n",
              "17                0       1        0        0        0       0         1    0   \n",
              "\n",
              "          western    year  \n",
              "movie_id                   \n",
              "2               0  1995.0  \n",
              "4               0  1995.0  \n",
              "14              0  1994.0  \n",
              "16              0  1995.0  \n",
              "17              0  1996.0  \n",
              "\n",
              "[5 rows x 22 columns]"
            ]
          },
          "execution_count": 262,
          "metadata": {},
          "output_type": "execute_result"
        }
      ],
      "source": [
        "d = df[(df.action==1) | (df.romance==1)]\n",
        "print(len(d))\n",
        "d.head()"
      ]
    },
    {
      "cell_type": "markdown",
      "metadata": {
        "deletable": false,
        "editable": false,
        "id": "EFibemLGDCfI",
        "nbgrader": {
          "checksum": "794775487fd5d1a40e72cab5c415d0d2",
          "grade": false,
          "grade_id": "cell-83664848351a0968",
          "locked": true,
          "schema_version": 1,
          "solution": false
        }
      },
      "source": [
        "# 1. feladat: egyszerű lekérdezések\n",
        "\n",
        "## Q1.1. Hány akciófilm jelent meg 1985 előtt, illetve 1985-ben vagy később?"
      ]
    },
    {
      "cell_type": "code",
      "execution_count": 263,
      "metadata": {
        "deletable": false,
        "id": "LASN7o-RDCfJ",
        "nbgrader": {
          "checksum": "a8d49ef435a03df8d2bcffbd8d87e2f2",
          "grade": false,
          "grade_id": "cell-abde75970957d2cb",
          "locked": false,
          "schema_version": 1,
          "solution": true
        }
      },
      "outputs": [],
      "source": [
        "def count_movies_before_1985(df):\n",
        "    # YOUR CODE HERE\n",
        "    raise NotImplementedError()\n",
        "    \n",
        "def count_movies_after_1984(df):\n",
        "    # YOUR CODE HERE\n",
        "    raise NotImplementedError()"
      ]
    },
    {
      "cell_type": "code",
      "execution_count": null,
      "metadata": {
        "colab": {
          "base_uri": "https://localhost:8080/",
          "height": 357
        },
        "deletable": false,
        "editable": false,
        "id": "XcRkJuVPDCfL",
        "nbgrader": {
          "checksum": "bb8e48e78102bd3ebb1f11f0c358a7b6",
          "grade": true,
          "grade_id": "cell-90380c100c2c99e4",
          "locked": true,
          "points": 2,
          "schema_version": 1,
          "solution": false
        },
        "outputId": "d99637ed-0089-46b2-add8-c697adbabb00"
      },
      "outputs": [],
      "source": [
        "before = count_movies_before_1985(df)\n",
        "print(before)\n",
        "assert type(before) == int\n",
        "\n",
        "after = count_movies_after_1984(df)\n",
        "print(after)\n",
        "assert type(after) == int"
      ]
    },
    {
      "cell_type": "markdown",
      "metadata": {
        "collapsed": true,
        "id": "PX_GKw4SDCfN"
      },
      "source": [
        "## Q1.2. Létezik-e gyerekeknek szóló thriller? Keress egy példát rá és térj vissza a film címével."
      ]
    },
    {
      "cell_type": "code",
      "execution_count": null,
      "metadata": {
        "deletable": false,
        "id": "jRCBl6TYDCfN",
        "nbgrader": {
          "checksum": "de3efd3e234bad2c9e0a269a1a59feb4",
          "grade": false,
          "grade_id": "cell-7d6998016cab5cd9",
          "locked": false,
          "schema_version": 1,
          "solution": true
        }
      },
      "outputs": [],
      "source": [
        "def child_thriller(df):\n",
        "    # YOUR CODE HERE\n",
        "    raise NotImplementedError()"
      ]
    },
    {
      "cell_type": "code",
      "execution_count": null,
      "metadata": {
        "deletable": false,
        "editable": false,
        "id": "nUqmTI5LDCfP",
        "nbgrader": {
          "checksum": "ef50f7d63580a8c6c4ad86cd2b299d9e",
          "grade": true,
          "grade_id": "cell-cbb321ba78e5eed5",
          "locked": true,
          "points": 2,
          "schema_version": 1,
          "solution": false
        }
      },
      "outputs": [],
      "source": [
        "title = child_thriller(df)\n",
        "assert type(title) == str"
      ]
    },
    {
      "cell_type": "markdown",
      "metadata": {
        "collapsed": true,
        "id": "9GTC6FXtDCfR"
      },
      "source": [
        "## Q1.3. Hány filmnek hosszabb a címe, mint 30 karakter?"
      ]
    },
    {
      "cell_type": "code",
      "execution_count": null,
      "metadata": {
        "deletable": false,
        "id": "uv319yqMDCfS",
        "nbgrader": {
          "checksum": "3851df6b38d0c8150d0ecc8f3deb4d9e",
          "grade": false,
          "grade_id": "cell-7480c2cb962bc996",
          "locked": false,
          "schema_version": 1,
          "solution": true
        }
      },
      "outputs": [],
      "source": [
        "def long_titles(df):\n",
        "    # YOUR CODE HERE\n",
        "    raise NotImplementedError()"
      ]
    },
    {
      "cell_type": "code",
      "execution_count": null,
      "metadata": {
        "deletable": false,
        "editable": false,
        "id": "mR-3uHnbDCfU",
        "nbgrader": {
          "checksum": "695639339697d688dec916a9715bd3ad",
          "grade": true,
          "grade_id": "cell-073da9a4a0ec716b",
          "locked": true,
          "points": 2,
          "schema_version": 1,
          "solution": false
        }
      },
      "outputs": [],
      "source": [
        "title_cnt = long_titles(df)\n",
        "assert type(title_cnt) == int"
      ]
    },
    {
      "cell_type": "markdown",
      "metadata": {
        "id": "MXH2FByiDCfV"
      },
      "source": [
        "## Q1.4. Mi a legrégebbi és a legújabb film címe?\n",
        "\n",
        "A megjelenésnek nem csak éve van!"
      ]
    },
    {
      "cell_type": "code",
      "execution_count": null,
      "metadata": {
        "deletable": false,
        "id": "urDUsGUqDCfY",
        "nbgrader": {
          "checksum": "2791ddb8e2f2968d1f6fe4329173c259",
          "grade": false,
          "grade_id": "cell-db89cfcda5c6fb31",
          "locked": false,
          "schema_version": 1,
          "solution": true
        }
      },
      "outputs": [],
      "source": [
        "def oldest_movie(df):\n",
        "    # YOUR CODE HERE\n",
        "    raise NotImplementedError()\n",
        "\n",
        "def newest_movie(df):\n",
        "    # YOUR CODE HERE\n",
        "    raise NotImplementedError()"
      ]
    },
    {
      "cell_type": "code",
      "execution_count": null,
      "metadata": {
        "deletable": false,
        "editable": false,
        "id": "Bx2EIrvTDCfb",
        "nbgrader": {
          "checksum": "2c17a680319291981704cf5437f19fce",
          "grade": true,
          "grade_id": "cell-03b3ff7a443c1f34",
          "locked": true,
          "points": 2,
          "schema_version": 1,
          "solution": false
        }
      },
      "outputs": [],
      "source": [
        "oldest = oldest_movie(df)\n",
        "newest = newest_movie(df)\n",
        "\n",
        "assert type(oldest) == str\n",
        "assert type(newest) == str"
      ]
    },
    {
      "cell_type": "markdown",
      "metadata": {
        "id": "ixIK_Q5aDCfe"
      },
      "source": [
        "## Q1.5. Melyik a legújabb sci-fi?"
      ]
    },
    {
      "cell_type": "code",
      "execution_count": null,
      "metadata": {
        "deletable": false,
        "id": "PJlxtzg7DCff",
        "nbgrader": {
          "checksum": "1c100d0a3f7f39af248257fca9c13817",
          "grade": false,
          "grade_id": "cell-70ec6b26d5705422",
          "locked": false,
          "schema_version": 1,
          "solution": true
        }
      },
      "outputs": [],
      "source": [
        "def newest_scifi(df):\n",
        "    # YOUR CODE HERE\n",
        "    raise NotImplementedError()"
      ]
    },
    {
      "cell_type": "code",
      "execution_count": null,
      "metadata": {
        "deletable": false,
        "editable": false,
        "id": "UgWZKkGEDCfh",
        "nbgrader": {
          "checksum": "258184942d372f64e2a04f5d638fcb44",
          "grade": true,
          "grade_id": "cell-eeae9ee18c8b9329",
          "locked": true,
          "points": 2,
          "schema_version": 1,
          "solution": false
        }
      },
      "outputs": [],
      "source": [
        "newest = newest_scifi(df)\n",
        "assert type(newest) == str"
      ]
    },
    {
      "cell_type": "markdown",
      "metadata": {
        "id": "e-oH9d7RDCfk"
      },
      "source": [
        "# Csoportosítás és vizualizáció"
      ]
    },
    {
      "cell_type": "markdown",
      "metadata": {
        "id": "Y-Avrov1DCfk"
      },
      "source": [
        "## Hány filmet adtak ki évente?\n",
        "\n",
        "A kérdést két lépésben tudjuk megválaszolni:\n",
        "\n",
        "1. csoportosítás évenként\n",
        "2. összesítés 1-1 évre\n"
      ]
    },
    {
      "cell_type": "code",
      "execution_count": null,
      "metadata": {
        "id": "VBgxew01DCfl"
      },
      "outputs": [],
      "source": [
        "df.groupby('year').size().plot()"
      ]
    },
    {
      "cell_type": "markdown",
      "metadata": {
        "id": "OkKltYR5DCfn"
      },
      "source": [
        "Vonaldiagram az alapértelmezett, de oszlopdiagramként informatívabb lenne."
      ]
    },
    {
      "cell_type": "code",
      "execution_count": null,
      "metadata": {
        "id": "Z2zOnZ5bDCfn"
      },
      "outputs": [],
      "source": [
        "df.groupby('year').size().plot(kind='bar')"
      ]
    },
    {
      "cell_type": "markdown",
      "metadata": {
        "id": "H_rm84w5DCfp"
      },
      "source": [
        "Lásztik, hogy a 80-as évek végén nőtt meg a kiadott filmek száma, kicsit közelítsünk rá. Ehhez először szűrni fogjuk a 1985 utáni filmeket, majd csoportosítva ábrázolni."
      ]
    },
    {
      "cell_type": "code",
      "execution_count": null,
      "metadata": {
        "id": "e6RDUuFQDCfp"
      },
      "outputs": [],
      "source": [
        "d = df[df.year > 1985]\n",
        "d.groupby('year').size().plot(kind='bar')\n",
        "# df[df.year > 1985].groupby('year').size().plot(kind='bar')  # vagy egy sorban"
      ]
    },
    {
      "cell_type": "markdown",
      "metadata": {
        "id": "SIv8vpgfDCfs"
      },
      "source": [
        "## Groupby tetszőleges feltétel szerint\n",
        "\n",
        "Nem csak egy kategóriaértékű oszlop szerint csoportosíthatunk, hanem tetszőleges kifejezés szerint. Ezt kihasználva fogunk évtizedenként csoportosítani. A groupby-nak bármilyen kifejezést megadhatunk, ami diszkrét értékekre képezi le a sorokat, tehát véges sok csoport egyikébe helyezi (mint egy hash függvény).\n",
        "\n",
        "Az évtizedet úgy kaphatjuk meg, ha az évet 10-zel osztjuk és csak az egészrészt tartjuk meg, hiszen 1983/10 és 1984/10 egészrésze ugyanúgy 198. Használjuk a Python egészosztás operátorát (//)."
      ]
    },
    {
      "cell_type": "code",
      "execution_count": null,
      "metadata": {
        "id": "3bUzxlCHDCft"
      },
      "outputs": [],
      "source": [
        "d = df.groupby(df.year // 10 * 10)\n",
        "d.groups.keys()  # létrejött csoportok listázása"
      ]
    },
    {
      "cell_type": "code",
      "execution_count": null,
      "metadata": {
        "id": "XdL02rlsDCfu"
      },
      "outputs": [],
      "source": [
        "d.size().plot(kind='bar')"
      ]
    },
    {
      "cell_type": "markdown",
      "metadata": {
        "collapsed": true,
        "id": "FfFLoA1KDCfw"
      },
      "source": [
        "# 2. feladat: csoportosítás és vizualizáció\n",
        "\n",
        "## Q2.1. Csoportosítsd vígjátékokat (comedy) évenként. Ábrázold oszlopdiagramon hány vígjátékot adtak ki évente."
      ]
    },
    {
      "cell_type": "code",
      "execution_count": null,
      "metadata": {
        "deletable": false,
        "id": "ApaihX4bDCfw",
        "nbgrader": {
          "checksum": "be8d1d71406b33b08aa7200aa81ba5c4",
          "grade": false,
          "grade_id": "cell-c10e5a08055ccda8",
          "locked": false,
          "schema_version": 1,
          "solution": true
        }
      },
      "outputs": [],
      "source": [
        "def comedy_by_year(df):\n",
        "    # YOUR CODE HERE\n",
        "    raise NotImplementedError()"
      ]
    },
    {
      "cell_type": "code",
      "execution_count": null,
      "metadata": {
        "deletable": false,
        "editable": false,
        "id": "ylC2t1ktDCfy",
        "nbgrader": {
          "checksum": "2bff52040d9c83abd2826e93e200f615",
          "grade": true,
          "grade_id": "cell-807aa8d0d6a6bfc1",
          "locked": true,
          "points": 1,
          "schema_version": 1,
          "solution": false
        }
      },
      "outputs": [],
      "source": [
        "c = comedy_by_year(df)\n",
        "assert type(c) == pd.core.groupby.DataFrameGroupBy"
      ]
    },
    {
      "cell_type": "markdown",
      "metadata": {
        "id": "0tHcDA0ODCf0"
      },
      "source": [
        "### Ábrázold."
      ]
    },
    {
      "cell_type": "code",
      "execution_count": null,
      "metadata": {
        "deletable": false,
        "id": "Y3lOjfJoDCf1",
        "nbgrader": {
          "checksum": "80917f3a05ad5692f978d35ef2b19356",
          "grade": true,
          "grade_id": "cell-140b896a5eb168c2",
          "locked": false,
          "points": 1,
          "schema_version": 1,
          "solution": true
        }
      },
      "outputs": [],
      "source": [
        "# YOUR CODE HERE\n",
        "raise NotImplementedError()"
      ]
    },
    {
      "cell_type": "markdown",
      "metadata": {
        "collapsed": true,
        "id": "ZjxhLbXWDCf2"
      },
      "source": [
        "## Gyerekfilmet vagy krimit adnak ki többet évtizedenként?"
      ]
    },
    {
      "cell_type": "code",
      "execution_count": null,
      "metadata": {
        "id": "l_M13G8HDCf2"
      },
      "outputs": [],
      "source": [
        "col1 = 'children'\n",
        "col2 = 'crime'\n",
        "d = df[['year', col1, col2]].copy()\n",
        "d['diff'] = d[col1] - d[col2]\n",
        "d.groupby(d.year // 10 * 10).sum()"
      ]
    },
    {
      "cell_type": "code",
      "execution_count": null,
      "metadata": {
        "id": "ZPmUp3ZbDCf4"
      },
      "outputs": [],
      "source": [
        "d.groupby(d.year // 10 * 10).sum().plot(y='diff', kind='bar')"
      ]
    },
    {
      "cell_type": "markdown",
      "metadata": {
        "collapsed": true,
        "id": "6Nt-mHYGDCf5"
      },
      "source": [
        "A 90-es években több filmet adtak ki, mint előtte összesen, nézzük meg azt az évtizedet közelebbről!"
      ]
    },
    {
      "cell_type": "markdown",
      "metadata": {
        "id": "VqzaQf-HDCf5"
      },
      "source": [
        "## Q2.2. Mennyivel adtak ki több gyerekfilmet, mint krimit *évente* a 90-es években? Ábrázold.\n",
        "\n",
        "Először a szűrt groupby-t készítsd el az imént létrhozott `d` `DataFrame`-ből."
      ]
    },
    {
      "cell_type": "code",
      "execution_count": null,
      "metadata": {
        "deletable": false,
        "id": "Hd7OYkCKDCf6",
        "nbgrader": {
          "checksum": "ac74ffafba0296a080ccc610c0d65a47",
          "grade": false,
          "grade_id": "cell-7c0a00a23a0d4571",
          "locked": false,
          "schema_version": 1,
          "solution": true
        }
      },
      "outputs": [],
      "source": [
        "def groupby_nineties(d):\n",
        "    # YOUR CODE HERE\n",
        "    raise NotImplementedError()"
      ]
    },
    {
      "cell_type": "code",
      "execution_count": null,
      "metadata": {
        "deletable": false,
        "editable": false,
        "id": "CSnvqQyqDCf7",
        "nbgrader": {
          "checksum": "74f6b565c663678b1e06a1c3403fce51",
          "grade": true,
          "grade_id": "cell-b2540f371e9031f2",
          "locked": true,
          "points": 1,
          "schema_version": 1,
          "solution": false
        }
      },
      "outputs": [],
      "source": [
        "nineties = groupby_nineties(d)\n",
        "assert type(nineties) == pd.core.groupby.DataFrameGroupBy\n",
        "\n",
        "# a diff oszlop szerepel\n",
        "assert 'diff' in nineties.sum()"
      ]
    },
    {
      "cell_type": "markdown",
      "metadata": {
        "id": "HuEryS-eDCf8"
      },
      "source": [
        "### Ábrázold."
      ]
    },
    {
      "cell_type": "code",
      "execution_count": null,
      "metadata": {
        "deletable": false,
        "id": "v_tfdVcaDCf9",
        "nbgrader": {
          "checksum": "51d69e2d32d3424b6ade8a8dc0539c7c",
          "grade": true,
          "grade_id": "cell-3e55984d23007a72",
          "locked": false,
          "points": 1,
          "schema_version": 1,
          "solution": true
        }
      },
      "outputs": [],
      "source": [
        "# YOUR CODE HERE\n",
        "raise NotImplementedError()"
      ]
    },
    {
      "cell_type": "markdown",
      "metadata": {
        "id": "4iRpSNYiDCf_"
      },
      "source": [
        "## Q2.3. Ábrázold a kiadási napok (hónap napjai) eloszlását egy tortadiagramon!\n",
        "\n",
        "Tortadiagramot a `plot` függvény `kind=\"pie\"` argumentumával tudsz készíteni.\n",
        "\n",
        "A tortadiagramhoz érdemes megváltoztatni a diagram képarányát, amit a plot függvény `figsize` paraméterének megadásával tehetsz meg. `figsize=(10,10)`. Százalékokat a `autopct=\"%.0lf%%\"` opcióval lehet a diagramra írni.\n",
        "\n",
        "A tortadiagramot szebbé teheted másik colormap választásával: [dokumentáció](http://pandas.pydata.org/pandas-docs/stable/visualization.html#colormaps) és a [colormapek listája](http://scipy.github.io/old-wiki/pages/Cookbook/Matplotlib/Show_colormaps)."
      ]
    },
    {
      "cell_type": "code",
      "execution_count": null,
      "metadata": {
        "deletable": false,
        "id": "K6uyFfj9DCgA",
        "nbgrader": {
          "checksum": "cc610af14cec9330d6cd862a367614cb",
          "grade": false,
          "grade_id": "cell-315ae1f679373727",
          "locked": false,
          "schema_version": 1,
          "solution": true
        }
      },
      "outputs": [],
      "source": [
        "def groupby_release_day(df):\n",
        "    # YOUR CODE HERE\n",
        "    raise NotImplementedError()"
      ]
    },
    {
      "cell_type": "code",
      "execution_count": null,
      "metadata": {
        "deletable": false,
        "editable": false,
        "id": "II-XeUn4DCgB",
        "nbgrader": {
          "checksum": "05ec9f6098c828dd93956a00cf5762e9",
          "grade": true,
          "grade_id": "cell-096bd0f71dd64737",
          "locked": true,
          "points": 1,
          "schema_version": 1,
          "solution": false
        }
      },
      "outputs": [],
      "source": [
        "by_day = groupby_release_day(df)\n",
        "assert type(by_day) == pd.core.groupby.DataFrameGroupBy\n",
        "\n",
        "# legfeljebb 31 napos egy hónap\n",
        "assert len(by_day) < 32\n",
        "\n",
        "# nehogy a hét napjai szerint csoportosítsunk\n",
        "assert len(by_day) > 7"
      ]
    },
    {
      "cell_type": "markdown",
      "metadata": {
        "id": "1J1xMmUvDCgC"
      },
      "source": [
        "### Ábrázold."
      ]
    },
    {
      "cell_type": "code",
      "execution_count": null,
      "metadata": {
        "deletable": false,
        "id": "5Jo84x7QDCgC",
        "nbgrader": {
          "checksum": "9f547fcc006ac4e3f509f92ba132d84c",
          "grade": true,
          "grade_id": "cell-6ec6a50f9b8f16ce",
          "locked": false,
          "points": 1,
          "schema_version": 1,
          "solution": true
        }
      },
      "outputs": [],
      "source": [
        "# YOUR CODE HERE\n",
        "raise NotImplementedError()"
      ]
    },
    {
      "cell_type": "markdown",
      "metadata": {
        "id": "tPb-PaCyDCgE"
      },
      "source": [
        "## Q2.4. Hagyományos lexikont szeretnénk készíteni a filmekből. Melyik kezdőbetű hányszor fordul elő a filmek címében? Ábrázold tortadiagramon.\n",
        "\n",
        "### Csoportosítsd a filmeket kezdőbetű szerint."
      ]
    },
    {
      "cell_type": "code",
      "execution_count": null,
      "metadata": {
        "deletable": false,
        "id": "T9uh8ObtDCgE",
        "nbgrader": {
          "checksum": "be4e5df09ed307a8bd77138a2325cec1",
          "grade": false,
          "grade_id": "cell-195ef56890ee5308",
          "locked": false,
          "schema_version": 1,
          "solution": true
        }
      },
      "outputs": [],
      "source": [
        "def groupby_initial_letter(df):\n",
        "    # YOUR CODE HERE\n",
        "    raise NotImplementedError()"
      ]
    },
    {
      "cell_type": "code",
      "execution_count": null,
      "metadata": {
        "deletable": false,
        "editable": false,
        "id": "1X-V90_JDCgF",
        "nbgrader": {
          "checksum": "41cc9b28cc9bb7e69dfc1b6facc41ab9",
          "grade": true,
          "grade_id": "cell-adf0cd4d7e02bbce",
          "locked": true,
          "points": 1,
          "schema_version": 1,
          "solution": false
        }
      },
      "outputs": [],
      "source": [
        "initial = groupby_initial_letter(df)\n",
        "\n",
        "assert type(initial) == pd.core.groupby.DataFrameGroupBy"
      ]
    },
    {
      "cell_type": "markdown",
      "metadata": {
        "id": "7X-TaYpbDCgI"
      },
      "source": [
        "### Ábrázold."
      ]
    },
    {
      "cell_type": "code",
      "execution_count": null,
      "metadata": {
        "deletable": false,
        "id": "UHxU2d2tDCgI",
        "nbgrader": {
          "checksum": "a19f66d4fdda83e2ce6d577fcff4062c",
          "grade": true,
          "grade_id": "cell-f0fffc87a2e19e12",
          "locked": false,
          "points": 1,
          "schema_version": 1,
          "solution": true
        }
      },
      "outputs": [],
      "source": [
        "# YOUR CODE HERE\n",
        "raise NotImplementedError()"
      ]
    },
    {
      "cell_type": "markdown",
      "metadata": {
        "id": "WAnzkDuuDCgK"
      },
      "source": [
        "## Q2.5. Írj függvényt, ami több oszlop mentén csoportosít és visszaadja a legnagyobb csoportot.\n",
        "\n",
        "Tipp: a `GroupBy` objektum `get_group` függvénye visszaad egy csoportot."
      ]
    },
    {
      "cell_type": "code",
      "execution_count": null,
      "metadata": {
        "deletable": false,
        "id": "SK1Uae_qDCgL",
        "nbgrader": {
          "checksum": "c64c4391204f80e449a4ee53e74d37dc",
          "grade": false,
          "grade_id": "cell-c579e9521b6eeb41",
          "locked": false,
          "schema_version": 1,
          "solution": true
        }
      },
      "outputs": [],
      "source": [
        "def get_largest_group(df, groupby_columns):\n",
        "    # YOUR CODE HERE\n",
        "    raise NotImplementedError()"
      ]
    },
    {
      "cell_type": "code",
      "execution_count": null,
      "metadata": {
        "deletable": false,
        "editable": false,
        "id": "0S5dkbfNDCgM",
        "nbgrader": {
          "checksum": "89337b207f37a7e68e8e30c29053a1f6",
          "grade": true,
          "grade_id": "cell-29cf58ac88388473",
          "locked": true,
          "points": 2,
          "schema_version": 1,
          "solution": false
        }
      },
      "outputs": [],
      "source": [
        "genres = [\"drama\"]\n",
        "drama_largest = get_largest_group(df, genres)\n",
        "\n",
        "assert type(drama_largest) == pd.DataFrame\n",
        "assert len(drama_largest) == 957\n",
        "\n",
        "genres = [\"drama\", \"comedy\"]\n",
        "both_largest = get_largest_group(df, genres)\n",
        "\n",
        "# a csoportban minden film comedy es drama cimkeje azonos\n",
        "assert both_largest[[\"comedy\", \"drama\"]].nunique().loc[\"comedy\"] == 1\n",
        "assert both_largest[[\"comedy\", \"drama\"]].nunique().loc[\"drama\"] == 1\n",
        "print(both_largest.shape)"
      ]
    },
    {
      "cell_type": "markdown",
      "metadata": {
        "id": "Dw732kbjDCgO"
      },
      "source": [
        "# Több DataFrame kezelése, pd.merge"
      ]
    },
    {
      "cell_type": "markdown",
      "metadata": {
        "id": "FQtVlQYPDCgO"
      },
      "source": [
        "Az adathalmaz lényegi része a 100000 értékelés, amit az u.data fájlból tudunk beolvasni. A README-ből kiolvashatjuk a fájl oszlopait."
      ]
    },
    {
      "cell_type": "code",
      "execution_count": null,
      "metadata": {
        "id": "6xOdoljGDCgO"
      },
      "outputs": [],
      "source": [
        "cols = ['user', 'movie_id', 'rating', 'timestamp']\n",
        "ratings = pd.read_table(os.path.join(data_dir, \"u.data\"), names=cols)"
      ]
    },
    {
      "cell_type": "code",
      "execution_count": null,
      "metadata": {
        "id": "oMncRA8eDCgQ"
      },
      "outputs": [],
      "source": [
        "ratings.head()"
      ]
    },
    {
      "cell_type": "markdown",
      "metadata": {
        "id": "76162XWRDCgR"
      },
      "source": [
        "A timestamp oszlop Unix timestampeket tartalmaz, konvertáljuk DateTime-má."
      ]
    },
    {
      "cell_type": "code",
      "execution_count": null,
      "metadata": {
        "id": "_Xat7zlADCgS"
      },
      "outputs": [],
      "source": [
        "ratings['timestamp'] = pd.to_datetime(ratings.timestamp, unit='s')\n",
        "ratings.head()"
      ]
    },
    {
      "cell_type": "markdown",
      "metadata": {
        "collapsed": true,
        "id": "uJAkmqZ6DCgT"
      },
      "source": [
        "## Merge a film táblával"
      ]
    },
    {
      "cell_type": "markdown",
      "metadata": {
        "id": "WvCpCI7IDCgU"
      },
      "source": [
        "Mivel már több DataFrame-mel dolgozunk, érdemes a filmeket tartalmazó táblának beszédesebb nevet adni."
      ]
    },
    {
      "cell_type": "code",
      "execution_count": null,
      "metadata": {
        "id": "l4OIo8AGDCgU"
      },
      "outputs": [],
      "source": [
        "movies = df"
      ]
    },
    {
      "cell_type": "markdown",
      "metadata": {
        "id": "yoiS6Xh0DCgV"
      },
      "source": [
        "Felülírjuk a ratings táblát:"
      ]
    },
    {
      "cell_type": "code",
      "execution_count": null,
      "metadata": {
        "id": "MUbjHQulDCgV"
      },
      "outputs": [],
      "source": [
        "ratings = pd.merge(ratings, movies, left_on='movie_id', right_index=True)\n",
        "ratings.head()"
      ]
    },
    {
      "cell_type": "markdown",
      "metadata": {
        "id": "8hf7U7chDCgW"
      },
      "source": [
        "## Hány értékelés érkezett a film megjelenése előtt?"
      ]
    },
    {
      "cell_type": "code",
      "execution_count": null,
      "metadata": {
        "id": "2_UrcmcrDCgX"
      },
      "outputs": [],
      "source": [
        "len(ratings[ratings.timestamp <= ratings.release_date])"
      ]
    },
    {
      "cell_type": "markdown",
      "metadata": {
        "id": "33T6yT-oDCga"
      },
      "source": [
        "## Hogy oszlik meg ez a szám a filmek között? "
      ]
    },
    {
      "cell_type": "code",
      "execution_count": null,
      "metadata": {
        "id": "n3DyQx1FDCgb"
      },
      "outputs": [],
      "source": [
        "ratings[ratings.timestamp <= ratings.release_date].title.value_counts()"
      ]
    },
    {
      "cell_type": "markdown",
      "metadata": {
        "id": "c6DAN0hQDCgc"
      },
      "source": [
        "# 3. feladat: merge\n",
        "\n",
        "## Q3.1. Hány film kapott legalább egyszer 4 fölötti értékelést?\n",
        "\n",
        "VIGYÁZAT! A filmek címe nem feltétlenül egyedi."
      ]
    },
    {
      "cell_type": "code",
      "execution_count": null,
      "metadata": {
        "deletable": false,
        "id": "jqO7nesEDCgc",
        "nbgrader": {
          "checksum": "085f89d27394d0ae19b45216759960b8",
          "grade": false,
          "grade_id": "cell-85e9dec05f71c070",
          "locked": false,
          "schema_version": 1,
          "solution": true
        }
      },
      "outputs": [],
      "source": [
        "def count_greater_than_4(ratings):\n",
        "    # YOUR CODE HERE\n",
        "    raise NotImplementedError()"
      ]
    },
    {
      "cell_type": "code",
      "execution_count": null,
      "metadata": {
        "deletable": false,
        "editable": false,
        "id": "IfPriFPsDCgd",
        "nbgrader": {
          "checksum": "9995e201ac6886a917afc32f4de6dfa5",
          "grade": true,
          "grade_id": "cell-c78934077414f26d",
          "locked": true,
          "points": 2,
          "schema_version": 1,
          "solution": false
        }
      },
      "outputs": [],
      "source": [
        "greater = count_greater_than_4(ratings)\n",
        "\n",
        "assert type(greater) == int\n",
        "assert greater != 1160  # titles are NOT UNIQUE"
      ]
    },
    {
      "cell_type": "markdown",
      "metadata": {
        "id": "28oB43RpDCge"
      },
      "source": [
        "## Hisztogram készítése az egyes értékelésekről\n",
        "\n",
        "Hisztogram készítésére (melyik érték hányszor szerepelt), a hist függvény áll rendelkezésünkre:"
      ]
    },
    {
      "cell_type": "code",
      "execution_count": null,
      "metadata": {
        "id": "zKl3bT_pDCge"
      },
      "outputs": [],
      "source": [
        "ratings.hist('rating', bins=5)"
      ]
    },
    {
      "cell_type": "markdown",
      "metadata": {
        "id": "qEhJShnzDCgf"
      },
      "source": [
        "## Q3.2. Ábrázold hisztogramon az 1960 előtti krimik értékeléseit!"
      ]
    },
    {
      "cell_type": "code",
      "execution_count": null,
      "metadata": {
        "deletable": false,
        "id": "5nSWlVdJDCgg",
        "nbgrader": {
          "checksum": "7664e34c48231f99cc0e44323a21a527",
          "grade": false,
          "grade_id": "cell-82bbc27fb2b886d4",
          "locked": false,
          "schema_version": 1,
          "solution": true
        }
      },
      "outputs": [],
      "source": [
        "def filter_old_crime_movies(ratings):\n",
        "    # YOUR CODE HERE\n",
        "    raise NotImplementedError()"
      ]
    },
    {
      "cell_type": "code",
      "execution_count": null,
      "metadata": {
        "deletable": false,
        "editable": false,
        "id": "O1RJcwyTDCgh",
        "nbgrader": {
          "checksum": "4f390cfea8e8d8d965e14b85dc851fde",
          "grade": true,
          "grade_id": "cell-404084fefeed11d9",
          "locked": true,
          "points": 1,
          "schema_version": 1,
          "solution": false
        }
      },
      "outputs": [],
      "source": [
        "old_crime_movies = filter_old_crime_movies(ratings)\n",
        "\n",
        "assert type(old_crime_movies) == pd.DataFrame"
      ]
    },
    {
      "cell_type": "markdown",
      "metadata": {
        "id": "XZt0JmD3DCgk"
      },
      "source": [
        "## Q3.3. Mi az értékelések átlaga évtizedenként (film megjelenési éve)? \n",
        "\n",
        "Figyelj arra, hogy csak annyi adat szerepeljen az összesítésben, amennyit a feladat kér. Az indexek legyenek az évtizedek kezdőévei."
      ]
    },
    {
      "cell_type": "code",
      "execution_count": null,
      "metadata": {
        "deletable": false,
        "id": "F2CnZYf0DCgk",
        "nbgrader": {
          "checksum": "21d988438d2feb9ac6e3afc8fdbeb3f8",
          "grade": false,
          "grade_id": "cell-decbc921ca930464",
          "locked": false,
          "schema_version": 1,
          "solution": true
        }
      },
      "outputs": [],
      "source": [
        "def rating_mean_by_decade(ratings):\n",
        "    # YOUR CODE HERE\n",
        "    raise NotImplementedError()"
      ]
    },
    {
      "cell_type": "code",
      "execution_count": null,
      "metadata": {
        "deletable": false,
        "editable": false,
        "id": "1ITd_uchDCgn",
        "nbgrader": {
          "checksum": "fb5e4cbe7864918a4aabe47c0fe31544",
          "grade": true,
          "grade_id": "cell-982a107959b04fcb",
          "locked": true,
          "points": 2,
          "schema_version": 1,
          "solution": false
        }
      },
      "outputs": [],
      "source": [
        "decade_mean = rating_mean_by_decade(ratings)\n",
        "\n",
        "# csak az ertekeles oszlop atalga erdekel minket, nem az egesz DataFrame-e\n",
        "assert not type(decade_mean) == pd.DataFrame\n",
        "assert type(decade_mean) == pd.Series\n",
        "assert 1920 in decade_mean.index\n",
        "assert 1921 not in decade_mean.index"
      ]
    },
    {
      "cell_type": "markdown",
      "metadata": {
        "id": "jINIPgDfDCgo"
      },
      "source": [
        "## Q3.4. Az értékelésekhez tartozik egy timestamp. Mi az értékelések átlaga a hét napjaira  lebontva?\n",
        "\n",
        "Tehát melyik napon jószívűbbek az emberek?\n",
        "\n",
        "Tipp: érdemes körbenézni a dátummezőkhöz tartozó `dt` névtérben."
      ]
    },
    {
      "cell_type": "code",
      "execution_count": null,
      "metadata": {
        "deletable": false,
        "id": "U5Ja4mtODCgo",
        "nbgrader": {
          "checksum": "59ad65b0533eb7982fc56cef0985ae65",
          "grade": false,
          "grade_id": "cell-834d55d50f7f0b46",
          "locked": false,
          "schema_version": 1,
          "solution": true
        }
      },
      "outputs": [],
      "source": [
        "def rating_mean_by_weekday(ratings):\n",
        "    # YOUR CODE HERE\n",
        "    raise NotImplementedError()"
      ]
    },
    {
      "cell_type": "code",
      "execution_count": null,
      "metadata": {
        "deletable": false,
        "editable": false,
        "id": "_lYE5yYgDCgr",
        "nbgrader": {
          "checksum": "9821cb15070fb1de971586f487fa3a7e",
          "grade": true,
          "grade_id": "cell-fe28d509139366c5",
          "locked": true,
          "points": 2,
          "schema_version": 1,
          "solution": false
        }
      },
      "outputs": [],
      "source": [
        "weekday_mean = rating_mean_by_weekday(ratings)\n",
        "\n",
        "assert type(weekday_mean) == pd.Series\n",
        "assert type(weekday_mean) != pd.DataFrame  # csak egy oszlop kell"
      ]
    },
    {
      "cell_type": "markdown",
      "metadata": {
        "id": "KzYdRsyIDCgs"
      },
      "source": [
        "## Q3.5. Melyik hónapban mennyi a kalandfilmek (adventure) értékeléseinek szórása? \n",
        "\n",
        "Vigyázat, a szórás és a variancia nem azonos!"
      ]
    },
    {
      "cell_type": "code",
      "execution_count": null,
      "metadata": {
        "deletable": false,
        "id": "DlGY5ZFSDCgs",
        "nbgrader": {
          "checksum": "243453c70ea4cc3787b5c2b748b7b928",
          "grade": false,
          "grade_id": "cell-740366a1e5685e43",
          "locked": false,
          "schema_version": 1,
          "solution": true
        }
      },
      "outputs": [],
      "source": [
        "def adventure_monthly_std(ratings):\n",
        "    # YOUR CODE HERE\n",
        "    raise NotImplementedError()"
      ]
    },
    {
      "cell_type": "code",
      "execution_count": null,
      "metadata": {
        "deletable": false,
        "editable": false,
        "id": "NFIdyWP0DCgt",
        "nbgrader": {
          "checksum": "229db57fdc101b6f1d476a7d521da857",
          "grade": true,
          "grade_id": "cell-2c59e52f7ed415e2",
          "locked": true,
          "points": 2,
          "schema_version": 1,
          "solution": false
        }
      },
      "outputs": [],
      "source": [
        "adventure = adventure_monthly_std(ratings)\n",
        "assert type(adventure) == pd.Series\n",
        "assert type(adventure) != pd.DataFrame\n",
        "\n",
        "# legfeljebb 12 különböző hónapban érkezhettek értékelések\n",
        "assert len(adventure) <= 12"
      ]
    }
  ],
  "metadata": {
    "colab": {
      "name": "02_01_Pandas_bevezeto.ipynb",
      "provenance": []
    },
    "kernelspec": {
      "display_name": "Python 3",
      "language": "python",
      "name": "python3"
    },
    "language_info": {
      "codemirror_mode": {
        "name": "ipython",
        "version": 3
      },
      "file_extension": ".py",
      "mimetype": "text/x-python",
      "name": "python",
      "nbconvert_exporter": "python",
      "pygments_lexer": "ipython3",
      "version": "3.13.1"
    }
  },
  "nbformat": 4,
  "nbformat_minor": 0
}
